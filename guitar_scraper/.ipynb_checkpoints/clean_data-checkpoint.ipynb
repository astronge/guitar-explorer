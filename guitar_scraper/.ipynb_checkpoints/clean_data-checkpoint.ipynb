{
 "cells": [
  {
   "cell_type": "markdown",
   "metadata": {},
   "source": [
    "# I. Import and clean data"
   ]
  },
  {
   "cell_type": "code",
   "execution_count": 4,
   "metadata": {
    "scrolled": false
   },
   "outputs": [
    {
     "name": "stdout",
     "output_type": "stream",
     "text": [
      "['data/guitar_data/guitar_data_caparison-guitars.json', 'data/guitar_data/guitar_data_charvel.json', 'data/guitar_data/guitar_data_daisy-rock.json', 'data/guitar_data/guitar_data_dangelico.json', 'data/guitar_data/guitar_data_dean.json', 'data/guitar_data/guitar_data_duesenberg-usa.json', 'data/guitar_data/guitar_data_epiphone.json', 'data/guitar_data/guitar_data_ernie-ball-music-man.json', 'data/guitar_data/guitar_data_esp.json', 'data/guitar_data/guitar_data_evh.json', 'data/guitar_data/guitar_data_fender-custom-shop.json', 'data/guitar_data/guitar_data_fender.json', 'data/guitar_data/guitar_data_friedman.json', 'data/guitar_data/guitar_data_gibson-custom.json', 'data/guitar_data/guitar_data_gibson.json', 'data/guitar_data/guitar_data_gl.json', 'data/guitar_data/guitar_data_gretsch-guitars.json', 'data/guitar_data/guitar_data_hagstrom.json', 'data/guitar_data/guitar_data_hamer.json', 'data/guitar_data/guitar_data_ibanez.json', 'data/guitar_data/guitar_data_jackson.json', 'data/guitar_data/guitar_data_kay-vintage-reissue-guitars.json', 'data/guitar_data/guitar_data_legator.json', 'data/guitar_data/guitar_data_line-6.json', 'data/guitar_data/guitar_data_mitchell.json', 'data/guitar_data/guitar_data_prs.json', 'data/guitar_data/guitar_data_reverend.json', 'data/guitar_data/guitar_data_schecter-guitar-research.json', 'data/guitar_data/guitar_data_squier.json', 'data/guitar_data/guitar_data_sterling-by-music-man.json', 'data/guitar_data/guitar_data_strandberg.json', 'data/guitar_data/guitar_data_teye-guitars.json', 'data/guitar_data/guitar_data_traveler-guitar.json', 'data/guitar_data/guitar_data_washburn.json', 'data/guitar_data/guitar_data_yamaha.json']\n"
     ]
    }
   ],
   "source": [
    "import json\n",
    "import os\n",
    "import pandas as pd\n",
    "import numpy as np\n",
    "import sys\n",
    "from pandas.io.json import json_normalize\n",
    "\n",
    "pd.set_option('display.max_columns', 600)\n",
    "pd.options.display.max_rows = 999\n",
    "pd.options.mode.chained_assignment = None \n",
    "\n",
    "# load json data\n",
    "data = []\n",
    "new_data = []\n",
    "new_data1 = []\n",
    "#with open('data/guitar_data.json') as f:\n",
    "\n",
    "path = 'data/guitar_data/'\n",
    "files = [path + json for json in os.listdir(path) if json.endswith('.json')]\n",
    "print(files)\n",
    "\n",
    "for file in files:\n",
    "    with open(file) as f:\n",
    "        data_holder = []\n",
    "        data_holder = json.load(f)\n",
    "        count = 1\n",
    "        \n",
    "        for guitar in data_holder:\n",
    "            new_data.append(data_holder[str(count)])\n",
    "            count = count + 1\n",
    "\n",
    "# create new list to hold conforming data\n",
    "clean_data = []\n",
    "\n",
    "for guitar in new_data:\n",
    "    if ('Body' in guitar and \n",
    "       #'Controls' in guitar and\n",
    "       'Fretboard' in guitar and\n",
    "       'Hardware' in guitar and\n",
    "       'Manufacturer' in guitar and\n",
    "       'Neck' in guitar and\n",
    "       #'Other' in guitar and\n",
    "       'Pickups' in guitar):\n",
    "        clean_data.append(guitar)\n"
   ]
  },
  {
   "cell_type": "code",
   "execution_count": null,
   "metadata": {
    "collapsed": true
   },
   "outputs": [],
   "source": [
    "# replace NA values\n",
    "df.fillna('', inplace=True)\n",
    "df.replace(to_replace=[\"\\t\", \"\\n\", \"\\xa0\", \"'\"], value=\"\", regex=True, inplace=True)\n"
   ]
  },
  {
   "cell_type": "code",
   "execution_count": null,
   "metadata": {
    "collapsed": true
   },
   "outputs": [],
   "source": [
    "# put json structure into dataframe  \n",
    "df = pd.DataFrame.from_dict(json_normalize(clean_data), orient='columns')\n",
    "df = df.sort_index(axis=1)"
   ]
  },
  {
   "cell_type": "code",
   "execution_count": null,
   "metadata": {},
   "outputs": [],
   "source": [
    "df"
   ]
  },
  {
   "cell_type": "code",
   "execution_count": null,
   "metadata": {},
   "outputs": [],
   "source": [
    "# view data counts\n",
    "df.count()"
   ]
  },
  {
   "cell_type": "code",
   "execution_count": null,
   "metadata": {},
   "outputs": [],
   "source": [
    "# get column list\n",
    "list(df)"
   ]
  },
  {
   "cell_type": "code",
   "execution_count": null,
   "metadata": {},
   "outputs": [],
   "source": [
    "'''\n",
    "# drop body material columns, which are only \"solid wood\" or \"Laminated\", and \"middle\" which is empty\n",
    "drop_cols = [' Middle.', \n",
    "             'Body.Body Material', \n",
    "             'Body.Body aaterial',\n",
    "             'Body.Body material']\n",
    "\n",
    "df.drop(drop_cols, axis=1, inplace=True)\n",
    "'''"
   ]
  },
  {
   "cell_type": "code",
   "execution_count": null,
   "metadata": {},
   "outputs": [],
   "source": [
    "'''\n",
    "# merge columns that have different names but same data\n",
    "cols = [' Middle.Active or passive pickups',\n",
    "        ' Middle.Brand',\n",
    "        ' Middle.Bridge',\n",
    "        ' Middle.Series or parallel',\n",
    "        'Body.Orientataion',\n",
    "        'Pickups.Special electroniacs']\n",
    "\n",
    "new_df = df[cols].copy()\n",
    "\n",
    "new_df1 = df[['Pickups.Active or passive pickups']].copy()\n",
    "new_df1.rename(columns={'Pickups.Active or passive pickups':'Pickups.Active or passive'}, inplace=True)\n",
    "\n",
    "\n",
    "new_df.rename(columns={' Middle.Active or passive pickups':'Pickups.Active or passive',\n",
    "                       ' Middle.Brand':'Pickups.Brand',\n",
    "                       ' Middle.Brand':'Pickups.Middle',\n",
    "                       ' Middle.Bridge':'Pickups.Bridge',\n",
    "                       ' Middle.Series or parallel':'Pickups.Series or parallel',\n",
    "                       'Body.Orientataion':'Body.Orientation',\n",
    "                       'Pickups.Special electroniacs':'Pickups.Special electronics'}, inplace=True)\n",
    "new_df.update(new_df1)\n",
    "df.update(new_df)\n",
    "df.drop(cols, axis=1, inplace=True)\n",
    "df.drop(['Pickups.Active or passive pickups'], axis=1, inplace=True)\n",
    "df.count()\n",
    "'''"
   ]
  },
  {
   "cell_type": "code",
   "execution_count": 2,
   "metadata": {},
   "outputs": [
    {
     "ename": "NameError",
     "evalue": "name 'df' is not defined",
     "output_type": "error",
     "traceback": [
      "\u001b[1;31m---------------------------------------------------------------------------\u001b[0m",
      "\u001b[1;31mNameError\u001b[0m                                 Traceback (most recent call last)",
      "\u001b[1;32m<ipython-input-2-12660c7ce6f6>\u001b[0m in \u001b[0;36m<module>\u001b[1;34m()\u001b[0m\n\u001b[1;32m----> 1\u001b[1;33m \u001b[0mdf2\u001b[0m \u001b[1;33m=\u001b[0m \u001b[0mdf\u001b[0m\u001b[1;33m.\u001b[0m\u001b[0mfilter\u001b[0m\u001b[1;33m(\u001b[0m\u001b[0mlike\u001b[0m\u001b[1;33m=\u001b[0m\u001b[1;34m'Other.Number of strings'\u001b[0m\u001b[1;33m,\u001b[0m \u001b[0maxis\u001b[0m\u001b[1;33m=\u001b[0m\u001b[1;36m1\u001b[0m\u001b[1;33m)\u001b[0m\u001b[1;33m\u001b[0m\u001b[0m\n\u001b[0m\u001b[0;32m      2\u001b[0m \u001b[1;32mfor\u001b[0m \u001b[0mcolumn\u001b[0m \u001b[1;32min\u001b[0m \u001b[0mlist\u001b[0m\u001b[1;33m(\u001b[0m\u001b[0mdf2\u001b[0m\u001b[1;33m)\u001b[0m\u001b[1;33m:\u001b[0m\u001b[1;33m\u001b[0m\u001b[0m\n\u001b[0;32m      3\u001b[0m     \u001b[0mprint\u001b[0m\u001b[1;33m(\u001b[0m\u001b[1;34m'------------------'\u001b[0m\u001b[1;33m)\u001b[0m\u001b[1;33m\u001b[0m\u001b[0m\n\u001b[0;32m      4\u001b[0m     \u001b[0mprint\u001b[0m\u001b[1;33m(\u001b[0m\u001b[0mcolumn\u001b[0m\u001b[1;33m)\u001b[0m\u001b[1;33m\u001b[0m\u001b[0m\n\u001b[0;32m      5\u001b[0m     \u001b[0mprint\u001b[0m\u001b[1;33m(\u001b[0m\u001b[1;34m'------------------'\u001b[0m\u001b[1;33m)\u001b[0m\u001b[1;33m\u001b[0m\u001b[0m\n",
      "\u001b[1;31mNameError\u001b[0m: name 'df' is not defined"
     ]
    }
   ],
   "source": [
    "df2 = df.filter(like='Other.Number of strings', axis=1)\n",
    "for column in list(df2):\n",
    "    print('------------------')\n",
    "    print(column)\n",
    "    print('------------------')\n",
    "    print(df2[column].unique())"
   ]
  },
  {
   "cell_type": "code",
   "execution_count": 907,
   "metadata": {
    "collapsed": true
   },
   "outputs": [],
   "source": [
    "# limit data to only 6-string guitars\n",
    "df = df[df['Other.Number of strings'].str.contains(\"6\")]"
   ]
  },
  {
   "cell_type": "code",
   "execution_count": 908,
   "metadata": {},
   "outputs": [
    {
     "data": {
      "text/plain": [
       "count          198\n",
       "unique           3\n",
       "top       6-string\n",
       "freq           110\n",
       "Name: Other.Number of strings, dtype: object"
      ]
     },
     "execution_count": 908,
     "metadata": {},
     "output_type": "execute_result"
    }
   ],
   "source": [
    "df['Other.Number of strings'].describe()"
   ]
  },
  {
   "cell_type": "markdown",
   "metadata": {},
   "source": [
    "# A. Body "
   ]
  },
  {
   "cell_type": "code",
   "execution_count": 909,
   "metadata": {},
   "outputs": [
    {
     "name": "stdout",
     "output_type": "stream",
     "text": [
      "------------------\n",
      "Body.Body Material\n",
      "------------------\n",
      "['' 'Solid wood']\n",
      "------------------\n",
      "Body.Body aaterial\n",
      "------------------\n",
      "['' 'Solid wood']\n",
      "------------------\n",
      "Body.Body finish\n",
      "------------------\n",
      "['Gloss ' 'Gloss' 'Gloss with Dancing Bear graphics' 'Trans ' 'Satin'\n",
      " 'High gloss Polyester' 'High glossUrethane' 'High glossPolyester'\n",
      " 'Stealth Black' 'High gloss Urethane' 'High gloss' 'Matte ' 'Satin '\n",
      " 'Galoss' 'Relic ' 'Satin Nitrocellulose ' 'GlossNitrocellulose'\n",
      " 'Gloss Polyurethane' 'Gloss Nitrocellulose' 'Gloss Urethane'\n",
      " 'Gloss Polyester' 'Gloss Lacquer' 'VOS nitrocellulose' 'Nitrocellulose'\n",
      " 'Satin Nitrocellulose' 'Oiled ' 'Satin nitro' 'Not specified']\n",
      "------------------\n",
      "Body.Body material\n",
      "------------------\n",
      "['Solid wood ' 'Solid wood' 'Laminated' 'Laminated ' ''\n",
      " 'Combination laminated/solid ']\n",
      "------------------\n",
      "Body.Body shape\n",
      "------------------\n",
      "['Single cutaway ' 'Single cutaway' 'Archtop' 'Offset' 'Offset '\n",
      " 'Double cutaway' 'Double cutaway ' 'Other ' 'Other' 'V' 'V ' 'Z ' 'Z']\n",
      "------------------\n",
      "Body.Body type\n",
      "------------------\n",
      "['Solid body ' 'Solid body' 'Hollow body' 'Semi-hollow or chambered body'\n",
      " 'Semi-hollow or chambered body ' 'Semi-hollow with centerblock'\n",
      " 'Hollow body ']\n",
      "------------------\n",
      "Body.Body wood\n",
      "------------------\n",
      "['Alder ' 'Bound Basswood' 'FlameMaple' 'Basswood' 'Maple'\n",
      " 'Bound Swamp ash' 'Swamp ash' 'Maple ' 'Mahogany' 'Paulownia' 'Mahogany '\n",
      " 'Maple/poplar/maple' 'Poplar with mahogany veneer' 'Solid Alder'\n",
      " 'AfricanMahogany' 'African mahogany' 'SolidAlder' 'African Mahogany'\n",
      " 'Slab ash' 'Poplar' 'Alder' 'ChamberedMahogany' '3-pieceMahogany'\n",
      " 'Lightweight Ash' 'Ash' 'Alder/Ash Dependent on finish' '1-piece Mahogany'\n",
      " 'SolidMahogany' 'CarvedMahogany' 'Lightweight solid mahogany'\n",
      " '1-pieceMahogany' 'Weight relievedMahogany' 'Nyato' 'Basswood ' 'Poplar '\n",
      " 'Ash ' 'Okume ' 'Korina' 'SwampAsh']\n",
      "------------------\n",
      "Body.Neck\n",
      "------------------\n",
      "['']\n",
      "------------------\n",
      "Body.Orientataion\n",
      "------------------\n",
      "['' 'Right handed']\n",
      "------------------\n",
      "Body.Orientation\n",
      "------------------\n",
      "['Left handed ' 'Right handed ' 'Right handed' 'Left handed' '']\n",
      "------------------\n",
      "Body.Top wood\n",
      "------------------\n",
      "['' 'Spruce' 'Maple' 'Maple ' 'Mahogany' 'Paulownia' 'Flame Maple '\n",
      " 'FlameMaple' 'Maple/poplar/maple' 'Not applicable'\n",
      " 'Highly figured flame maple' 'QuiltedMaple' 'Quilt Maple' 'FiguredMaple'\n",
      " 'BoundAsh' 'Flamed Maple' 'BoundMaple' 'FlamedMaple' 'SpaltedMaple'\n",
      " '2-pieceMaple' 'CarvedMaple' '2-piece plain maple' 'AA FiguredMaple'\n",
      " 'AA Figured Maple' 'AAA FiguredMaple' 'Flame Maple' 'Quilted Maple '\n",
      " 'Tamo ash burl' 'Zebrawood' 'Quilted Maple' 'Ash ' 'Quilt mape'\n",
      " 'Carved mapleZebrawood veneer' 'Figured Maple'\n",
      " 'Beveled mapleFlamed maple veneer' 'Flame maple' 'Poplar Burl' 'Koa']\n"
     ]
    }
   ],
   "source": [
    "# find unique values for body standardization\n",
    "df2 = df.filter(like='Body', axis=1)\n",
    "for column in list(df2):\n",
    "    print('------------------')\n",
    "    print(column)\n",
    "    print('------------------')\n",
    "    print(df2[column].unique())"
   ]
  },
  {
   "cell_type": "code",
   "execution_count": 910,
   "metadata": {
    "collapsed": true
   },
   "outputs": [],
   "source": [
    "# Choose features to include\n",
    "# 1. Body Shape\n",
    "# 2. Body Type"
   ]
  },
  {
   "cell_type": "markdown",
   "metadata": {},
   "source": [
    "## A1. Body Shape"
   ]
  },
  {
   "cell_type": "code",
   "execution_count": 911,
   "metadata": {
    "collapsed": true
   },
   "outputs": [],
   "source": [
    "'''\n",
    "------------------\n",
    "Body.Body shape\n",
    "------------------\n",
    "['Double cutaway ' 'Double cutaway' 'Double cutaway\\xa0' 'Single cutaway'\n",
    " 'Single cutaway ' 'Other' 'V' 'Z']\n",
    "'''\n",
    "\n",
    "col = 'Body.Body shape'\n",
    "new_col = 'body_shape'\n",
    "\n",
    "logic = [\n",
    "    (df[col].str.contains(\"Double\")),\n",
    "    (df[col].str.contains(\"Single\")),\n",
    "    (df[col].str.contains(\"Other\")),\n",
    "    (df[col] == \"V\"),\n",
    "    (df[col] == \"Z\")]\n",
    "values = ['Double cutaway', 'Single cutaway', 'Other', 'V', 'Z']\n",
    "df[new_col] = np.select(logic, values, default='Unknown')\n",
    "\n",
    "# drop old column\n",
    "df.drop(col, axis=1, inplace=True)"
   ]
  },
  {
   "cell_type": "markdown",
   "metadata": {},
   "source": [
    "## A2. Body Type"
   ]
  },
  {
   "cell_type": "code",
   "execution_count": 912,
   "metadata": {
    "collapsed": true
   },
   "outputs": [],
   "source": [
    "'''\n",
    "------------------\n",
    "Body.Body type\n",
    "------------------\n",
    "['Solid body ' 'Solid body' 'Solid ' 'Solid body\\xa0'\n",
    " 'Semi-hollow or chambered body' 'Solid\\xa0' 'Hollow body' 'Hollow body ']\n",
    "'''\n",
    "\n",
    "col = 'Body.Body type'\n",
    "new_col = 'body_type'\n",
    "\n",
    "logic = [\n",
    "    (df[col].str.contains(\"Solid\")),\n",
    "    (df[col].str.contains(\"Hollow body\")),\n",
    "    (df[col].str.contains(\"Semi\"))]\n",
    "values = ['Solid', 'Hollow', 'Semi-hollow']\n",
    "\n",
    "df[new_col] = np.select(logic, values, default='Unknown')\n",
    "\n",
    "# drop old column\n",
    "df.drop(col, axis=1, inplace=True)"
   ]
  },
  {
   "cell_type": "markdown",
   "metadata": {},
   "source": [
    "# B. Neck"
   ]
  },
  {
   "cell_type": "code",
   "execution_count": 913,
   "metadata": {},
   "outputs": [
    {
     "name": "stdout",
     "output_type": "stream",
     "text": [
      "------------------\n",
      "Body.Neck\n",
      "------------------\n",
      "['']\n",
      "------------------\n",
      "Neck.Joint\n",
      "------------------\n",
      "['Bolt-on ' 'Set-in' 'Set-through' 'Set-in ' 'Bolt-on' 'Bolt-on 5 bolt'\n",
      " 'Bolt-on5-bolt' 'Bolt-on5 bolt' 'Neck-through' 'Neck-through '\n",
      " 'Set-in long tenon' 'Set-in, hide glue fit' 'Bolt-on6-bolt neckplate'\n",
      " 'Bolt-on 6-bolt heck-late' 'Bolt-on 6-bolt neckplate'\n",
      " 'Bolt-on 6-bolt neck-plate' 'Bolt-aon']\n",
      "------------------\n",
      "Neck.Neck finish\n",
      "------------------\n",
      "['Hand-rubbed satin' 'Satin' 'Gloss' 'Satin ' 'Gloss '\n",
      " 'Hand-rubbed Oil and wax blend' 'SatinPolyurethane' 'Oiled'\n",
      " 'Hand-rubbed oil and wax' 'Hand-rubbedOil and wax blend'\n",
      " 'Tinted ultra-light satin polyurethane' 'Matte '\n",
      " 'Hand-rubbedOil and wax b;emd' 'Info not available' 'Not specified'\n",
      " 'Relic ' 'GlossNitrocellulose' 'Satin Urethane' 'Satin Polyurethane'\n",
      " 'Gloss Nitrocellulose' 'Gloss Lacquer' 'VOS ' 'Nitrocellulose'\n",
      " 'Satin Nitrocellulose' 'Nitro' 'Oiled ' '' 'Tinted ']\n",
      "------------------\n",
      "Neck.Neck shape\n",
      "------------------\n",
      "['C' 'C standard' 'C soft' 'C standard ' 'C soft ' 'C '\n",
      " 'Slim D Rusty Cooley Spec. ' 'V ' 'V standard ' 'SlimTaper D '\n",
      " '60s SlimTaper D' 'Custom Thin-C profile' 'Asymmetrical' 'Not specified'\n",
      " 'John Petrucci' 'C fatReverse headstock' 'Asymmetrical ' 'Music man' 'JP'\n",
      " '' 'Extra thin U ' 'Thin U' 'Thin U ' 'Extra thin flat' '1965 C' 'Thin D '\n",
      " '60s C' 'Modern Deep C' '60s \"C\"' '52 U' 'Modern C' 'C modern' 'C thick'\n",
      " 'V soft ' 'Rounded C' 'Medium chunky' '50s profile LP' 'Rounded 50s '\n",
      " 'Rounded ' 'AsymmetricalSlimTaper' 'SlimTaper' 'Not specified '\n",
      " 'Standard U' 'U ' 'Speed' 'Soloist ' 'Pro series ' 'X series '\n",
      " 'Signature ' 'Pro Series' 'Soloist' 'Speed ' 'Ultrathin'\n",
      " 'Custom signature ' 'Wide fat ' 'Wide thin' 'Wide fat' 'Pattern thin'\n",
      " 'Oval medium' 'Medium oval' 'Oval medium ' 'C ultra-thin' 'C thin'\n",
      " 'Thin C' 'V']\n",
      "------------------\n",
      "Neck.Neck wood\n",
      "------------------\n",
      "['Maple ' 'Maple/walnut' '3-pieceMaple/walnut/maple' 'Maple'\n",
      " '3-piece Maple/walnut ' '3-piece maple/walnut/maple' 'Mahogany '\n",
      " 'Mahogany' 'Roasted Maple' 'RoastedMaple' 'Select roasted maple'\n",
      " 'Roasted figured maple' '1-pieceMaple' '3-pieceMaple' '3-pieceMahogany'\n",
      " '3-piece Maple' 'AA flame Maple' 'Rosewood' '1-piece rosewood'\n",
      " '1-piece Maple' '1-pieceMahogany' 'Solid mahogany, long tenon' 'Nato '\n",
      " 'Maple with graphite reinforcement' '1-piece Maple ' '3-pieceKorina'\n",
      " 'Roasted maple' '-pieceMaple/Wenge' '7-pieceMaple/walnut/paduak']\n",
      "------------------\n",
      "Neck.Scale length\n",
      "------------------\n",
      "['25.5 in. ' '24.75 in.' '25.5 in.' '24.75 in. ' '25.5\"' '27 in.' '24\"'\n",
      " '24.6 in.' '24.6 in. ' '25.6 in. ' '24.5 in. ' '25 in.' '24.5 in.'\n",
      " '25 in. ' '26.75 in.' '24 in. ']\n",
      "------------------\n",
      "Neck.Truss rod\n",
      "------------------\n",
      "['Standard ' 'Dual-action' 'Standard' 'Dual-action ' 'Yes' 'Yes '\n",
      " 'Historic' '' 'Carbon fiber rod' '2-way adjustable'\n",
      " 'Carbon rod reinforcement']\n",
      "------------------\n",
      "Neck.shape\n",
      "------------------\n",
      "['' 'Not specified']\n",
      "------------------\n",
      "Pickups.Neck\n",
      "------------------\n",
      "['SH-6 Distortion' 'DA-59 humbucker' 'Floating humbucker'\n",
      " 'Stacked single-coil' 'Stacked single-coil59 STK'\n",
      " 'Stacked single-coil DA-59' 'HB-102' 'DA-59 humbucker '\n",
      " 'Stacked single-coil ' 'DA-90 single-coil'\n",
      " 'USA Seymour Duncan 59 Humbucker' 'Kent Armstrong Humbucker' 'DMT design'\n",
      " 'DMT design ' 'DMT Series Nostalgia' 'DMT Design BKBK' 'ProBucker 2 '\n",
      " '650R' 'EMG-66 (active)' 'Custom single-coil ' 'Custom-wound humbucker'\n",
      " 'Custom humbucking' 'Illuminator' 'Mini humbucker' 'Custom single-coil'\n",
      " 'Custom-wound humbucker with matte black cover' 'Custom wound double-coil'\n",
      " 'Illuminator ' 'DP-205 Morse signature' 'KH Bone Breaker' '66' '59' ''\n",
      " 'LS-120N' 'LH-150N' 'Fluence Modern humbucker alnico'\n",
      " 'Saturday Night Special' 'High output humbucker' 'Jazz' 'Sentient'\n",
      " 'LH-120N' 'EMG-85' 'Jazz SH-2N' 'EMG-60' 'STK-S4' '85X'\n",
      " 'Handwound Twisted Tele ' 'Custom-wound Jimmy Page Telecaster single-coil'\n",
      " 'Pure Vintage single-coil65 Jazzmaster' 'V-Mod Single-Coil Telecaster'\n",
      " 'Vintage 64 Gray-Bottom Single-Coil Tele'\n",
      " 'Pure Vintage 52 single-coil Tele' 'Alnico single-coil' 'Shawbucker 1T'\n",
      " 'Michael Frank-designedsingle-coil Jazzmaster'\n",
      " 'Pure Vintage single-coil65 Jaguar' 'Standard humbucking'\n",
      " 'Vintage Noiseless' 'Pure Vintage 65 single-coil Strat' 'Humbucker'\n",
      " 'Pure Vintage 59 single-coil Strat ' 'Texas Special single-coil'\n",
      " 'Vintage Style Single-Coil Tele' 'Burstbucker' '57 Classic' '’57 Classic'\n",
      " 'CustomBucker ' 'CustomBucker' 'BurstBucker ProOpen coil' 'P-90 '\n",
      " 'HumbuckerOpen Coil' 'Rhythm Pro' '490R ' 'P90' 'BurstBucker 1'\n",
      " 'BroadTron' 'FilterTron ' 'Black Top BroadTron' 'BroadTron BT-2S'\n",
      " 'Full’Tron' 'Classic' 'High Sensitive FilterTron' 'Dynasonic '\n",
      " 'High-Sensitive Full’Tron' 'Humbucker ' '81' 'HB-103N' '60'\n",
      " 'High-Output Humbucking' 'Blackouts AHB-1N'\n",
      " 'Custom Flat Strat SSL-6 Single-Coil' 'HR-101 Hot Rails' 'HR-103N'\n",
      " '59 SH-1N' 'Custom Flat Strat SSL Single-Coil' 'HR-101N Hot Rails'\n",
      " 'SH-6N Distortion' 'Blackouts EMTY' 'Custom single-coil Artist Signature'\n",
      " 'TCI “S” Bass' '85/15\"S\"\"' 'SE 245 bass humbucker' '85/15 Bass' '9A5'\n",
      " '9A5Soapbar' 'ChiselCeramic' '9A5 Neck' 'Hyper vintage ' 'RevtronAlnico'\n",
      " 'Hyper vintageAlnico' 'Hyper vintage' 'HA5 ' 'HA5' 'Chisel' 'Humcutter'\n",
      " 'Apocalypse-II' 'Diamond Plus' 'San AndreasHumbucker' 'Nick Johnston '\n",
      " 'Diamond SuperRock Custom Alnico' 'Black Winter' 'Single-coil'\n",
      " 'Squier Active Humbucker' 'Standard single-coil Strat'\n",
      " 'Ceramic humbucking ' 'Standard single-coil'\n",
      " 'Fender Designed Alnico Single-Coil'\n",
      " 'Fender Designed Designed Alnico Single-Coil'\n",
      " 'Fender Designed Wide Range Humbucking']\n"
     ]
    }
   ],
   "source": [
    "# find unique values for neck standardization\n",
    "df2 = df.filter(like='Neck', axis=1)\n",
    "for column in list(df2):\n",
    "    print('------------------')\n",
    "    print(column)\n",
    "    print('------------------')\n",
    "    print(df2[column].unique())"
   ]
  },
  {
   "cell_type": "code",
   "execution_count": 914,
   "metadata": {
    "collapsed": true
   },
   "outputs": [],
   "source": [
    "# Choose features to standardize\n",
    "# 1. Neck - Joint\n",
    "# 2. Neck - Finish"
   ]
  },
  {
   "cell_type": "markdown",
   "metadata": {},
   "source": [
    "## B1. Neck Joint"
   ]
  },
  {
   "cell_type": "code",
   "execution_count": 915,
   "metadata": {
    "collapsed": true
   },
   "outputs": [],
   "source": [
    "'''\n",
    "------------------\n",
    "Neck.Joint\n",
    "------------------\n",
    "['Bolt-on ' 'Bolt-on' 'Bolt-on\\xa0' 'Set-in' 'Neck-through' 'Set-in ' ''\n",
    " 'Thru-neck ' 'Set-through' 'Neck-through\\xa0' 'Set-through ']\n",
    "'''\n",
    "\n",
    "col = 'Neck.Joint'\n",
    "new_col = 'neck_joint'\n",
    "\n",
    "logic = [\n",
    "    (df[col].str.contains(\"Bolt-on\", regex=True, case=False)),\n",
    "    (df[col].str.contains(\"Set-in\", regex=True, case=False)),\n",
    "    (df[col].str.contains(\"Neck-through|Thru-neck\", regex=True, case=False)),\n",
    "    (df[col].str.contains(\"Set-through\", regex=True, case=False))\n",
    "]\n",
    "\n",
    "values = ['Bolt-on',\n",
    "          'Set-in', \n",
    "          'Neck-thru', \n",
    "          'Set-thru']\n",
    "\n",
    "df[new_col] = np.select(logic, values, default='Unknown')\n",
    "\n",
    "# logic check\n",
    "df[[col, new_col]]\n",
    "\n",
    "# drop old column\n",
    "df.drop(col, axis=1, inplace=True)"
   ]
  },
  {
   "cell_type": "markdown",
   "metadata": {},
   "source": [
    "## B2. Neck Finish"
   ]
  },
  {
   "cell_type": "code",
   "execution_count": 916,
   "metadata": {
    "collapsed": true
   },
   "outputs": [],
   "source": [
    "'''\n",
    "------------------\n",
    "Neck.Neck finish\n",
    "------------------\n",
    "['Gloss ' 'Info not available' 'Satin ' '' 'Gloss\\xa0' 'Satin' 'Gloss'\n",
    " 'GlossNitrocellulose' 'Satin Urethane' 'Gloss Nitrocellulose Lacquer'\n",
    " 'Satin Polyurethane' 'Gloss Nitrocellulose' 'Gloss Lacquer' 'Oiled'\n",
    " 'Hand-rubbed' 'Satin\\xa0' 'Not specified']\n",
    " '''\n",
    "\n",
    "col = 'Neck.Neck finish'\n",
    "new_col = 'neck_finish'\n",
    "\n",
    "logic = [\n",
    "    (df[col].str.contains(\"Gloss\", regex=True, case=False)),\n",
    "    (df[col].str.contains(\"Satin\", regex=True, case=False)),\n",
    "    (df[col].str.contains(\"Oiled|Hand-rubbed\", regex=True, case=False))\n",
    "]\n",
    "\n",
    "values = ['Gloss',\n",
    "          'Satin', \n",
    "          'Oiled']\n",
    "\n",
    "df[new_col] = np.select(logic, values, default='Unknown')\n",
    "\n",
    "# logic check\n",
    "df[[col, new_col]]\n",
    "\n",
    "# drop old column\n",
    "df.drop(col, axis=1, inplace=True)"
   ]
  },
  {
   "cell_type": "markdown",
   "metadata": {},
   "source": [
    "# C. Fretboard"
   ]
  },
  {
   "cell_type": "code",
   "execution_count": 917,
   "metadata": {},
   "outputs": [
    {
     "name": "stdout",
     "output_type": "stream",
     "text": [
      "------------------\n",
      "Fretboard.Fret size\n",
      "------------------\n",
      "['Jumbo ' 'Medium' 'Medium jumbo' 'Medium ' 'Medium jumbo ' 'Jumbo'\n",
      " 'Medium-high ' 'Medium-highStainless steel' 'Medium-high' 'Not specified'\n",
      " 'High profile, medium width' 'Medium-high Stainless steel'\n",
      " 'Medium jumbo Stainless steel' 'Medium jumbo Stainless'\n",
      " 'High-profile, wide' 'Extra-jumbo' 'Extra-jumbo ' '6105 ' 'Vintage-style '\n",
      " 'Vintage tall' 'Tall narrow' 'Narrow tall ' 'Tall narrow ' 'Vintage tall '\n",
      " 'Narrow/tall ' 'MediumCryogenically treated' 'Extra-jumboStainless steel'\n",
      " 'Extra jumbo']\n",
      "------------------\n",
      "Fretboard.Inlays\n",
      "------------------\n",
      "['Dot ' 'Pearl and abaloneSplit block' 'Mother-of-pearl Split block'\n",
      " 'Mother-of-pearl ' 'Pearl and abalone Split block' 'Mother-of-pearl Block'\n",
      " 'Mother-of-pearl' 'Block ' 'Pearl Xenocide' 'Pearl icon ' 'Abalone'\n",
      " 'Pearl block' 'Pearloid block ' 'Dot'\n",
      " 'None, black side dots on white binding' 'Pearl Block' 'Custom BFR'\n",
      " 'JP Majesty Runway' 'JP Shield' 'Skull and crossbones' 'Block' 'Wave'\n",
      " 'Glow-in-the-dark side dots' 'Small blockOffset' 'Custom' 'DotOffset'\n",
      " 'Side position markers ' 'Small block' 'Trapezoid' 'Trapezoid '\n",
      " 'Pearl blockBlacked out' 'No' 'Thumbnail ' 'Hump-block ' 'Pearloid block'\n",
      " 'Alumiloid Piranha' 'Sharkfin ' 'Sharktooth ' 'Pearloid sharkfin '\n",
      " 'Piranha tooth ' 'Side position markers' 'Birds ' 'Birds' ''\n",
      " 'Mother-of-pearl block'\n",
      " 'Offset/reverse circles, glow-in-the-dark side dots' 'Mother-of-pearl Dot'\n",
      " 'DotOffset/reverse']\n",
      "------------------\n",
      "Fretboard.Material\n",
      "------------------\n",
      "['Maple ' 'Pau Ferro' 'Ovankol' 'Pau Ferro ' 'Ovankol ' 'Maple' 'Rosewood '\n",
      " 'Jatoba' 'Rosewood' 'Ebony ' 'Ebony' 'RoastedMaple' 'SelectRosewood'\n",
      " 'SelectEbony' 'Runway ebony' 'Roasted Maple' 'MacassarEbony' 'Pau ferro'\n",
      " 'Round laminateRosewood' 'Round laminate Rosewood' 'Richlite'\n",
      " 'IndianRosewood' 'Richlite ' 'Torrefied Granadillo' 'Brazilian cherry'\n",
      " 'Black walnut' 'Black walnut ' 'Laurel ' 'Laurel' 'Amaranth'\n",
      " 'East Indian Rosewood' 'Blackwood Tek' 'Roasted maple' 'Wenge'\n",
      " 'Indian Laurel' 'Indian laurel' 'Custom maple']\n",
      "------------------\n",
      "Fretboard.Number of frets\n",
      "------------------\n",
      "['22 ' '22' '24' '22 stainless steel' '24 ' '21' '21 ']\n",
      "------------------\n",
      "Fretboard.Nut width\n",
      "------------------\n",
      "['1.687 in. (42.8 mm) ' '1.687 in. (42.8 mm)TUSQ' '1.687 in. (42.8 mm)Bone'\n",
      " '1.68 in. (42.67 mm)Not specified' '1.687 in. (42.8 mm) TUSQ'\n",
      " '1.68 in. (42.67 mm)Plastic' '1.68 in. (42.67 mm) Not specified'\n",
      " '1.687 in. (42.8 mm)Plastic' '1.687 in. (42.8 mm) Bone '\n",
      " '1.68 in. (42.67 mm), bone' '1.69 in. (43 mm)Floyd Rose locking'\n",
      " '1.69 in. (43 mm) Molded' '1.69 in. (43 mm) ' '1.69 in. (43 mm) Plastic '\n",
      " '1.69 in. (43 mm)Molded' '1.68 in. (42.67 mm) GraphTech'\n",
      " '1.687 in. (42.8 mm)' '1.687 in. (42.8 mm) \"Eagle\" logo on 12th fret'\n",
      " '1.62 in. (41.3 mm) Not specified' '1.62 in. (41.3 mm)TUSQ'\n",
      " '1.62 in. (41.3 mm)Synthetic Bone' '1.876\" (47.6 mm)'\n",
      " '1.687 in. (42.8 mm)Melamine' '1.62\" (41.3mm)'\n",
      " '1.62 in. (41.3 mm)Not specified' '1.62 in. (41.3 mm) TUSQ'\n",
      " '1.875\" (47.62mm)' '1.70 in. (43.2 mm) ' '1.687\" (42.8mm)'\n",
      " '1.65 in. (42 mm)Floyd Rose locking' '1.65 in. (42 mm)Bone'\n",
      " '1.65 in. (42 mm)Molded' '1.65 in. (42 mm)Locking' '1.656 in. (42 mm) '\n",
      " '1.62 in. (41.3 mm)Floyd Rose locking' '1.65 in. (42 mm) bone'\n",
      " '1.65 in. (42 mm) Bone ' '1.65 in. (42 mm) '\n",
      " '1.65 in. (42 mm) Synthetic Bone' '1.65\" (42 mm)' '1.656\" (42mm)'\n",
      " '1.65 in. (42 mm) Bone' '1.69\" (43mm)' '1.65 in. (42 mm) synthetic bone'\n",
      " 'Not specified' '1.687 in. (42.8 mm)Corian' '1.687 in. (42.8 mm)Nylon'\n",
      " '1.687 in. (42.8 mm)Graphite' '1.69 in. (43 mm)Tektoid'\n",
      " '1.69 in. (43 mm) Tektoid' '1.687 in. (42.8 mm)Tektoid'\n",
      " '1.745 in. (44.32 mm)Titanium' '1.687 in. (42.8 mm) Corian'\n",
      " '1.687 in. (42.8 mm)Synthetic Bone' '1.687 in. (42.8 mm) Synthetic Bone'\n",
      " '1.69 in. (43 mm) Graph Tech NuBone' '1.69 in. (43 mm)'\n",
      " '1.653 in. (42 mm) ' '1.69 in. (43 mm) GraphTech TUSQ'\n",
      " '1.63 in. (41.4 mm) ' '1.68 in. (42.67 mm) Locking'\n",
      " '1.68 in. (42.67 mm) Floyd Rose locking ' '1.687 in. (42.8 mm) Locking '\n",
      " '1.687 in. (42.8 mm) locking' '1.68 in. (42.67 mm) Locking '\n",
      " '1.68 in. (42.67 mm) ' '1.68 in. (42.67 mm) Floyd Rose locking'\n",
      " '1.69 in. (43 mm)Synthetic Bone' '1.69 in. (43 mm) Synthetic bone'\n",
      " '1.69 in. (43 mm) Synthetic Bone' '1.65 in. (42 mm)TUSQ'\n",
      " '1.653 in. (42 mm)' '1.653 in. (42 mm)Compensated'\n",
      " '1.653 in. (42 mm)compensated nut' '' '1.653 in. (42 mm)TUSQ'\n",
      " '1.65 in. (42 mm)' '1.687 in. (42.8 mm)Floyd Rose locking'\n",
      " '1.65 in. (42 mm), Synthetic bone' '1.60 in. (40.6 mm)'\n",
      " '1.656 in. (42 mm)' '1.65 in. (42 mm)Synthetic Bone']\n",
      "------------------\n",
      "Fretboard.Nut width/Material\n",
      "------------------\n",
      "['' '1.675 in. (42.5 mm) GraphTech']\n",
      "------------------\n",
      "Fretboard.Radius\n",
      "------------------\n",
      "['Compound. ' '14 in.' '16 in.' '14 in. ' '10 in.' '16 in. ' '12 in. '\n",
      " '12 in.' '10 in. ' '17\"' '10\"' '17 in. ' '13.75 in.' '13.78 in. (350mm)'\n",
      " '13.78 in.' '13.75 in. ' 'Compound ' '7.25 in. ' '9.5 in.' '9.5 in. '\n",
      " '9.5\"' 'Not specified' 'Not specified ' 'Compound' 'Compound12–16\"']\n"
     ]
    }
   ],
   "source": [
    "# find unique values for fretboard standardization\n",
    "df2 = df.filter(like='Fretboard', axis=1)\n",
    "for column in list(df2):\n",
    "    print('------------------')\n",
    "    print(column)\n",
    "    print('------------------')\n",
    "    print(df2[column].unique())"
   ]
  },
  {
   "cell_type": "code",
   "execution_count": 918,
   "metadata": {
    "collapsed": true
   },
   "outputs": [],
   "source": [
    "# Choose features to standardize\n",
    "# 1. Fretboard - Scale Length\n",
    "# 2. Fretboard - Number of frets"
   ]
  },
  {
   "cell_type": "markdown",
   "metadata": {},
   "source": [
    "## C1. Material"
   ]
  },
  {
   "cell_type": "code",
   "execution_count": 919,
   "metadata": {
    "collapsed": true
   },
   "outputs": [],
   "source": [
    "'''\n",
    "------------------\n",
    "Fretboard.Material\n",
    "------------------\n",
    "['Maple' 'Rosewood' 'Ebony ' 'Roasted Maple' 'Other' 'Ebony' 'RoastedMaple'\n",
    " 'Ebony\\xa0' 'Panga Panga\\xa0' 'TreatedWhite pine' 'Jatoba' 'Panga Panga'\n",
    " 'Round laminateRosewood' 'Pau Ferro' 'Round laminate Rosewood' 'Maple '\n",
    " 'Amaranth' 'Amaranth\\xa0' 'Wenge' 'MacassarEbony' 'Pau ferro'\n",
    " 'RoastedJatoba' 'Engineered hardwood' 'Macassar Ebony']\n",
    "'''\n",
    "\n",
    "col = 'Fretboard.Material'\n",
    "new_col = 'fretboard_material'\n",
    "\n",
    "logic = [\n",
    "    (df[col].str.contains(\"Maple\", regex=True, case=False)),\n",
    "    (df[col].str.contains(\"Rosewood\", regex=True, case=False)),\n",
    "    (df[col].str.contains(\"Ebony\", regex=True, case=False)),\n",
    "]\n",
    "\n",
    "values = ['Maple',\n",
    "          'Rosewood', \n",
    "          'Ebony']\n",
    "\n",
    "df[new_col] = np.select(logic, values, default='Other')\n",
    "\n",
    "# logic check\n",
    "df[[col, new_col]]\n",
    "\n",
    "# drop old column\n",
    "df.drop(col, axis=1, inplace=True)\n"
   ]
  },
  {
   "cell_type": "markdown",
   "metadata": {},
   "source": [
    "## C2. Number of Frets"
   ]
  },
  {
   "cell_type": "code",
   "execution_count": 920,
   "metadata": {
    "collapsed": true
   },
   "outputs": [],
   "source": [
    "'''\n",
    "------------------\n",
    "Fretboard.Number of frets\n",
    "------------------\n",
    "['24 ' '24' '22\\xa0' '22' '20' '21' '22 ' '21 ' '24Stainless Steel'\n",
    " '24 Stainless steel' '24\\xa0']\n",
    " '''\n",
    "\n",
    "col = 'Fretboard.Number of frets'\n",
    "new_col = 'number_of_frets'\n",
    "\n",
    "logic = [\n",
    "    (df[col].str.contains(\"20\", regex=True, case=False)),\n",
    "    (df[col].str.contains(\"21\", regex=True, case=False)),\n",
    "    (df[col].str.contains(\"22\", regex=True, case=False)),\n",
    "    (df[col].str.contains(\"24\", regex=True, case=False))\n",
    "]\n",
    "\n",
    "values = ['20',\n",
    "          '21', \n",
    "          '22',\n",
    "          '24']\n",
    "\n",
    "df[new_col] = np.select(logic, values, default='Unknown')\n",
    "\n",
    "# logic check\n",
    "df[[col, new_col]]\n",
    "\n",
    "# drop old column\n",
    "df.drop(col, axis=1, inplace=True)"
   ]
  },
  {
   "cell_type": "markdown",
   "metadata": {},
   "source": [
    "# D. Hardware"
   ]
  },
  {
   "cell_type": "code",
   "execution_count": 921,
   "metadata": {},
   "outputs": [
    {
     "name": "stdout",
     "output_type": "stream",
     "text": [
      "------------------\n",
      "Hardware.Bridge design\n",
      "------------------\n",
      "['Floyd Rose 1000 ' 'Tune-o-matic' 'Floating compensated ebony'\n",
      " '6-saddle vintage-style synchronized tremolo ' 'Tune-o-matic '\n",
      " 'Compensated top rosewood base' 'Floyd Rose with locking nut'\n",
      " 'Floyd Rose with locking nut II'\n",
      " 'Music Man Modern tremolo with vintage bent steel saddles '\n",
      " 'Music Man Modern tremolo with vintage bent steel saddles'\n",
      " 'Piezo floating tremolo' '' 'Music Man Vintage'\n",
      " 'Music Man Modern hardtail'\n",
      " 'Custom John Petrucci Music Man® Piezo floating tremolo, made of hardened steel'\n",
      " 'Music Man Modern St. Vincent' 'Floyd Rose 1000'\n",
      " 'TonePros locking tune-o-matic' 'Hipshot hardtail' '6-saddle '\n",
      " 'Hipshot string thru body' 'Evertune F Model' 'Floyd Rose original'\n",
      " 'Vintage-style' 'Top-loader bridge with threaded steel saddles '\n",
      " 'Floating vintage tremolowith lock button' '3-saddle vintage-style'\n",
      " '3-saddle vintage-style ' '3-saddle vintage-style string-through'\n",
      " '2-point trem with bent steel saddles' '6-saddle string through body '\n",
      " 'Jazzmaster tremolo bridge with brass Mustang saddles'\n",
      " '6-bent steel saddle Tele' '6-saddle'\n",
      " '2-point synchronized with bent steel saddles'\n",
      " '6-saddle vintage-style synchronized tremolo' 'Adjusto-matic'\n",
      " 'Vintage synchronized tremolo ' 'Vintage synchronized tremolo' 'ABR-1'\n",
      " 'ABR-1 ' 'ABR' 'G&L Dual-Fulcrum' 'Adjusto-matic ' 'Pinned Space Control'\n",
      " 'Aluminum Compensated with Alumium Base'\n",
      " 'Floyd Rose FRT-O2000 Double-Locking Tremolo (Recessed)'\n",
      " 'Floyd Rose Special Double-Locking Tremolo (Recessed) '\n",
      " 'Floyd Rose 1000 Series Double-Locking Tremolo (Recessed) '\n",
      " 'Floyd Rose 1000 Series Double-Locking Tremolo (Recessed)'\n",
      " '2-point Fulcrum tremolo '\n",
      " '1000 Series Double-Locking Tremolo (Recessed) '\n",
      " 'HT6 String-Through-Body Hardtail ' 'Jackson MTB HT6 hardtail bridge'\n",
      " 'PRS plate-style ' 'PRS Patented Tremolo ' 'PRS tremolo' 'PRS stoptail'\n",
      " 'PRS-Designed tremolo' 'Wilkinson WVS50 IIK' 'Roller' 'Tune-o-mati'\n",
      " 'WilkinsonWV550 IIK Vari-claw tremolo claw'\n",
      " 'Wilkinson synchronized tremolo'\n",
      " 'Wilkinson WV550 IIK Vari-claw tremolo claw'\n",
      " '6-saddle string through body' 'Fixed bridge through body'\n",
      " 'Floyd Rose 1500 series' 'Diamond vintage '\n",
      " 'Tune-o-matic with roller saddles' '2-point synchronized'\n",
      " 'Floyd Rose Licensed' '6-saddle vintage-style  synchronized tremolo'\n",
      " '2-point synchronized ' '6-saddle vintage-style syncronized tremolo'\n",
      " '6-saddle vintage-style'\n",
      " '6-Saddle Vintage-Style with Non-Locking Floating Vibrato '\n",
      " '6-Saddle Vintage-Style Synchronized Tremolo '\n",
      " 'Floating Bridge with Dynamic Vibrato Tailpiece '\n",
      " '6-Saddle Strings-Through-Body Tele '\n",
      " '3-Saddle Vintage-Style Strings-Through-Body Tele&reg; with Chrome Barrel Saddles '\n",
      " 'Vintage-style with compensated saddles' '2-point Fulcrum tremolo']\n",
      "------------------\n",
      "Hardware.Bridge type\n",
      "------------------\n",
      "['Tremolo/Vibrato ' 'Fixed' 'Other' 'Fixed ' 'Tremolo' 'Tremolo/Vibrato'\n",
      " 'Tremolo/vibrato' 'Tremolo Vibrato ']\n",
      "------------------\n",
      "Hardware.Color\n",
      "------------------\n",
      "['Black ' 'Gold' 'Chrome' 'Gold ' 'Chrome ' 'Black' 'Nickel '\n",
      " 'Blackand chrome' 'Nickel' 'All black' 'Nickel/chrome' 'Not available'\n",
      " 'Nickel/chrome ' 'Dependent on body finish' 'Aged chrome' 'Black nickel '\n",
      " 'Not available ' 'Black chrome']\n",
      "------------------\n",
      "Hardware.Tailpiece\n",
      "------------------\n",
      "['' 'Stopbar' 'DAngelico Stairstep' 'Not applicable ' 'Stopbar '\n",
      " '6-point tremolo' 'Not applicable' 'String thru body ' 'Bigsby B7 '\n",
      " 'Brass tail block' 'String thru body'\n",
      " 'Vintage-Style Floating Tremolo with Tremolo Lock Button and Screw-in Tremolo Arm'\n",
      " 'Anchored' 'TP-6 Fine Tuner' 'Bigsby' 'V' 'V ' 'Bigsby B70'\n",
      " 'Bigsby B60 tailpiece ' 'V-stoptail' 'Bigsby ' 'Bigsby B7CP String-Thru'\n",
      " 'Bigsby B3G' 'Bigsby B50' 'Bigsby B3BBST ' 'Bigsby B-50' 'Stopba'\n",
      " 'TonePros T1Z Tailpiece']\n",
      "------------------\n",
      "Hardware.Tuning machines\n",
      "------------------\n",
      "['Die-cast ' 'Grover locking' 'Grover Rotomatic' 'Grover locking '\n",
      " 'Grover RotomaticStairstep' 'Grover Rotomatic \"Starstep\" '\n",
      " 'Grover Rotomatic \"Stairstep\"' 'Grover Rotomatic ' 'Grover'\n",
      " 'Die-cast sealed ' 'Grover ' 'Premium Covered; 14' 'Schaller locking '\n",
      " 'Schecter locking ' 'Schaller locking' 'LTD' 'Sperzel locking'\n",
      " 'LTD locking' 'ESP locking' 'Vintage-style ' 'Vintage-style'\n",
      " 'Deluxe staggered' 'Die-cast sealed' 'Deluxe staggered ' 'Standard cast'\n",
      " 'Deluxe sealed/locking ' 'Kluson ' 'Not specified' 'Grover kidney'\n",
      " 'Kluson single band deluxe' 'Kluson deluxe' 'Grover kidney '\n",
      " 'Kluson Keystone' 'Die-cast' 'Vintage--style ' 'Gotoh locking'\n",
      " 'Gotoh locking ' 'Grover Sta-Tite ' 'Grover Imperial ' 'Die-cast locking'\n",
      " 'PRS locking ' 'PRS-Designed Tuners ' 'PRS designed' 'Pin-Lock'\n",
      " 'Pin-Lock ' 'Schecter' 'Schecter locking' 'Standard cast ' 'Locking']\n"
     ]
    }
   ],
   "source": [
    "# find unique values for neck standardization\n",
    "df2 = df.filter(like='Hardware', axis=1)\n",
    "for column in list(df2):\n",
    "    print('------------------')\n",
    "    print(column)\n",
    "    print('------------------')\n",
    "    print(df2[column].unique())"
   ]
  },
  {
   "cell_type": "code",
   "execution_count": 922,
   "metadata": {
    "collapsed": true
   },
   "outputs": [],
   "source": [
    "# Choose features to include\n",
    "# 1. Bridge Type\n",
    "# 2. Tuners"
   ]
  },
  {
   "cell_type": "markdown",
   "metadata": {},
   "source": [
    "## D1. Bridge Type"
   ]
  },
  {
   "cell_type": "code",
   "execution_count": 923,
   "metadata": {
    "collapsed": true
   },
   "outputs": [],
   "source": [
    "'''\n",
    "------------------\n",
    "Hardware.Bridge type\n",
    "------------------\n",
    "['Tremolo/Vibrato ' 'Tremolo/Vibrato' 'Tremolo/Vibrato\\xa0' 'Fixed'\n",
    " 'Fixed ' 'Tremolo' 'Fixed\\xa0']\n",
    " '''\n",
    "\n",
    "col = 'Hardware.Bridge type'\n",
    "new_col = 'bridge_type'\n",
    "\n",
    "logic = [\n",
    "    (df[col].str.contains(\"Tremolo\", regex=True, case=False)),\n",
    "    (df[col].str.contains(\"Fixed\", regex=True, case=False))\n",
    "]\n",
    "\n",
    "values = ['Tremolo',\n",
    "          'Fixed']\n",
    "\n",
    "df[new_col] = np.select(logic, values, default='Unknown')\n",
    "\n",
    "# logic check\n",
    "df[[col, new_col]]\n",
    "\n",
    "# drop old column\n",
    "df.drop(col, axis=1, inplace=True)"
   ]
  },
  {
   "cell_type": "markdown",
   "metadata": {},
   "source": [
    "## D2. Tuners"
   ]
  },
  {
   "cell_type": "code",
   "execution_count": 924,
   "metadata": {
    "collapsed": true
   },
   "outputs": [],
   "source": [
    "'''\n",
    "------------------\n",
    "Hardware.Tuning machines\n",
    "------------------\n",
    "['Die-cast ' 'Gotoh\\xa0' 'Gotoh locking' 'Gotoh locking\\xa0' 'Die-cast'\n",
    " 'Not specified' 'Locking' 'Enclosed' 'Locking\\xa0' 'Die-cast\\xa0'\n",
    " 'Die-cast sealed' 'Vintage-style' 'Deluxe staggered'\n",
    " 'Deluxe sealed/locking ' 'Vintage-style ' 'Vintage staggered'\n",
    " 'Deluxe staggered ' 'Vintage-style\\xa0' 'American vintage'\n",
    " 'Die-cast locking' 'Die-cast Locking' 'Schecter locking'\n",
    " 'Grover Rotomatic' 'Schecter Locking' 'Schecter' 'Schecter\\xa0' 'Grover'\n",
    " 'LTD' 'LTD locking' 'Sperzel locking' 'ESP locking']\n",
    " '''\n",
    "\n",
    "col = 'Hardware.Tuning machines'\n",
    "new_col = 'tuners'\n",
    "\n",
    "logic = [\n",
    "    (df[col].str.contains(\"locking\", regex=True, case=False))\n",
    "]\n",
    "\n",
    "values = ['Locking']\n",
    "\n",
    "df[new_col] = np.select(logic, values, default='Non-locking')\n",
    "\n",
    "# logic check\n",
    "df[[col, new_col]]\n",
    "\n",
    "# drop old column\n",
    "df.drop(col, axis=1, inplace=True)"
   ]
  },
  {
   "cell_type": "markdown",
   "metadata": {},
   "source": [
    "# E. Pickups"
   ]
  },
  {
   "cell_type": "code",
   "execution_count": 925,
   "metadata": {},
   "outputs": [
    {
     "name": "stdout",
     "output_type": "stream",
     "text": [
      "------------------\n",
      "Pickups.Active EQ\n",
      "------------------\n",
      "['' 'No' 'No ' 'Yes' 'Yes ']\n",
      "------------------\n",
      "Pickups.Active or passive\n",
      "------------------\n",
      "['' 'Active' 'Passive']\n",
      "------------------\n",
      "Pickups.Active or passive pickups\n",
      "------------------\n",
      "['Passive ' 'Passive' 'Active ' '' 'Active' 'Passive Series or parallel'\n",
      " 'PassiveSeries or parallel']\n",
      "------------------\n",
      "Pickups.Brand\n",
      "------------------\n",
      "['Seymour Duncan ' 'Seymour Duncan' 'Duncan Designed' 'Duncan Designed '\n",
      " 'Kent Armstrong' 'Dean' 'Dean ' 'DeanSeymour Duncan' 'Epiphone '\n",
      " 'Epiphone' 'EMG ' 'Music Man ' 'Music Man' 'DiMarzio' 'DiMarzio ' 'EMG'\n",
      " 'ESP' 'Fishman' 'Bare Knuckle' 'ESPSeymour Duncan' 'Fender Custom shop '\n",
      " 'Fender ' 'Fender' '' 'Gibson Custom ' 'Gibson' 'Gibson Custom' 'Gibson '\n",
      " 'G&L' 'Gretsch' 'Gretsch ' 'TV Jones ' 'Hamer ' 'Jackson ' 'PRS ' 'PRS'\n",
      " 'Reverend' 'Railhammer' 'Railhammer ' 'Reverend ' 'Schecter'\n",
      " 'Schecter Diamond' 'Squier' 'Squier ' 'Sterling']\n",
      "------------------\n",
      "Pickups.Bridge\n",
      "------------------\n",
      "['TB-6 Distortion' 'DA-59 humbucker' '' 'Humbucker' '59 humbucker'\n",
      " 'DA-59 humbucker ' 'HB-101' 'Humbucker ' 'DA-90 single-coil'\n",
      " 'USA Seymour Duncan 59 Humbucker' 'Kent Armstrong Humbucker ' 'DMT design'\n",
      " 'DMT design ' 'DMT Series Nostalgia' 'DMT Design BKBK' 'SH-6'\n",
      " 'ProBucker 3 ' '700T' 'EMG-57 (active)' 'Custom humbucking '\n",
      " 'Custom single-coil ' 'Custom-wound humbucker' 'Custom humbucking'\n",
      " 'Illuminator' 'Mini humbucker'\n",
      " 'Custom-wound humbucker with matte black cover' 'Custom wound single-coil'\n",
      " 'Illuminator ' 'DP-200 Morse signature' 'KH Bone Breaker' '57' 'JB'\n",
      " 'Blackened Black Winter' 'LH-150B' 'Fluence Modern humbucker ceramic'\n",
      " 'Aftermath' 'Saturday Night Special' 'High output humbucker' 'Custom-5'\n",
      " 'Pegasus' 'JB humbucking' 'EMG-81' 'Custom 5' '81X'\n",
      " 'Handwound Twisted Tele ' 'Custom-wound Jimmy Page Telecaster single-coil'\n",
      " 'Pure Vintage single-coil65 Jazzmaster' 'V-Mod Single-Coil Telecaster'\n",
      " 'Vintage 64 Gray-Bottom Single-Coil Tele'\n",
      " 'Pure Vintage 52 single-coil Tele' 'Alnico single-coil' 'Shawbucker 2T'\n",
      " 'Michael Frank-designedsingle-coil Jazzmaster'\n",
      " 'Pure Vintage single-coil65 Jaguar' 'Standard humbucking'\n",
      " 'Vintage Noiseless' 'Pure Vintage 65 single-coil Strat'\n",
      " 'Pure Vintage 59 single-coil Strat ' 'Atomic humbucker' 'Burstbucker'\n",
      " '’57 Classic Plus' 'CustomBucker ' 'CustomBucker'\n",
      " 'BurstBucker ProOpen coil' 'P-90 ' 'HumbuckerOpen Coil' 'Lead Pro'\n",
      " '490T Engraved cover' 'P90' 'BurstBucker 2' 'BroadTron' 'FilterTron '\n",
      " 'Black Top BroadTron' 'BroadTron BT-2S' 'Full’Tron' 'Classic'\n",
      " 'High Sensitive FilterTron' 'Dynasonic ' 'High-Sensitive Full’Tron' '60'\n",
      " 'HB-103B' '81' 'High-Output Humbucking' 'Blackouts AHB-1B' 'JB TB-4'\n",
      " 'HR-101B Hot Rails' 'Blackouts EMTY' 'Custom single-coil Artist Signature'\n",
      " 'TCI “S” Treble' '85/15\"S\"' 'SE 245 treble humbucker' '85/15 Treble' '9A5'\n",
      " '9A5Soapbar' 'ChiselCeramic' 'HA5 Bridge' 'Hyper vintage ' 'RevtronAlnico'\n",
      " 'Hyper vintageAlnico' 'Hyper vintage' 'HA5 ' 'HA5' 'Chisel' 'Humcutter'\n",
      " 'Apocalypse-II' 'Diamond Plus' 'San AndreasHumbucker' 'Nazgul'\n",
      " 'Nick Johnston' 'Diamond SuperRock Custom Alnico' 'Black Winter'\n",
      " 'Ceramic humbucking' 'Squier Active Humbucker' 'Standard humbucker Strat'\n",
      " 'Ceramic humbucking ' 'Standard single-coil'\n",
      " 'Fender Designed Alnico Single-Coil'\n",
      " 'Fender Designed Wide Range Humbucking'\n",
      " 'Fender Designed Alnico Humbucking' 'Single-coil']\n",
      "------------------\n",
      "Pickups.Configuration\n",
      "------------------\n",
      "['HH ' 'HH' 'H' 'SH' 'HS' 'SS' 'HSS ' 'SSS ' 'HHH' 'HSS' 'HSH' 'SS ' 'SSS'\n",
      " 'HSH ']\n",
      "------------------\n",
      "Pickups.Control layout\n",
      "------------------\n",
      "['' 'Master volume, tone ']\n",
      "------------------\n",
      "Pickups.Controls\n",
      "------------------\n",
      "['']\n",
      "------------------\n",
      "Pickups.Middle\n",
      "------------------\n",
      "['' 'Not applicable' 'Not applicable ' 'Custom single-coil '\n",
      " 'Mini humbucker' 'Custom single-coil' 'Custom wound single-coil' 'LS-120M'\n",
      " 'Not Specified' 'LH-150' 'STK-S4' 'Alnico single-coil' 'Vintage Noiseless'\n",
      " 'Pure Vintage 65 single-coil Strat' 'Pure Vintage 59 single-coil Strat '\n",
      " 'Texas Special single-coil' 'Custom Flat Strat SSL-6 RWRP Single-Coil'\n",
      " 'HR-101 Hot Rails' 'Custom Flat Strat SSL Single-Coil' 'HR-101M Hot Rails'\n",
      " 'Custom single-coil Artist Signature' '9A5' '9A5Soapbar' 'Nick Johnston'\n",
      " 'Single-coil' 'Standard single-coil Strat' 'Standard single-coil'\n",
      " 'Fender Designed Designed Alnico Single-Coil'\n",
      " 'Fender Designed Alnico Single-Coil']\n",
      "------------------\n",
      "Pickups.Neck\n",
      "------------------\n",
      "['SH-6 Distortion' 'DA-59 humbucker' 'Floating humbucker'\n",
      " 'Stacked single-coil' 'Stacked single-coil59 STK'\n",
      " 'Stacked single-coil DA-59' 'HB-102' 'DA-59 humbucker '\n",
      " 'Stacked single-coil ' 'DA-90 single-coil'\n",
      " 'USA Seymour Duncan 59 Humbucker' 'Kent Armstrong Humbucker' 'DMT design'\n",
      " 'DMT design ' 'DMT Series Nostalgia' 'DMT Design BKBK' 'ProBucker 2 '\n",
      " '650R' 'EMG-66 (active)' 'Custom single-coil ' 'Custom-wound humbucker'\n",
      " 'Custom humbucking' 'Illuminator' 'Mini humbucker' 'Custom single-coil'\n",
      " 'Custom-wound humbucker with matte black cover' 'Custom wound double-coil'\n",
      " 'Illuminator ' 'DP-205 Morse signature' 'KH Bone Breaker' '66' '59' ''\n",
      " 'LS-120N' 'LH-150N' 'Fluence Modern humbucker alnico'\n",
      " 'Saturday Night Special' 'High output humbucker' 'Jazz' 'Sentient'\n",
      " 'LH-120N' 'EMG-85' 'Jazz SH-2N' 'EMG-60' 'STK-S4' '85X'\n",
      " 'Handwound Twisted Tele ' 'Custom-wound Jimmy Page Telecaster single-coil'\n",
      " 'Pure Vintage single-coil65 Jazzmaster' 'V-Mod Single-Coil Telecaster'\n",
      " 'Vintage 64 Gray-Bottom Single-Coil Tele'\n",
      " 'Pure Vintage 52 single-coil Tele' 'Alnico single-coil' 'Shawbucker 1T'\n",
      " 'Michael Frank-designedsingle-coil Jazzmaster'\n",
      " 'Pure Vintage single-coil65 Jaguar' 'Standard humbucking'\n",
      " 'Vintage Noiseless' 'Pure Vintage 65 single-coil Strat' 'Humbucker'\n",
      " 'Pure Vintage 59 single-coil Strat ' 'Texas Special single-coil'\n",
      " 'Vintage Style Single-Coil Tele' 'Burstbucker' '57 Classic' '’57 Classic'\n",
      " 'CustomBucker ' 'CustomBucker' 'BurstBucker ProOpen coil' 'P-90 '\n",
      " 'HumbuckerOpen Coil' 'Rhythm Pro' '490R ' 'P90' 'BurstBucker 1'\n",
      " 'BroadTron' 'FilterTron ' 'Black Top BroadTron' 'BroadTron BT-2S'\n",
      " 'Full’Tron' 'Classic' 'High Sensitive FilterTron' 'Dynasonic '\n",
      " 'High-Sensitive Full’Tron' 'Humbucker ' '81' 'HB-103N' '60'\n",
      " 'High-Output Humbucking' 'Blackouts AHB-1N'\n",
      " 'Custom Flat Strat SSL-6 Single-Coil' 'HR-101 Hot Rails' 'HR-103N'\n",
      " '59 SH-1N' 'Custom Flat Strat SSL Single-Coil' 'HR-101N Hot Rails'\n",
      " 'SH-6N Distortion' 'Blackouts EMTY' 'Custom single-coil Artist Signature'\n",
      " 'TCI “S” Bass' '85/15\"S\"\"' 'SE 245 bass humbucker' '85/15 Bass' '9A5'\n",
      " '9A5Soapbar' 'ChiselCeramic' '9A5 Neck' 'Hyper vintage ' 'RevtronAlnico'\n",
      " 'Hyper vintageAlnico' 'Hyper vintage' 'HA5 ' 'HA5' 'Chisel' 'Humcutter'\n",
      " 'Apocalypse-II' 'Diamond Plus' 'San AndreasHumbucker' 'Nick Johnston '\n",
      " 'Diamond SuperRock Custom Alnico' 'Black Winter' 'Single-coil'\n",
      " 'Squier Active Humbucker' 'Standard single-coil Strat'\n",
      " 'Ceramic humbucking ' 'Standard single-coil'\n",
      " 'Fender Designed Alnico Single-Coil'\n",
      " 'Fender Designed Designed Alnico Single-Coil'\n",
      " 'Fender Designed Wide Range Humbucking']\n",
      "------------------\n",
      "Pickups.Pickup switch\n",
      "------------------\n",
      "['' '5-way ']\n",
      "------------------\n",
      "Pickups.Piezo\n",
      "------------------\n",
      "['' 'No' 'No ' 'Yes' 'Yes ']\n",
      "------------------\n",
      "Pickups.Series or parallel\n",
      "------------------\n",
      "['Parallel ' 'Series' 'Parallel' 'Series ' '' 'Not applicable']\n",
      "------------------\n",
      "Pickups.Special electronics\n",
      "------------------\n",
      "['Push/push tone activation' 'Push/pull coil tapson tone pots' 'None'\n",
      " 'Not applicable' 'Push/pull coil taps on tone pots' 'Not applicable ' 'No'\n",
      " '' 'None ' 'Mallory 150 Capacitors (.022uF)'\n",
      " 'EZ-Access 9-Volt Battery compartment on back ' 'Silent circuit '\n",
      " 'Piezo preamp, pickup boost, stereo and mono outputs'\n",
      " 'Custom pickup switching' 'Silent circuit' 'Coil tap'\n",
      " 'Push/push volume boost, 500kohm push/push passive tone for custom 2 pickup configurations'\n",
      " 'Custom Music Man® active preamp; push/push volume for gain boost, 500kohm push/push passive tone for custom 2 pickup configurations - .022µF tone capacitor'\n",
      " 'Piezo preamp' 'Selectable voicing'\n",
      " 'Modern Tele wiring with Greasebucket tone circuit'\n",
      " '2-Position Slide Switch for Bass-Cut “Strangle” Circuit'\n",
      " 'Push/pull control for more pickup combinations'\n",
      " 'Greasebucket tone circuit'\n",
      " '2 500K CTS Volume Pots, 2 500K CTS Tone Pots, Hand-Wired Harness with Bumblebee Capacitors, Switchcraft Toggle Switch'\n",
      " 'User configurable pickup voicings'\n",
      " '6-Position Stereo Varitone, 2 output jacks, hand-wired with ceramic capactors'\n",
      " 'Orange drop capacitor' 'Pure Boost, Coil split and coil select'\n",
      " 'PTB system'\n",
      " 'Treble bleed circuit, “no-load” tone control, “Squeezebox” PIO capacitors '\n",
      " 'Push/pull tone control ' 'Bass contour' 'Bass contour '\n",
      " 'Push-pull coil splitting '\n",
      " 'Push/Pull voice switching on volume and tone knobs' 'Active Electronics'\n",
      " 'Specially-Voiced Rhythm and Lead Circuit Controls '\n",
      " 'Push/push volume boostActive 9V-powered 12dB boost']\n"
     ]
    }
   ],
   "source": [
    "df2 = df.filter(like='Pickups', axis=1)\n",
    "for column in list(df2):\n",
    "    print('------------------')\n",
    "    print(column)\n",
    "    print('------------------')\n",
    "    print(df2[column].unique())"
   ]
  },
  {
   "cell_type": "code",
   "execution_count": 926,
   "metadata": {
    "collapsed": true
   },
   "outputs": [],
   "source": [
    "# Choose features to include\n",
    "# 1. Active or Passive\n",
    "# 2. Configuration\n",
    "# 3. Piezo"
   ]
  },
  {
   "cell_type": "markdown",
   "metadata": {},
   "source": [
    "## E1. Active or Passive Pickups"
   ]
  },
  {
   "cell_type": "code",
   "execution_count": 927,
   "metadata": {
    "collapsed": true
   },
   "outputs": [],
   "source": [
    "'''\n",
    "------------------\n",
    "Pickups.Active or passive pickups\n",
    "------------------\n",
    "['Passive ' 'Passive' 'Passive\\xa0' '' 'Active' 'Active ']\n",
    " '''\n",
    "\n",
    "col = 'Pickups.Active or passive pickups'\n",
    "new_col = 'active_or_passive'\n",
    "\n",
    "logic = [\n",
    "    (df[col].str.contains(\"Active\", regex=True, case=False)),\n",
    "    (df[col].str.contains(\"Passive\", regex=True, case=False))\n",
    "]\n",
    "\n",
    "values = ['Active',\n",
    "          'Passive']\n",
    "\n",
    "df[new_col] = np.select(logic, values, default='Unknown')\n",
    "\n",
    "# logic check\n",
    "df[[col, new_col]]\n",
    "\n",
    "# drop old column\n",
    "df.drop(col, axis=1, inplace=True)"
   ]
  },
  {
   "cell_type": "markdown",
   "metadata": {},
   "source": [
    "## E2. Pickup Configuration"
   ]
  },
  {
   "cell_type": "code",
   "execution_count": 928,
   "metadata": {
    "collapsed": true
   },
   "outputs": [],
   "source": [
    "'''\n",
    "------------------\n",
    "Pickups.Configuration\n",
    "------------------\n",
    "['HH ' 'HSH' 'HSH ' 'HH' 'SSH\\xa0' 'HSS\\xa0' 'SSH' 'HSS' 'HS' 'SS' 'SSS'\n",
    " 'SSS ' 'SS ' 'HH\\xa0' 'H']\n",
    " '''\n",
    "\n",
    "col = 'Pickups.Configuration'\n",
    "new_col = 'pickup_configuration'\n",
    "\n",
    "logic = [\n",
    "    (df[col].str.contains(\"HH ?|HH\\xa0\", regex=True, case=False)),\n",
    "    (df[col].str.contains(\"HSH\", regex=True, case=False)),\n",
    "    (df[col].str.contains(\"SSH\", regex=True, case=False)),\n",
    "    (df[col].str.contains(\"HSS\", regex=True, case=False)),\n",
    "    (df[col].str.contains(\"^HS$\", regex=True, case=False)),\n",
    "    (df[col].str.contains(\"^SS ?$\", regex=True, case=False)),\n",
    "    (df[col].str.contains(\"SSS\", regex=True, case=False)),\n",
    "    (df[col].str.contains(\"^H$\", regex=True, case=False))\n",
    "]\n",
    "\n",
    "values = ['HH',\n",
    "          'HSH',\n",
    "          'SSH',\n",
    "          'HSS',\n",
    "          'HS',\n",
    "          'SS',\n",
    "          'SSS',\n",
    "          'H']\n",
    "\n",
    "df[new_col] = np.select(logic, values, default='Unknown')\n",
    "\n",
    "# logic check\n",
    "df[[col, new_col]]\n",
    "\n",
    "# drop old column\n",
    "df.drop(col, axis=1, inplace=True)"
   ]
  },
  {
   "cell_type": "markdown",
   "metadata": {},
   "source": [
    "## E3. Piezo"
   ]
  },
  {
   "cell_type": "code",
   "execution_count": 929,
   "metadata": {
    "collapsed": true
   },
   "outputs": [],
   "source": [
    "'''\n",
    "------------------\n",
    "Pickups.Piezo\n",
    "------------------\n",
    "['No ' 'Yes' 'No' 'No\\xa0' '']\n",
    " '''\n",
    "\n",
    "col = 'Pickups.Piezo'\n",
    "new_col = 'piezo'\n",
    "\n",
    "logic = [\n",
    "    (df[col].str.contains(\"Yes\", regex=True, case=False)),\n",
    "    (df[col].str.contains(\"No\", regex=True, case=False))\n",
    "]\n",
    "\n",
    "values = ['Yes',\n",
    "          'No']\n",
    "\n",
    "df[new_col] = np.select(logic, values, default='No')\n",
    "\n",
    "# logic check\n",
    "df[[col, new_col]]\n",
    "\n",
    "# drop old column\n",
    "df.drop(col, axis=1, inplace=True)"
   ]
  },
  {
   "cell_type": "markdown",
   "metadata": {},
   "source": [
    "## F. Other Columns"
   ]
  },
  {
   "cell_type": "markdown",
   "metadata": {},
   "source": [
    "### F1. Country"
   ]
  },
  {
   "cell_type": "code",
   "execution_count": 930,
   "metadata": {},
   "outputs": [
    {
     "name": "stdout",
     "output_type": "stream",
     "text": [
      "------------------\n",
      "Other.Country of origin\n",
      "------------------\n",
      "['Mexico' 'South Korea' 'Indonesia' 'China' 'United States'\n",
      " 'Info not available' 'Japan']\n"
     ]
    }
   ],
   "source": [
    "df2 = df.filter(like='Country', axis=1)\n",
    "for column in list(df2):\n",
    "    print('------------------')\n",
    "    print(column)\n",
    "    print('------------------')\n",
    "    print(df2[column].unique())"
   ]
  },
  {
   "cell_type": "code",
   "execution_count": 931,
   "metadata": {
    "collapsed": true
   },
   "outputs": [],
   "source": [
    "'''\n",
    "------------------\n",
    "Other.Country of origin\n",
    "------------------\n",
    "['Indonesia' 'Japan' 'Info not available']\n",
    " '''\n",
    "\n",
    "col = 'Other.Country of origin'\n",
    "new_col = 'country'\n",
    "\n",
    "logic = [\n",
    "    (df[col].str.contains(\"Japan\", regex=True, case=False)), \n",
    "    (df[col].str.contains(\"United States\", regex=True, case=False)),\n",
    "    (df[col].str.contains(\"Korea\", regex=True, case=False)),\n",
    "    (df[col].str.contains(\"Indonesia\", regex=True, case=False)),\n",
    "    (df[col].str.contains(\"China\", regex=True, case=False)),\n",
    "    (df[col].str.contains(\"Mexico\", regex=True, case=False)),\n",
    "    (df[col].str.contains(\"Malaysia\", regex=True, case=False))\n",
    "]\n",
    "\n",
    "values = ['Japan',\n",
    "          'United States',\n",
    "          'South Korea',\n",
    "          'Indonesia',\n",
    "          'China',\n",
    "          'Mexico',\n",
    "          'Malaysia']\n",
    "\n",
    "df[new_col] = np.select(logic, values, default='Unknown')\n",
    "\n",
    "# logic check\n",
    "df[[col, new_col]]\n",
    "\n",
    "# drop old column\n",
    "df.drop(col, axis=1, inplace=True)"
   ]
  },
  {
   "cell_type": "markdown",
   "metadata": {},
   "source": [
    "### F2. Manufacturer"
   ]
  },
  {
   "cell_type": "code",
   "execution_count": 932,
   "metadata": {},
   "outputs": [
    {
     "name": "stdout",
     "output_type": "stream",
     "text": [
      "------------------\n",
      "Manufacturer\n",
      "------------------\n",
      "['Charvel' 'DAngelico' 'Dean' 'Epiphone' 'Ernie' 'ESP' 'Fender' 'Gibson'\n",
      " 'G&L' 'Gretsch' 'Hamer' 'Jackson' 'PRS' 'Reverend' 'Schecter' 'Squier'\n",
      " 'Sterling']\n"
     ]
    }
   ],
   "source": [
    "df2 = df.filter(like='Manufacturer', axis=1)\n",
    "for column in list(df2):\n",
    "    print('------------------')\n",
    "    print(column)\n",
    "    print('------------------')\n",
    "    print(df2[column].unique())"
   ]
  },
  {
   "cell_type": "code",
   "execution_count": 933,
   "metadata": {
    "collapsed": true
   },
   "outputs": [],
   "source": [
    "'''\n",
    "------------------\n",
    "Manufacturer\n",
    "------------------\n",
    "['Charvel' 'DAngelico' 'Dean' 'Epiphone' 'Ernie' 'ESP' 'Fender' 'Gibson'\n",
    " 'G&L' 'Gretsch' 'Hamer' 'Jackson' 'PRS' 'Reverend' 'Schecter' 'Squier'\n",
    " 'Sterling']\n",
    " '''\n",
    "\n",
    "col = 'Manufacturer'\n",
    "new_col = 'manufacturer'\n",
    "\n",
    "logic = [\n",
    "    (df[col].str.contains(\"Charvel\", regex=True, case=False)), \n",
    "    (df[col].str.contains(\"DAngelico\", regex=True, case=False)),\n",
    "    (df[col].str.contains(\"Dean\", regex=True, case=False)),\n",
    "    (df[col].str.contains(\"Epiphone\", regex=True, case=False)),\n",
    "    (df[col].str.contains(\"Ernie\", regex=True, case=False)),\n",
    "    (df[col].str.contains(\"ESP\", regex=True, case=False)),\n",
    "    (df[col].str.contains(\"Fender\", regex=True, case=False)),\n",
    "    (df[col].str.contains(\"Gibson\", regex=True, case=False)),\n",
    "    (df[col].str.contains(\"G&L\", regex=True, case=False)),\n",
    "    (df[col].str.contains(\"Gretsch\", regex=True, case=False)),\n",
    "    (df[col].str.contains(\"Hamer\", regex=True, case=False)),\n",
    "    (df[col].str.contains(\"Jackson\", regex=True, case=False)),\n",
    "    (df[col].str.contains(\"PRS\", regex=True, case=False)),\n",
    "    (df[col].str.contains(\"Reverend\", regex=True, case=False)),\n",
    "    (df[col].str.contains(\"Schecter\", regex=True, case=False)),\n",
    "    (df[col].str.contains(\"Squier\", regex=True, case=False)),\n",
    "    (df[col].str.contains(\"Sterling\", regex=True, case=False))\n",
    "]\n",
    "\n",
    "values = ['Charvel',\n",
    "          'DAngelico',\n",
    "          'Dean',\n",
    "          'Epiphone',\n",
    "          'Ernie Ball Music Man',\n",
    "          'ESP',\n",
    "          'Fender',\n",
    "          'Gibson',\n",
    "          'G&L',\n",
    "          'Gretsch',\n",
    "          'Hamer',\n",
    "          'Jackson',\n",
    "          'PRS',\n",
    "          'Reverend',\n",
    "          'Schecter',\n",
    "          'Squier',\n",
    "          'Sterling']\n",
    "\n",
    "df[new_col] = np.select(logic, values, default='Unknown')\n",
    "\n",
    "# logic check\n",
    "df[[col, new_col]]\n",
    "\n",
    "# drop old column\n",
    "df.drop(col, axis=1, inplace=True)"
   ]
  },
  {
   "cell_type": "markdown",
   "metadata": {},
   "source": [
    "# III. Prepare Data Extract"
   ]
  },
  {
   "cell_type": "code",
   "execution_count": 934,
   "metadata": {
    "collapsed": true
   },
   "outputs": [],
   "source": [
    "# Columns\n",
    "# 1. manufacturer\n",
    "# 2. price\n",
    "# 3. country\n",
    "# 4. body_shape\n",
    "# 5. body_type\n",
    "# 6. neck_joint\n",
    "# 7. neck_finish\n",
    "# 8. fretboard_material\n",
    "# 9. number_of_frets\n",
    "# 10. bridge_type\n",
    "# 11. tuners\n",
    "# 12. active_or_passive\n",
    "# 13. pickup_configuration\n",
    "# 14. piezo"
   ]
  },
  {
   "cell_type": "code",
   "execution_count": 936,
   "metadata": {
    "collapsed": true
   },
   "outputs": [],
   "source": [
    "# rename existing columns\n",
    "df.rename(columns={'Manufacturer': 'manufacturer', 'Price': 'price', 'Product': 'product', 'Other.Country of origin': 'country'}, inplace=True)"
   ]
  },
  {
   "cell_type": "code",
   "execution_count": 937,
   "metadata": {},
   "outputs": [
    {
     "data": {
      "text/plain": [
       "Index([' Middle.', ' Middle.Active or passive pickups', ' Middle.Brand',\n",
       "       ' Middle.Bridge', ' Middle.Series or parallel', 'Body.Body Material',\n",
       "       'Body.Body aaterial', 'Body.Body finish', 'Body.Body material',\n",
       "       'Body.Body wood', 'Body.Neck', 'Body.Orientataion', 'Body.Orientation',\n",
       "       'Body.Top wood', 'Controls.Coil tap or split',\n",
       "       'Controls.Control layout', 'Controls.Controls', 'Controls.Kill switch',\n",
       "       'Controls.Lead Circuit Controls (Slide Switch Down)',\n",
       "       'Controls.Pickup switch',\n",
       "       'Controls.Rhythm Circuit Controls (Slide Switch Up)',\n",
       "       'Controls.Special Electronics', 'Fretboard.Fret size',\n",
       "       'Fretboard.Inlays', 'Fretboard.Nut width',\n",
       "       'Fretboard.Nut width/Material', 'Fretboard.Radius',\n",
       "       'Hardware.Bridge design', 'Hardware.Color', 'Hardware.Tailpiece',\n",
       "       'Neck.Neck shape', 'Neck.Neck wood', 'Neck.Scale length',\n",
       "       'Neck.Truss rod', 'Neck.shape', 'Other.Accessories', 'Other.Case',\n",
       "       'Other.Number of strings', 'Other.Special features',\n",
       "       'Pickups.Active EQ', 'Pickups.Active or passive', 'Pickups.Brand',\n",
       "       'Pickups.Bridge', 'Pickups.Control layout', 'Pickups.Controls',\n",
       "       'Pickups.Middle', 'Pickups.Neck', 'Pickups.Pickup switch',\n",
       "       'Pickups.Series or parallel', 'Pickups.Special electronics', 'price',\n",
       "       'product', 'Product ID', 'image_url', 'page_url', 'body_shape',\n",
       "       'body_type', 'neck_joint', 'neck_finish', 'fretboard_material',\n",
       "       'number_of_frets', 'bridge_type', 'tuners', 'active_or_passive',\n",
       "       'pickup_configuration', 'piezo', 'country', 'manufacturer'],\n",
       "      dtype='object')"
      ]
     },
     "execution_count": 937,
     "metadata": {},
     "output_type": "execute_result"
    }
   ],
   "source": [
    "df.columns"
   ]
  },
  {
   "cell_type": "code",
   "execution_count": 939,
   "metadata": {
    "scrolled": false
   },
   "outputs": [
    {
     "data": {
      "text/plain": [
       "'[{\"manufacturer\":\"Charvel\",\"price\":929.99,\"country\":\"Mexico\",\"product\":\"Pro-Mod So-Cal Style 1 HH FR Left-Handed Electric Guitar\",\"page_url\":\"https:\\\\/\\\\/www.musiciansfriend.com\\\\/guitars\\\\/charvel-pro-mod-so-cal-style-1-hh-fr-left-handed-electric-guitar\",\"image_url\":\"https:\\\\/\\\\/media.musiciansfriend.com\\\\/is\\\\/image\\\\/MMGS7\\\\/Pro-Mod-So-Cal-Style-1-HH-FR-Left-Handed-Electric-Guitar-Snow-White\\\\/L47731000001000-00-220x220.jpg\",\"body_shape\":\"Single cutaway\",\"body_type\":\"Solid\",\"neck_joint\":\"Bolt-on\",\"neck_finish\":\"Satin\",\"fretboard_material\":\"Maple\",\"number_of_frets\":\"22\",\"bridge_type\":\"Tremolo\",\"tuners\":\"Non-locking\",\"active_or_passive\":\"Passive\",\"pickup_configuration\":\"HH\",\"piezo\":\"No\"},{\"manufacturer\":\"Charvel\",\"price\":899.99,\"country\":\"Mexico\",\"product\":\"Pro-Mod So-Cal Style 1 HH FR Electric Guitar\",\"page_url\":\"https:\\\\/\\\\/www.musiciansfriend.com\\\\/guitars\\\\/charvel-pro-mod-so-cal-style-1-hh-fr-electric-guitar\",\"image_url\":\"https:\\\\/\\\\/media.musiciansfriend.com\\\\/is\\\\/image\\\\/MMGS7\\\\/Pro-Mod-So-Cal-Style-1-HH-FR-Electric-Guitar-Deep-Purple-Metallic\\\\/L47724000002000-00-220x220.jpg\",\"body_shape\":\"Single cutaway\",\"body_type\":\"Solid\",\"neck_joint\":\"Bolt-on\",\"neck_finish\":\"Satin\",\"fretboard_material\":\"Maple\",\"number_of_frets\":\"22\",\"bridge_type\":\"Tremolo\",\"tuners\":\"Non-locking\",\"active_or_passive\":\"Passive\",\"pickup_configuration\":\"HH\",\"piezo\":\"No\"},{\"manufacturer\":\"DAngelico\",\"price\":1299.0,\"country\":\"South Korea\",\"product\":\"Deluxe Series Atlantic Electric Guitar with Stopbar Tailpiece\",\"page_url\":\"https:\\\\/\\\\/www.musiciansfriend.com\\\\/guitars\\\\/dangelico-deluxe-series-atlantic-electric-guitar-with-stopbar-tailpiece\",\"image_url\":\"https:\\\\/\\\\/media.musiciansfriend.com\\\\/is\\\\/image\\\\/MMGS7\\\\/Deluxe-Series-Atlantic-Electric-Guitar-with-Stopbar-Tailpiece-Hunter-Green\\\\/L01483000002000-00-220x220.jpg\",\"body_shape\":\"Single cutaway\",\"body_type\":\"Solid\",\"neck_joint\":\"Set-in\",\"neck_finish\":\"Satin\",\"fretboard_material\":\"Other\",\"number_of_frets\":\"22\",\"bridge_type\":\"Fixed\",\"tuners\":\"Locking\",\"active_or_passive\":\"Passive\",\"pickup_configuration\":\"HH\",\"piezo\":\"No\"},{\"manufacturer\":\"DAngelico\",\"price\":1349.0,\"country\":\"South Korea\",\"product\":\"Excel EXL-1 Hollowbody Electric Guitar with Stairstep Tailpiece\",\"page_url\":\"https:\\\\/\\\\/www.musiciansfriend.com\\\\/guitars\\\\/dangelico-excel-exl-1-hollowbody-electric-guitar-with-stairstep-tailpiece\",\"image_url\":\"https:\\\\/\\\\/media.musiciansfriend.com\\\\/is\\\\/image\\\\/MMGS7\\\\/Excel-EXL-1-Hollowbody-Electric-Guitar-with-Stairstep-Tailpiece-Black\\\\/L04941000002000-00-220x220.jpg\",\"body_shape\":\"Unknown\",\"body_type\":\"Hollow\",\"neck_joint\":\"Set-thru\",\"neck_finish\":\"Gloss\",\"fretboard_material\":\"Other\",\"number_of_frets\":\"22\",\"bridge_type\":\"Unknown\",\"tuners\":\"Non-locking\",\"active_or_passive\":\"Passive\",\"pickup_configuration\":\"H\",\"piezo\":\"No\"},{\"manufacturer\":\"DAngelico\",\"price\":699.99,\"country\":\"Indonesia\",\"product\":\"Premier Series Bedford Electric Guitar with Stopbar Tailpiece\",\"page_url\":\"https:\\\\/\\\\/www.musiciansfriend.com\\\\/guitars\\\\/dangelico-premier-series-bedford-electric-guitar-with-stopbar-tailpiece\",\"image_url\":\"https:\\\\/\\\\/media.musiciansfriend.com\\\\/is\\\\/image\\\\/MMGS7\\\\/Premier-Series-Bedford-Electric-Guitar-with-Stopbar-Tailpiece-Antique-White\\\\/L00587000003000-00-220x220.jpg\",\"body_shape\":\"Unknown\",\"body_type\":\"Solid\",\"neck_joint\":\"Set-in\",\"neck_finish\":\"Satin\",\"fretboard_material\":\"Other\",\"number_of_frets\":\"22\",\"bridge_type\":\"Fixed\",\"tuners\":\"Non-locking\",\"active_or_passive\":\"Passive\",\"pickup_configuration\":\"Unknown\",\"piezo\":\"No\"},{\"manufacturer\":\"DAngelico\",\"price\":1199.0,\"country\":\"South Korea\",\"product\":\"Deluxe Series Bedford Electric Guitar with Stopbar Tailpiece\",\"page_url\":\"https:\\\\/\\\\/www.musiciansfriend.com\\\\/guitars\\\\/dangelico-deluxe-series-bedford-electric-guitar-with-stopbar-tailpiece\",\"image_url\":\"https:\\\\/\\\\/media.musiciansfriend.com\\\\/is\\\\/image\\\\/MMGS7\\\\/Deluxe-Series-Bedford-Electric-Guitar-with-Stopbar-Tailpiece-Chameleon\\\\/L01480000004000-00-220x220.jpg\",\"body_shape\":\"Unknown\",\"body_type\":\"Solid\",\"neck_joint\":\"Set-in\",\"neck_finish\":\"Satin\",\"fretboard_material\":\"Other\",\"number_of_frets\":\"22\",\"bridge_type\":\"Fixed\",\"tuners\":\"Locking\",\"active_or_passive\":\"Passive\",\"pickup_configuration\":\"HS\",\"piezo\":\"No\"},{\"manufacturer\":\"DAngelico\",\"price\":1199.0,\"country\":\"South Korea\",\"product\":\"Deluxe Series Bedford Electric Guitar with Tremolo Tailpiece\",\"page_url\":\"https:\\\\/\\\\/www.musiciansfriend.com\\\\/guitars\\\\/dangelico-deluxe-series-bedford-electric-guitar-with-tremolo-tailpiece\",\"image_url\":\"https:\\\\/\\\\/media.musiciansfriend.com\\\\/is\\\\/image\\\\/MMGS7\\\\/Deluxe-Series-Bedford-Electric-Guitar-with-Tremolo-Tailpiece-Black\\\\/L01481000001000-00-220x220.jpg\",\"body_shape\":\"Unknown\",\"body_type\":\"Solid\",\"neck_joint\":\"Set-in\",\"neck_finish\":\"Satin\",\"fretboard_material\":\"Other\",\"number_of_frets\":\"22\",\"bridge_type\":\"Tremolo\",\"tuners\":\"Locking\",\"active_or_passive\":\"Passive\",\"pickup_configuration\":\"HS\",\"piezo\":\"No\"},{\"manufacturer\":\"DAngelico\",\"price\":799.99,\"country\":\"Indonesia\",\"product\":\"Premier DC Semi-Hollow Electric Guitar with Stairstep Tailpiece\",\"page_url\":\"https:\\\\/\\\\/www.musiciansfriend.com\\\\/guitars\\\\/dangelico-premier-dc-semi-hollow-electric-guitar-with-stairstep-tailpiece\",\"image_url\":\"https:\\\\/\\\\/media.musiciansfriend.com\\\\/is\\\\/image\\\\/MMGS7\\\\/Premier-DC-Semi-Hollow-Electric-Guitar-with-Stairstep-Tailpiece-Ocean-Turquoise\\\\/L00615000001000-00-220x220.jpg\",\"body_shape\":\"Double cutaway\",\"body_type\":\"Semi-hollow\",\"neck_joint\":\"Set-in\",\"neck_finish\":\"Gloss\",\"fretboard_material\":\"Other\",\"number_of_frets\":\"22\",\"bridge_type\":\"Fixed\",\"tuners\":\"Non-locking\",\"active_or_passive\":\"Passive\",\"pickup_configuration\":\"HH\",\"piezo\":\"No\"},{\"manufacturer\":\"DAngelico\",\"price\":1399.0,\"country\":\"South Korea\",\"product\":\"Deluxe Series Atlantic Swamp Ash Electric Guitar with Stopbar Tailpiece\",\"page_url\":\"https:\\\\/\\\\/www.musiciansfriend.com\\\\/guitars\\\\/dangelico-deluxe-series-atlantic-swamp-ash-electric-guitar-with-stopbar-tailpiece\",\"image_url\":\"https:\\\\/\\\\/media.musiciansfriend.com\\\\/is\\\\/image\\\\/MMGS7\\\\/Deluxe-Series-Atlantic-Swamp-Ash-Electric-Guitar-with-Stopbar-Tailpiece-Natural-Swamp-Ash\\\\/L01485000001000-00-220x220.jpg\",\"body_shape\":\"Single cutaway\",\"body_type\":\"Solid\",\"neck_joint\":\"Set-in\",\"neck_finish\":\"Satin\",\"fretboard_material\":\"Other\",\"number_of_frets\":\"22\",\"bridge_type\":\"Fixed\",\"tuners\":\"Locking\",\"active_or_passive\":\"Passive\",\"pickup_configuration\":\"HH\",\"piezo\":\"No\"},{\"manufacturer\":\"DAngelico\",\"price\":798.95,\"country\":\"Indonesia\",\"product\":\"Premier Series Bedford Grateful Dead Special Edition Electric Guitar\",\"page_url\":\"https:\\\\/\\\\/www.musiciansfriend.com\\\\/guitars\\\\/dangelico-premier-series-bedford-grateful-dead-special-edition-electric-guitar\",\"image_url\":\"https:\\\\/\\\\/media.musiciansfriend.com\\\\/is\\\\/image\\\\/MMGS7\\\\/Premier-Series-Bedford-Grateful-Dead-Special-Edition-Electric-Guitar-Antique-White\\\\/L00595000001000-00-220x220.jpg\",\"body_shape\":\"Unknown\",\"body_type\":\"Solid\",\"neck_joint\":\"Set-in\",\"neck_finish\":\"Satin\",\"fretboard_material\":\"Other\",\"number_of_frets\":\"22\",\"bridge_type\":\"Fixed\",\"tuners\":\"Non-locking\",\"active_or_passive\":\"Passive\",\"pickup_configuration\":\"Unknown\",\"piezo\":\"No\"},{\"manufacturer\":\"DAngelico\",\"price\":1299.0,\"country\":\"South Korea\",\"product\":\"Deluxe Series Bedford Electric Guitar with P-90s and Stopbar Tailpiece\",\"page_url\":\"https:\\\\/\\\\/www.musiciansfriend.com\\\\/guitars\\\\/dangelico-deluxe-series-bedford-electric-guitar-with-p-90s-and-stopbar-tailpiece\",\"image_url\":\"https:\\\\/\\\\/media.musiciansfriend.com\\\\/is\\\\/image\\\\/MMGS7\\\\/Deluxe-Series-Bedford-Electric-Guitar-with-P-90s-and-Stopbar-Tailpiece-Natural-Swamp-Ash\\\\/L01482000001000-00-220x220.jpg\",\"body_shape\":\"Unknown\",\"body_type\":\"Solid\",\"neck_joint\":\"Set-in\",\"neck_finish\":\"Satin\",\"fretboard_material\":\"Other\",\"number_of_frets\":\"22\",\"bridge_type\":\"Tremolo\",\"tuners\":\"Locking\",\"active_or_passive\":\"Passive\",\"pickup_configuration\":\"SS\",\"piezo\":\"No\"},{\"manufacturer\":\"DAngelico\",\"price\":699.99,\"country\":\"Indonesia\",\"product\":\"Premier Series Atlantic Electric Guitar with Stopbar Tailpiece\",\"page_url\":\"https:\\\\/\\\\/www.musiciansfriend.com\\\\/guitars\\\\/dangelico-premier-series-atlantic-electric-guitar-with-stopbar-tailpiece\",\"image_url\":\"https:\\\\/\\\\/media.musiciansfriend.com\\\\/is\\\\/image\\\\/MMGS7\\\\/Premier-Series-Atlantic-Electric-Guitar-with-Stopbar-Tailpiece-Army-Green\\\\/L00601000001000-00-220x220.jpg\",\"body_shape\":\"Single cutaway\",\"body_type\":\"Solid\",\"neck_joint\":\"Set-in\",\"neck_finish\":\"Satin\",\"fretboard_material\":\"Other\",\"number_of_frets\":\"22\",\"bridge_type\":\"Fixed\",\"tuners\":\"Non-locking\",\"active_or_passive\":\"Passive\",\"pickup_configuration\":\"HH\",\"piezo\":\"No\"},{\"manufacturer\":\"DAngelico\",\"price\":699.99,\"country\":\"Indonesia\",\"product\":\"Premier Series Bedford Electric Guitar with Tremolo Tailpiece\",\"page_url\":\"https:\\\\/\\\\/www.musiciansfriend.com\\\\/guitars\\\\/dangelico-premier-series-bedford-electric-guitar-with-tremolo-tailpiece\",\"image_url\":\"https:\\\\/\\\\/media.musiciansfriend.com\\\\/is\\\\/image\\\\/MMGS7\\\\/Premier-Series-Bedford-Electric-Guitar-with-Tremolo-Tailpiece-Black\\\\/L00599000001000-00-220x220.jpg\",\"body_shape\":\"Unknown\",\"body_type\":\"Solid\",\"neck_joint\":\"Set-in\",\"neck_finish\":\"Satin\",\"fretboard_material\":\"Maple\",\"number_of_frets\":\"22\",\"bridge_type\":\"Tremolo\",\"tuners\":\"Non-locking\",\"active_or_passive\":\"Passive\",\"pickup_configuration\":\"Unknown\",\"piezo\":\"No\"},{\"manufacturer\":\"DAngelico\",\"price\":1799.99,\"country\":\"South Korea\",\"product\":\"Excel Series SS Semi-Hollow Electric Guitar with Stopbar Tailpiece\",\"page_url\":\"https:\\\\/\\\\/www.musiciansfriend.com\\\\/guitars\\\\/dangelico-excel-series-ss-semi-hollow-electric-guitar-with-stopbar-tailpiece\\\\/l48325\",\"image_url\":\"https:\\\\/\\\\/media.musiciansfriend.com\\\\/is\\\\/image\\\\/MMGS7\\\\/Excel-Series-SS-Semi-Hollow-Electric-Guitar-with-Stopbar-Tailpiece-Iced-Tea-Burst\\\\/L48325000003000-00-220x220.jpg\",\"body_shape\":\"Single cutaway\",\"body_type\":\"Semi-hollow\",\"neck_joint\":\"Set-in\",\"neck_finish\":\"Gloss\",\"fretboard_material\":\"Other\",\"number_of_frets\":\"22\",\"bridge_type\":\"Fixed\",\"tuners\":\"Non-locking\",\"active_or_passive\":\"Passive\",\"pickup_configuration\":\"HH\",\"piezo\":\"No\"},{\"manufacturer\":\"DAngelico\",\"price\":799.99,\"country\":\"Indonesia\",\"product\":\"Premier Series EXL-1 Hollowbody Electric Guitar with Stairstep Tailpiece\",\"page_url\":\"https:\\\\/\\\\/www.musiciansfriend.com\\\\/guitars\\\\/dangelico-premier-series-exl-1-hollowbody-electric-guitar-with-stairstep-tailpiece\\\\/l00602\",\"image_url\":\"https:\\\\/\\\\/media.musiciansfriend.com\\\\/is\\\\/image\\\\/MMGS7\\\\/Premier-Series-EXL-1-Hollowbody-Electric-Guitar-with-Stairstep-Tailpiece-Fiesta-Red\\\\/L00602000002000-00-220x220.jpg\",\"body_shape\":\"Unknown\",\"body_type\":\"Hollow\",\"neck_joint\":\"Set-thru\",\"neck_finish\":\"Gloss\",\"fretboard_material\":\"Other\",\"number_of_frets\":\"22\",\"bridge_type\":\"Unknown\",\"tuners\":\"Non-locking\",\"active_or_passive\":\"Passive\",\"pickup_configuration\":\"H\",\"piezo\":\"No\"},{\"manufacturer\":\"DAngelico\",\"price\":1359.99,\"country\":\"South Korea\",\"product\":\"Excel Series SS Semi-Hollow Electric Guitar with Stopbar Tailpiece\",\"page_url\":\"https:\\\\/\\\\/www.musiciansfriend.com\\\\/guitars\\\\/open-box-dangelico-excel-series-ss-semi-hollow-electric-guitar-with-stopbar-tailpiece\",\"image_url\":\"https:\\\\/\\\\/media.musiciansfriend.com\\\\/is\\\\/image\\\\/MMGS7\\\\/Excel-Series-SS-Semi-Hollow-Electric-Guitar-with-Stopbar-Tailpiece-Level-2-Blue-Burst-190839364111\\\\/L13200000001000-00-220x220.jpg\",\"body_shape\":\"Single cutaway\",\"body_type\":\"Semi-hollow\",\"neck_joint\":\"Set-in\",\"neck_finish\":\"Gloss\",\"fretboard_material\":\"Rosewood\",\"number_of_frets\":\"22\",\"bridge_type\":\"Fixed\",\"tuners\":\"Non-locking\",\"active_or_passive\":\"Passive\",\"pickup_configuration\":\"HH\",\"piezo\":\"No\"},{\"manufacturer\":\"Dean\",\"price\":319.0,\"country\":\"China\",\"product\":\"Rusty Cooley RC6 Electric Guitar\",\"page_url\":\"https:\\\\/\\\\/www.musiciansfriend.com\\\\/guitars\\\\/dean-rusty-cooley-rc6-electric-guitar\",\"image_url\":\"https:\\\\/\\\\/media.musiciansfriend.com\\\\/is\\\\/image\\\\/MMGS7\\\\/Rusty-Cooley-RC6-Electric-Guitar-Classic-Black\\\\/L10362000001000-00-220x220.jpg\",\"body_shape\":\"Double cutaway\",\"body_type\":\"Solid\",\"neck_joint\":\"Bolt-on\",\"neck_finish\":\"Gloss\",\"fretboard_material\":\"Other\",\"number_of_frets\":\"24\",\"bridge_type\":\"Tremolo\",\"tuners\":\"Non-locking\",\"active_or_passive\":\"Passive\",\"pickup_configuration\":\"HH\",\"piezo\":\"No\"},{\"manufacturer\":\"Dean\",\"price\":199.0,\"country\":\"China\",\"product\":\"Evo XM Electric Guitar\",\"page_url\":\"https:\\\\/\\\\/www.musiciansfriend.com\\\\/guitars\\\\/dean-evo-xm-electric-guitar\",\"image_url\":\"https:\\\\/\\\\/media.musiciansfriend.com\\\\/is\\\\/image\\\\/MMGS7\\\\/Evo-XM-Electric-Guitar-Natural-Mahogany\\\\/519795000897000-00-220x220.jpg\",\"body_shape\":\"Single cutaway\",\"body_type\":\"Solid\",\"neck_joint\":\"Bolt-on\",\"neck_finish\":\"Satin\",\"fretboard_material\":\"Rosewood\",\"number_of_frets\":\"22\",\"bridge_type\":\"Fixed\",\"tuners\":\"Non-locking\",\"active_or_passive\":\"Passive\",\"pickup_configuration\":\"HH\",\"piezo\":\"No\"},{\"manufacturer\":\"Dean\",\"price\":549.0,\"country\":\"South Korea\",\"product\":\"Icon Flame Top Floyd Electric Guitar\",\"page_url\":\"https:\\\\/\\\\/www.musiciansfriend.com\\\\/guitars\\\\/dean-icon-flame-top-floyd-electric-guitar\",\"image_url\":\"https:\\\\/\\\\/media.musiciansfriend.com\\\\/is\\\\/image\\\\/MMGS7\\\\/Icon-Flame-Top-Floyd-Electric-Guitar-Transparent-Blue\\\\/L47009000001000-00-220x220.jpg\",\"body_shape\":\"Double cutaway\",\"body_type\":\"Solid\",\"neck_joint\":\"Set-in\",\"neck_finish\":\"Satin\",\"fretboard_material\":\"Ebony\",\"number_of_frets\":\"22\",\"bridge_type\":\"Tremolo\",\"tuners\":\"Non-locking\",\"active_or_passive\":\"Passive\",\"pickup_configuration\":\"HH\",\"piezo\":\"No\"},{\"manufacturer\":\"Dean\",\"price\":599.0,\"country\":\"China\",\"product\":\"ML 79 Standard with Full PG Limited Run Electric Guitar\",\"page_url\":\"https:\\\\/\\\\/www.musiciansfriend.com\\\\/guitars\\\\/dean-ml-79-standard-with-full-pg-limited-run-electric-guitar\",\"image_url\":\"https:\\\\/\\\\/media.musiciansfriend.com\\\\/is\\\\/image\\\\/MMGS7\\\\/ML-79-Standard-with-Full-PG-Limited-Run-Electric-Guitar-Classic-Black\\\\/L47007000001000-00-220x220.jpg\",\"body_shape\":\"Other\",\"body_type\":\"Solid\",\"neck_joint\":\"Set-in\",\"neck_finish\":\"Satin\",\"fretboard_material\":\"Other\",\"number_of_frets\":\"22\",\"bridge_type\":\"Fixed\",\"tuners\":\"Non-locking\",\"active_or_passive\":\"Passive\",\"pickup_configuration\":\"HH\",\"piezo\":\"No\"},{\"manufacturer\":\"Dean\",\"price\":749.0,\"country\":\"China\",\"product\":\"Dimebag Far Beyond Driven ML Electric Guitar\",\"page_url\":\"https:\\\\/\\\\/www.musiciansfriend.com\\\\/guitars\\\\/dean-dimebag-far-beyond-driven-ml-electric-guitar\",\"image_url\":\"https:\\\\/\\\\/media.musiciansfriend.com\\\\/is\\\\/image\\\\/MMGS7\\\\/Dimebag-Far-Beyond-Driven-ML-Electric-Guitar-Transparent-Brazilia\\\\/L10360000001000-00-220x220.jpg\",\"body_shape\":\"Other\",\"body_type\":\"Solid\",\"neck_joint\":\"Set-in\",\"neck_finish\":\"Gloss\",\"fretboard_material\":\"Other\",\"number_of_frets\":\"22\",\"bridge_type\":\"Tremolo\",\"tuners\":\"Non-locking\",\"active_or_passive\":\"Passive\",\"pickup_configuration\":\"HH\",\"piezo\":\"No\"},{\"manufacturer\":\"Dean\",\"price\":449.0,\"country\":\"China\",\"product\":\"Michael Schenker Festival Electric Guitar\",\"page_url\":\"https:\\\\/\\\\/www.musiciansfriend.com\\\\/guitars\\\\/dean-michael-schenker-festival-electric-guitar\",\"image_url\":\"https:\\\\/\\\\/media.musiciansfriend.com\\\\/is\\\\/image\\\\/MMGS7\\\\/Michael-Schenker-Festival-Electric-Guitar-Red-Black-and-White\\\\/L10363000001000-00-220x220.jpg\",\"body_shape\":\"V\",\"body_type\":\"Solid\",\"neck_joint\":\"Set-in\",\"neck_finish\":\"Gloss\",\"fretboard_material\":\"Other\",\"number_of_frets\":\"24\",\"bridge_type\":\"Fixed\",\"tuners\":\"Non-locking\",\"active_or_passive\":\"Passive\",\"pickup_configuration\":\"HH\",\"piezo\":\"No\"},{\"manufacturer\":\"Epiphone\",\"price\":999.0,\"country\":\"China\",\"product\":\"Joe Bonamassa ES-355 Standard Limited-Edition Semi-Hollow Electric Guitar Outfit\",\"page_url\":\"https:\\\\/\\\\/www.musiciansfriend.com\\\\/guitars\\\\/epiphone-joe-bonamassa-es-355-standard-limited-edition-semi-hollow-electric-guitar-outfit\",\"image_url\":\"https:\\\\/\\\\/media.musiciansfriend.com\\\\/is\\\\/image\\\\/MMGS7\\\\/Joe-Bonamassa-ES-355-Standard-Limited-Edition-Semi-Hollow-Electric-Guitar-Outfit-Ebony\\\\/L46473000001000-00-220x220.jpg\",\"body_shape\":\"Double cutaway\",\"body_type\":\"Semi-hollow\",\"neck_joint\":\"Set-in\",\"neck_finish\":\"Gloss\",\"fretboard_material\":\"Ebony\",\"number_of_frets\":\"22\",\"bridge_type\":\"Tremolo\",\"tuners\":\"Non-locking\",\"active_or_passive\":\"Passive\",\"pickup_configuration\":\"HH\",\"piezo\":\"No\"},{\"manufacturer\":\"Epiphone\",\"price\":179.0,\"country\":\"China\",\"product\":\"SG Special VE Electric Guitar\",\"page_url\":\"https:\\\\/\\\\/www.musiciansfriend.com\\\\/guitars\\\\/epiphone-sg-special-ve-electric-guitar\",\"image_url\":\"https:\\\\/\\\\/media.musiciansfriend.com\\\\/is\\\\/image\\\\/MMGS7\\\\/SG-Special-VE-Electric-Guitar-Cherry\\\\/J53182000001000-00-220x220.jpg\",\"body_shape\":\"Double cutaway\",\"body_type\":\"Solid\",\"neck_joint\":\"Bolt-on\",\"neck_finish\":\"Satin\",\"fretboard_material\":\"Rosewood\",\"number_of_frets\":\"22\",\"bridge_type\":\"Fixed\",\"tuners\":\"Non-locking\",\"active_or_passive\":\"Passive\",\"pickup_configuration\":\"HH\",\"piezo\":\"No\"},{\"manufacturer\":\"Epiphone\",\"price\":999.0,\"country\":\"Indonesia\",\"product\":\"Limited Edition Richie Faulkner Flying-V Electric Guitar Outfit\",\"page_url\":\"https:\\\\/\\\\/www.musiciansfriend.com\\\\/guitars\\\\/epiphone-limited-edition-richie-faulkner-flying-v-electric-guitar-outfit\",\"image_url\":\"https:\\\\/\\\\/media.musiciansfriend.com\\\\/is\\\\/image\\\\/MMGS7\\\\/Limited-Edition-Richie-Faulkner-Flying-V-Electric-Guitar-Outfit-Ebony\\\\/K46894000001000-00-220x220.jpg\",\"body_shape\":\"Unknown\",\"body_type\":\"Solid\",\"neck_joint\":\"Set-in\",\"neck_finish\":\"Satin\",\"fretboard_material\":\"Ebony\",\"number_of_frets\":\"22\",\"bridge_type\":\"Tremolo\",\"tuners\":\"Non-locking\",\"active_or_passive\":\"Active\",\"pickup_configuration\":\"HH\",\"piezo\":\"No\"},{\"manufacturer\":\"Ernie Ball Music Man\",\"price\":2099.0,\"country\":\"United States\",\"product\":\"Ball Music ManCutlass RS HSS Maple Fingerboard Electric Guitar\",\"page_url\":\"https:\\\\/\\\\/www.musiciansfriend.com\\\\/guitars\\\\/ernie-ball-music-man-cutlass-rs-hss-maple-fingerboard-electric-guitar\",\"image_url\":\"https:\\\\/\\\\/media.musiciansfriend.com\\\\/is\\\\/image\\\\/MMGS7\\\\/Cutlass-RS-HSS-Maple-Fingerboard-Electric-Guitar-Vintage-Sunburst\\\\/L00848000002000-00-220x220.jpg\",\"body_shape\":\"Double cutaway\",\"body_type\":\"Solid\",\"neck_joint\":\"Bolt-on\",\"neck_finish\":\"Oiled\",\"fretboard_material\":\"Maple\",\"number_of_frets\":\"22\",\"bridge_type\":\"Tremolo\",\"tuners\":\"Locking\",\"active_or_passive\":\"Passive\",\"pickup_configuration\":\"HSS\",\"piezo\":\"No\"},{\"manufacturer\":\"Ernie Ball Music Man\",\"price\":2049.0,\"country\":\"United States\",\"product\":\"Ball Music ManCutlass RS SSS Rosewood Fingerboard Electric Guitar\",\"page_url\":\"https:\\\\/\\\\/www.musiciansfriend.com\\\\/guitars\\\\/ernie-ball-music-man-cutlass-rs-sss-rosewood-fingerboard-electric-guitar\",\"image_url\":\"https:\\\\/\\\\/media.musiciansfriend.com\\\\/is\\\\/image\\\\/MMGS7\\\\/Cutlass-RS-SSS-Rosewood-Fingerboard-Electric-Guitar-Ivory-White\\\\/L19707000001000-00-220x220.jpg\",\"body_shape\":\"Double cutaway\",\"body_type\":\"Solid\",\"neck_joint\":\"Bolt-on\",\"neck_finish\":\"Oiled\",\"fretboard_material\":\"Rosewood\",\"number_of_frets\":\"22\",\"bridge_type\":\"Tremolo\",\"tuners\":\"Locking\",\"active_or_passive\":\"Passive\",\"pickup_configuration\":\"SSS\",\"piezo\":\"No\"},{\"manufacturer\":\"Ernie Ball Music Man\",\"price\":2049.0,\"country\":\"United States\",\"product\":\"Ball Music ManStingRay RS Maple Fingerboard Electric Guitar\",\"page_url\":\"https:\\\\/\\\\/www.musiciansfriend.com\\\\/guitars\\\\/ernie-ball-music-man-stingray-rs-maple-fingerboard-electric-guitar\",\"image_url\":\"https:\\\\/\\\\/media.musiciansfriend.com\\\\/is\\\\/image\\\\/MMGS7\\\\/StingRay-RS-Maple-Fingerboard-Electric-Guitar-Vintage-Sunburst\\\\/L10427000002000-00-220x220.jpg\",\"body_shape\":\"Double cutaway\",\"body_type\":\"Solid\",\"neck_joint\":\"Bolt-on\",\"neck_finish\":\"Satin\",\"fretboard_material\":\"Maple\",\"number_of_frets\":\"22\",\"bridge_type\":\"Tremolo\",\"tuners\":\"Locking\",\"active_or_passive\":\"Passive\",\"pickup_configuration\":\"HH\",\"piezo\":\"No\"},{\"manufacturer\":\"Ernie Ball Music Man\",\"price\":2049.0,\"country\":\"United States\",\"product\":\"Ball Music ManStingRay RS Rosewood Fingerboard Electric Guitar\",\"page_url\":\"https:\\\\/\\\\/www.musiciansfriend.com\\\\/guitars\\\\/ernie-ball-music-man-stingray-rs-rosewood-fingerboard-electric-guitar\",\"image_url\":\"https:\\\\/\\\\/media.musiciansfriend.com\\\\/is\\\\/image\\\\/MMGS7\\\\/StingRay-RS-Rosewood-Fingerboard-Electric-Guitar-Coral-Red\\\\/L03934000002000-00-220x220.jpg\",\"body_shape\":\"Double cutaway\",\"body_type\":\"Solid\",\"neck_joint\":\"Bolt-on\",\"neck_finish\":\"Satin\",\"fretboard_material\":\"Rosewood\",\"number_of_frets\":\"22\",\"bridge_type\":\"Tremolo\",\"tuners\":\"Locking\",\"active_or_passive\":\"Passive\",\"pickup_configuration\":\"HH\",\"piezo\":\"No\"},{\"manufacturer\":\"Ernie Ball Music Man\",\"price\":3499.0,\"country\":\"United States\",\"product\":\"Ball Music ManBFR JP15 Electric Guitar\",\"page_url\":\"https:\\\\/\\\\/www.musiciansfriend.com\\\\/guitars\\\\/ernie-ball-music-man-bfr-jp15-electric-guitar\",\"image_url\":\"https:\\\\/\\\\/media.musiciansfriend.com\\\\/is\\\\/image\\\\/MMGS7\\\\/BFR-JP15-Electric-Guitar-Paradise-Pink\\\\/L47336000001000-00-220x220.jpg\",\"body_shape\":\"Double cutaway\",\"body_type\":\"Solid\",\"neck_joint\":\"Bolt-on\",\"neck_finish\":\"Oiled\",\"fretboard_material\":\"Ebony\",\"number_of_frets\":\"24\",\"bridge_type\":\"Tremolo\",\"tuners\":\"Locking\",\"active_or_passive\":\"Unknown\",\"pickup_configuration\":\"HH\",\"piezo\":\"Yes\"},{\"manufacturer\":\"Ernie Ball Music Man\",\"price\":2754.95,\"country\":\"United States\",\"product\":\"Ball Music ManBFR Steve Morse HH Quilt Top Electric Guitar w\\\\/Reverse Headstock\",\"page_url\":\"https:\\\\/\\\\/www.musiciansfriend.com\\\\/guitars\\\\/ernie-ball-music-man-bfr-steve-morse-hh-quilt-top-electric-guitar-w-reverse-headstock\",\"image_url\":\"https:\\\\/\\\\/media.musiciansfriend.com\\\\/is\\\\/image\\\\/MMGS7\\\\/BFR-Steve-Morse-HH-Quilt-Top-Electric-Guitar-w-Reverse-Headstock-Blue\\\\/K36351000001000-00-220x220.jpg\",\"body_shape\":\"Double cutaway\",\"body_type\":\"Solid\",\"neck_joint\":\"Bolt-on\",\"neck_finish\":\"Satin\",\"fretboard_material\":\"Rosewood\",\"number_of_frets\":\"22\",\"bridge_type\":\"Fixed\",\"tuners\":\"Locking\",\"active_or_passive\":\"Passive\",\"pickup_configuration\":\"HH\",\"piezo\":\"No\"},{\"manufacturer\":\"Ernie Ball Music Man\",\"price\":2249.0,\"country\":\"United States\",\"product\":\"Ball Music ManSt. Vincent Roasted Maple Neck Rosewood Fingerboard Electric Guitar\",\"page_url\":\"https:\\\\/\\\\/www.musiciansfriend.com\\\\/guitars\\\\/ernie-ball-music-man-st-vincent-roasted-maple-neck-rosewood-fingerboard-electric-guitar\",\"image_url\":\"https:\\\\/\\\\/media.musiciansfriend.com\\\\/is\\\\/image\\\\/MMGS7\\\\/St.-Vincent-Roasted-Maple-Neck-Rosewood-Fingerboard-Electric-Guitar-Tobacco-Burst\\\\/L21287000002000-00-220x220.jpg\",\"body_shape\":\"Other\",\"body_type\":\"Solid\",\"neck_joint\":\"Bolt-on\",\"neck_finish\":\"Oiled\",\"fretboard_material\":\"Rosewood\",\"number_of_frets\":\"22\",\"bridge_type\":\"Fixed\",\"tuners\":\"Locking\",\"active_or_passive\":\"Passive\",\"pickup_configuration\":\"HH\",\"piezo\":\"No\"},{\"manufacturer\":\"Ernie Ball Music Man\",\"price\":2349.0,\"country\":\"United States\",\"product\":\"Ball Music ManSt. Vincent HH Rosewood Fingerboard Electric Guitar\",\"page_url\":\"https:\\\\/\\\\/www.musiciansfriend.com\\\\/guitars\\\\/ernie-ball-music-man-st-vincent-hh-rosewood-fingerboard-electric-guitar\",\"image_url\":\"https:\\\\/\\\\/media.musiciansfriend.com\\\\/is\\\\/image\\\\/MMGS7\\\\/St.-Vincent-HH-Rosewood-Fingerboard-Electric-Guitar-Blue-Dawn\\\\/L21272000001000-00-220x220.jpg\",\"body_shape\":\"Other\",\"body_type\":\"Solid\",\"neck_joint\":\"Bolt-on\",\"neck_finish\":\"Oiled\",\"fretboard_material\":\"Rosewood\",\"number_of_frets\":\"22\",\"bridge_type\":\"Tremolo\",\"tuners\":\"Locking\",\"active_or_passive\":\"Passive\",\"pickup_configuration\":\"HH\",\"piezo\":\"No\"},{\"manufacturer\":\"Ernie Ball Music Man\",\"price\":2299.0,\"country\":\"United States\",\"product\":\"Ball Music ManCutlass RS Stealth HSS Electric Guitar\",\"page_url\":\"https:\\\\/\\\\/www.musiciansfriend.com\\\\/guitars\\\\/ernie-ball-music-man-cutlass-rs-stealth-hss-electric-guitar\",\"image_url\":\"https:\\\\/\\\\/media.musiciansfriend.com\\\\/is\\\\/image\\\\/MMGS7\\\\/Cutlass-RS-Stealth-HSS-Electric-Guitar-Stealth-Black\\\\/L18072000001000-00-220x220.jpg\",\"body_shape\":\"Double cutaway\",\"body_type\":\"Solid\",\"neck_joint\":\"Bolt-on\",\"neck_finish\":\"Oiled\",\"fretboard_material\":\"Ebony\",\"number_of_frets\":\"22\",\"bridge_type\":\"Tremolo\",\"tuners\":\"Locking\",\"active_or_passive\":\"Passive\",\"pickup_configuration\":\"HSS\",\"piezo\":\"No\"},{\"manufacturer\":\"Ernie Ball Music Man\",\"price\":2249.0,\"country\":\"United States\",\"product\":\"Ball Music ManStingRay RS Stealth Electric Guitar\",\"page_url\":\"https:\\\\/\\\\/www.musiciansfriend.com\\\\/guitars\\\\/ernie-ball-music-man-stingray-rs-stealth-electric-guitar\",\"image_url\":\"https:\\\\/\\\\/media.musiciansfriend.com\\\\/is\\\\/image\\\\/MMGS7\\\\/StingRay-RS-Stealth-Electric-Guitar-Stealth-Black\\\\/L18073000001000-00-220x220.jpg\",\"body_shape\":\"Double cutaway\",\"body_type\":\"Solid\",\"neck_joint\":\"Bolt-on\",\"neck_finish\":\"Satin\",\"fretboard_material\":\"Ebony\",\"number_of_frets\":\"22\",\"bridge_type\":\"Tremolo\",\"tuners\":\"Locking\",\"active_or_passive\":\"Passive\",\"pickup_configuration\":\"HH\",\"piezo\":\"No\"},{\"manufacturer\":\"Ernie Ball Music Man\",\"price\":2999.0,\"country\":\"United States\",\"product\":\"Ball Music ManBFR Valentine Electric Guitar\",\"page_url\":\"https:\\\\/\\\\/www.musiciansfriend.com\\\\/guitars\\\\/ernie-ball-music-man-bfr-valentine-electric-guitar\",\"image_url\":\"https:\\\\/\\\\/media.musiciansfriend.com\\\\/is\\\\/image\\\\/MMGS7\\\\/BFR-Valentine-Electric-Guitar-Pine-Green\\\\/L43187000001000-00-220x220.jpg\",\"body_shape\":\"Double cutaway\",\"body_type\":\"Solid\",\"neck_joint\":\"Bolt-on\",\"neck_finish\":\"Satin\",\"fretboard_material\":\"Rosewood\",\"number_of_frets\":\"22\",\"bridge_type\":\"Fixed\",\"tuners\":\"Locking\",\"active_or_passive\":\"Passive\",\"pickup_configuration\":\"Unknown\",\"piezo\":\"No\"},{\"manufacturer\":\"Ernie Ball Music Man\",\"price\":2099.0,\"country\":\"United States\",\"product\":\"Ball Music ManCutlass RS HSS Rosewood Fingerboard Electric Guitar\",\"page_url\":\"https:\\\\/\\\\/www.musiciansfriend.com\\\\/guitars\\\\/ernie-ball-music-man-cutlass-rs-hss-rosewood-fingerboard-electric-guitar\",\"image_url\":\"https:\\\\/\\\\/media.musiciansfriend.com\\\\/is\\\\/image\\\\/MMGS7\\\\/Cutlass-RS-HSS-Rosewood-Fingerboard-Electric-Guitar-Ivory-White\\\\/L03933000003000-00-220x220.jpg\",\"body_shape\":\"Double cutaway\",\"body_type\":\"Solid\",\"neck_joint\":\"Bolt-on\",\"neck_finish\":\"Oiled\",\"fretboard_material\":\"Rosewood\",\"number_of_frets\":\"22\",\"bridge_type\":\"Tremolo\",\"tuners\":\"Locking\",\"active_or_passive\":\"Passive\",\"pickup_configuration\":\"HSS\",\"piezo\":\"No\"},{\"manufacturer\":\"Ernie Ball Music Man\",\"price\":3499.0,\"country\":\"United States\",\"product\":\"Ball Music ManBFR Majesty Electric Guitar\",\"page_url\":\"https:\\\\/\\\\/www.musiciansfriend.com\\\\/guitars\\\\/ernie-ball-music-man-bfr-majesty-electric-guitar\\\\/l47337\",\"image_url\":\"https:\\\\/\\\\/media.musiciansfriend.com\\\\/is\\\\/image\\\\/MMGS7\\\\/BFR-Majesty-Electric-Guitar-Charred-Silver\\\\/L47337000001000-00-220x220.jpg\",\"body_shape\":\"Double cutaway\",\"body_type\":\"Solid\",\"neck_joint\":\"Neck-thru\",\"neck_finish\":\"Gloss\",\"fretboard_material\":\"Ebony\",\"number_of_frets\":\"24\",\"bridge_type\":\"Tremolo\",\"tuners\":\"Locking\",\"active_or_passive\":\"Passive\",\"pickup_configuration\":\"HH\",\"piezo\":\"Yes\"},{\"manufacturer\":\"Ernie Ball Music Man\",\"price\":2999.0,\"country\":\"United States\",\"product\":\"Ball Music ManBFR Valentine Electric Guitar\",\"page_url\":\"https:\\\\/\\\\/www.musiciansfriend.com\\\\/guitars\\\\/ernie-ball-music-man-bfr-valentine-electric-guitar\\\\/l47335\",\"image_url\":\"https:\\\\/\\\\/media.musiciansfriend.com\\\\/is\\\\/image\\\\/MMGS7\\\\/BFR-Valentine-Electric-Guitar-Baby-Blue\\\\/L47335000001000-00-220x220.jpg\",\"body_shape\":\"Double cutaway\",\"body_type\":\"Solid\",\"neck_joint\":\"Bolt-on\",\"neck_finish\":\"Satin\",\"fretboard_material\":\"Rosewood\",\"number_of_frets\":\"22\",\"bridge_type\":\"Fixed\",\"tuners\":\"Locking\",\"active_or_passive\":\"Passive\",\"pickup_configuration\":\"Unknown\",\"piezo\":\"No\"},{\"manufacturer\":\"Ernie Ball Music Man\",\"price\":3499.0,\"country\":\"United States\",\"product\":\"Ball Music ManBFR Majesty Electric Guitar\",\"page_url\":\"https:\\\\/\\\\/www.musiciansfriend.com\\\\/guitars\\\\/ernie-ball-music-man-bfr-majesty-electric-guitar\\\\/l44671\",\"image_url\":\"https:\\\\/\\\\/media.musiciansfriend.com\\\\/is\\\\/image\\\\/MMGS7\\\\/BFR-Majesty-Electric-Guitar-Marine-Blue-Sparkle\\\\/L44671000001000-00-220x220.jpg\",\"body_shape\":\"Double cutaway\",\"body_type\":\"Solid\",\"neck_joint\":\"Neck-thru\",\"neck_finish\":\"Gloss\",\"fretboard_material\":\"Ebony\",\"number_of_frets\":\"24\",\"bridge_type\":\"Tremolo\",\"tuners\":\"Locking\",\"active_or_passive\":\"Passive\",\"pickup_configuration\":\"HH\",\"piezo\":\"Yes\"},{\"manufacturer\":\"Ernie Ball Music Man\",\"price\":3499.0,\"country\":\"United States\",\"product\":\"Ball Music ManBFR Majesty Electric Guitar\",\"page_url\":\"https:\\\\/\\\\/www.musiciansfriend.com\\\\/guitars\\\\/ernie-ball-music-man-bfr-majesty-electric-guitar\",\"image_url\":\"https:\\\\/\\\\/media.musiciansfriend.com\\\\/is\\\\/image\\\\/MMGS7\\\\/BFR-Majesty-Electric-Guitar-Cinnabar-Red\\\\/L37702000001000-00-220x220.jpg\",\"body_shape\":\"Double cutaway\",\"body_type\":\"Solid\",\"neck_joint\":\"Neck-thru\",\"neck_finish\":\"Unknown\",\"fretboard_material\":\"Ebony\",\"number_of_frets\":\"24\",\"bridge_type\":\"Tremolo\",\"tuners\":\"Locking\",\"active_or_passive\":\"Passive\",\"pickup_configuration\":\"HH\",\"piezo\":\"Yes\"},{\"manufacturer\":\"Ernie Ball Music Man\",\"price\":2249.0,\"country\":\"United States\",\"product\":\"Ball Music ManSt. Vincent Roasted Maple Neck Ebony Fingerboard Electric Guitar\",\"page_url\":\"https:\\\\/\\\\/www.musiciansfriend.com\\\\/guitars\\\\/ernie-ball-music-man-st-vincent-roasted-maple-neck-ebony-fingerboard-electric-guitar\",\"image_url\":\"https:\\\\/\\\\/media.musiciansfriend.com\\\\/is\\\\/image\\\\/MMGS7\\\\/St.-Vincent-Roasted-Maple-Neck-Ebony-Fingerboard-Electric-Guitar-Polaris-White\\\\/L21318000001000-00-220x220.jpg\",\"body_shape\":\"Other\",\"body_type\":\"Solid\",\"neck_joint\":\"Bolt-on\",\"neck_finish\":\"Oiled\",\"fretboard_material\":\"Ebony\",\"number_of_frets\":\"22\",\"bridge_type\":\"Tremolo\",\"tuners\":\"Locking\",\"active_or_passive\":\"Passive\",\"pickup_configuration\":\"HH\",\"piezo\":\"No\"},{\"manufacturer\":\"Ernie Ball Music Man\",\"price\":3249.0,\"country\":\"United States\",\"product\":\"Ball Music ManJohn Petrucci JP15 Quilt Maple Top Electric Guitar\",\"page_url\":\"https:\\\\/\\\\/www.musiciansfriend.com\\\\/guitars\\\\/ernie-ball-music-man-john-petrucci-jp15-quilt-maple-top-electric-guitar\",\"image_url\":\"https:\\\\/\\\\/media.musiciansfriend.com\\\\/is\\\\/image\\\\/MMGS7\\\\/John-Petrucci-JP15-Quilt-Maple-Top-Electric-Guitar-Transparent-Black\\\\/J52278000002000-00-220x220.jpg\",\"body_shape\":\"Double cutaway\",\"body_type\":\"Solid\",\"neck_joint\":\"Bolt-on\",\"neck_finish\":\"Oiled\",\"fretboard_material\":\"Maple\",\"number_of_frets\":\"24\",\"bridge_type\":\"Tremolo\",\"tuners\":\"Locking\",\"active_or_passive\":\"Unknown\",\"pickup_configuration\":\"HH\",\"piezo\":\"Yes\"},{\"manufacturer\":\"Ernie Ball Music Man\",\"price\":2649.0,\"country\":\"United States\",\"product\":\"Ball Music ManSteve Morse Y2D Electric Guitar\",\"page_url\":\"https:\\\\/\\\\/www.musiciansfriend.com\\\\/guitars\\\\/ernie-ball-music-man-steve-morse-y2d-electric-guitar\",\"image_url\":\"https:\\\\/\\\\/media.musiciansfriend.com\\\\/is\\\\/image\\\\/MMGS7\\\\/Steve-Morse-Y2D-Electric-Guitar-Purple-Sunset-Quilt\\\\/K48609000001000-00-220x220.jpg\",\"body_shape\":\"Double cutaway\",\"body_type\":\"Solid\",\"neck_joint\":\"Bolt-on\",\"neck_finish\":\"Oiled\",\"fretboard_material\":\"Rosewood\",\"number_of_frets\":\"22\",\"bridge_type\":\"Fixed\",\"tuners\":\"Locking\",\"active_or_passive\":\"Passive\",\"pickup_configuration\":\"HSH\",\"piezo\":\"No\"},{\"manufacturer\":\"ESP\",\"price\":1199.0,\"country\":\"South Korea\",\"product\":\"LTD KH-602 Kirk Hammett Electric Guitar\",\"page_url\":\"https:\\\\/\\\\/www.musiciansfriend.com\\\\/guitars\\\\/esp-ltd-kh-602-kirk-hammett-electric-guitar\",\"image_url\":\"https:\\\\/\\\\/media.musiciansfriend.com\\\\/is\\\\/image\\\\/MMGS7\\\\/LTD-KH-602-Kirk-Hammett-Electric-Guitar-Purple\\\\/L00755000001000-00-220x220.jpg\",\"body_shape\":\"Double cutaway\",\"body_type\":\"Solid\",\"neck_joint\":\"Neck-thru\",\"neck_finish\":\"Gloss\",\"fretboard_material\":\"Other\",\"number_of_frets\":\"24\",\"bridge_type\":\"Tremolo\",\"tuners\":\"Non-locking\",\"active_or_passive\":\"Active\",\"pickup_configuration\":\"HH\",\"piezo\":\"No\"},{\"manufacturer\":\"ESP\",\"price\":3499.0,\"country\":\"United States\",\"product\":\"USA Viper Electric Guitar\",\"page_url\":\"https:\\\\/\\\\/www.musiciansfriend.com\\\\/guitars\\\\/esp-usa-viper-electric-guitar\",\"image_url\":\"https:\\\\/\\\\/media.musiciansfriend.com\\\\/is\\\\/image\\\\/MMGS7\\\\/USA-Viper-Electric-Guitar-Crimson\\\\/L19479000002000-00-220x220.jpg\",\"body_shape\":\"Double cutaway\",\"body_type\":\"Solid\",\"neck_joint\":\"Set-thru\",\"neck_finish\":\"Unknown\",\"fretboard_material\":\"Ebony\",\"number_of_frets\":\"22\",\"bridge_type\":\"Fixed\",\"tuners\":\"Locking\",\"active_or_passive\":\"Active\",\"pickup_configuration\":\"HH\",\"piezo\":\"No\"},{\"manufacturer\":\"ESP\",\"price\":899.0,\"country\":\"South Korea\",\"product\":\"LTD EC-1000 Duncan Electric Guitar\",\"page_url\":\"https:\\\\/\\\\/www.musiciansfriend.com\\\\/guitars\\\\/esp-ltd-ec-1000-duncan-electric-guitar\",\"image_url\":\"https:\\\\/\\\\/media.musiciansfriend.com\\\\/is\\\\/image\\\\/MMGS7\\\\/LTD-EC-1000-Duncan-Electric-Guitar-Black-Satin\\\\/L01379000001000-00-220x220.jpg\",\"body_shape\":\"Single cutaway\",\"body_type\":\"Solid\",\"neck_joint\":\"Set-thru\",\"neck_finish\":\"Satin\",\"fretboard_material\":\"Ebony\",\"number_of_frets\":\"24\",\"bridge_type\":\"Fixed\",\"tuners\":\"Locking\",\"active_or_passive\":\"Passive\",\"pickup_configuration\":\"HH\",\"piezo\":\"No\"},{\"manufacturer\":\"ESP\",\"price\":899.0,\"country\":\"South Korea\",\"product\":\"LTD M-Black Metal Electric Guitar\",\"page_url\":\"https:\\\\/\\\\/www.musiciansfriend.com\\\\/guitars\\\\/esp-ltd-m-black-metal-electric-guitar\",\"image_url\":\"https:\\\\/\\\\/media.musiciansfriend.com\\\\/is\\\\/image\\\\/MMGS7\\\\/LTD-M-Black-Metal-Electric-Guitar-Satin-Black\\\\/L01359000001000-00-220x220.jpg\",\"body_shape\":\"Double cutaway\",\"body_type\":\"Solid\",\"neck_joint\":\"Neck-thru\",\"neck_finish\":\"Satin\",\"fretboard_material\":\"Ebony\",\"number_of_frets\":\"24\",\"bridge_type\":\"Tremolo\",\"tuners\":\"Non-locking\",\"active_or_passive\":\"Passive\",\"pickup_configuration\":\"H\",\"piezo\":\"No\"},{\"manufacturer\":\"ESP\",\"price\":469.0,\"country\":\"Indonesia\",\"product\":\"LTD MH-203QM Electric Guitar\",\"page_url\":\"https:\\\\/\\\\/www.musiciansfriend.com\\\\/guitars\\\\/esp-ltd-mh-203qm-electric-guitar\",\"image_url\":\"https:\\\\/\\\\/media.musiciansfriend.com\\\\/is\\\\/image\\\\/MMGS7\\\\/LTD-MH-203QM-Electric-Guitar-See-Thru-Blue\\\\/L01361000001000-00-220x220.jpg\",\"body_shape\":\"Double cutaway\",\"body_type\":\"Solid\",\"neck_joint\":\"Bolt-on\",\"neck_finish\":\"Gloss\",\"fretboard_material\":\"Maple\",\"number_of_frets\":\"24\",\"bridge_type\":\"Tremolo\",\"tuners\":\"Non-locking\",\"active_or_passive\":\"Passive\",\"pickup_configuration\":\"HSS\",\"piezo\":\"No\"},{\"manufacturer\":\"ESP\",\"price\":449.0,\"country\":\"China\",\"product\":\"PS-1 Xtone Paramount Series Semi-Hollow Electric Guitar\",\"page_url\":\"https:\\\\/\\\\/www.musiciansfriend.com\\\\/guitars\\\\/esp-ps-1-xtone-paramount-series-semi-hollow-electric-guitar\",\"image_url\":\"https:\\\\/\\\\/media.musiciansfriend.com\\\\/is\\\\/image\\\\/MMGS7\\\\/PS-1-Xtone-Paramount-Series-Semi-Hollow-Electric-Guitar-Sonic-Blue-Black-Pickguard\\\\/516673000003007-00-220x220.jpg\",\"body_shape\":\"Single cutaway\",\"body_type\":\"Semi-hollow\",\"neck_joint\":\"Bolt-on\",\"neck_finish\":\"Unknown\",\"fretboard_material\":\"Rosewood\",\"number_of_frets\":\"22\",\"bridge_type\":\"Fixed\",\"tuners\":\"Non-locking\",\"active_or_passive\":\"Passive\",\"pickup_configuration\":\"HH\",\"piezo\":\"No\"},{\"manufacturer\":\"ESP\",\"price\":1149.0,\"country\":\"South Korea\",\"product\":\"LTD Nergal-6 Signature Electric Guitar\",\"page_url\":\"https:\\\\/\\\\/www.musiciansfriend.com\\\\/guitars\\\\/esp-ltd-nergal-6-signature-electric-guitar\",\"image_url\":\"https:\\\\/\\\\/media.musiciansfriend.com\\\\/is\\\\/image\\\\/MMGS7\\\\/LTD-Nergal-6-Signature-Electric-Guitar-Satin-Black\\\\/L01368000001000-00-220x220.jpg\",\"body_shape\":\"Single cutaway\",\"body_type\":\"Solid\",\"neck_joint\":\"Set-thru\",\"neck_finish\":\"Satin\",\"fretboard_material\":\"Ebony\",\"number_of_frets\":\"24\",\"bridge_type\":\"Fixed\",\"tuners\":\"Non-locking\",\"active_or_passive\":\"Active\",\"pickup_configuration\":\"HH\",\"piezo\":\"No\"},{\"manufacturer\":\"ESP\",\"price\":1199.0,\"country\":\"South Korea\",\"product\":\"LTD NW-44 Electric Guitar\",\"page_url\":\"https:\\\\/\\\\/www.musiciansfriend.com\\\\/guitars\\\\/esp-ltd-nw-44-electric-guitar\",\"image_url\":\"https:\\\\/\\\\/media.musiciansfriend.com\\\\/is\\\\/image\\\\/MMGS7\\\\/LTD-NW-44-Electric-Guitar-Olympic-White\\\\/L00759000001000-00-220x220.jpg\",\"body_shape\":\"Single cutaway\",\"body_type\":\"Solid\",\"neck_joint\":\"Set-thru\",\"neck_finish\":\"Unknown\",\"fretboard_material\":\"Ebony\",\"number_of_frets\":\"24\",\"bridge_type\":\"Fixed\",\"tuners\":\"Locking\",\"active_or_passive\":\"Passive\",\"pickup_configuration\":\"H\",\"piezo\":\"No\"},{\"manufacturer\":\"ESP\",\"price\":3099.0,\"country\":\"United States\",\"product\":\"USA M-II HT Electric Guitar\",\"page_url\":\"https:\\\\/\\\\/www.musiciansfriend.com\\\\/guitars\\\\/esp-usa-m-ii-ht-electric-guitar\",\"image_url\":\"https:\\\\/\\\\/media.musiciansfriend.com\\\\/is\\\\/image\\\\/MMGS7\\\\/USA-M-II-HT-Electric-Guitar-Satin-Purple-Burst\\\\/L18760000001000-00-220x220.jpg\",\"body_shape\":\"Double cutaway\",\"body_type\":\"Solid\",\"neck_joint\":\"Bolt-on\",\"neck_finish\":\"Satin\",\"fretboard_material\":\"Ebony\",\"number_of_frets\":\"24\",\"bridge_type\":\"Fixed\",\"tuners\":\"Locking\",\"active_or_passive\":\"Passive\",\"pickup_configuration\":\"HH\",\"piezo\":\"No\"},{\"manufacturer\":\"ESP\",\"price\":3099.0,\"country\":\"United States\",\"product\":\"USA TE-II HT Electric Guitar\",\"page_url\":\"https:\\\\/\\\\/www.musiciansfriend.com\\\\/guitars\\\\/esp-usa-te-ii-ht-electric-guitar\",\"image_url\":\"https:\\\\/\\\\/media.musiciansfriend.com\\\\/is\\\\/image\\\\/MMGS7\\\\/USA-TE-II-HT-Electric-Guitar-Natural\\\\/L18761000001000-00-220x220.jpg\",\"body_shape\":\"Single cutaway\",\"body_type\":\"Solid\",\"neck_joint\":\"Bolt-on\",\"neck_finish\":\"Satin\",\"fretboard_material\":\"Maple\",\"number_of_frets\":\"22\",\"bridge_type\":\"Fixed\",\"tuners\":\"Locking\",\"active_or_passive\":\"Passive\",\"pickup_configuration\":\"HH\",\"piezo\":\"No\"},{\"manufacturer\":\"ESP\",\"price\":749.0,\"country\":\"Indonesia\",\"product\":\"LTD H-401 Mahogany Electric Guitar\",\"page_url\":\"https:\\\\/\\\\/www.musiciansfriend.com\\\\/guitars\\\\/esp-ltd-h-401-mahogany-electric-guitar\",\"image_url\":\"https:\\\\/\\\\/media.musiciansfriend.com\\\\/is\\\\/image\\\\/MMGS7\\\\/LTD-H-401-Mahogany-Electric-Guitar-Natural-Satin\\\\/J57093000001000-00-220x220.jpg\",\"body_shape\":\"Double cutaway\",\"body_type\":\"Solid\",\"neck_joint\":\"Set-in\",\"neck_finish\":\"Satin\",\"fretboard_material\":\"Rosewood\",\"number_of_frets\":\"24\",\"bridge_type\":\"Fixed\",\"tuners\":\"Non-locking\",\"active_or_passive\":\"Passive\",\"pickup_configuration\":\"HH\",\"piezo\":\"Yes\"},{\"manufacturer\":\"ESP\",\"price\":949.0,\"country\":\"South Korea\",\"product\":\"LTD H-1001 Electric Guitar\",\"page_url\":\"https:\\\\/\\\\/www.musiciansfriend.com\\\\/guitars\\\\/esp-ltd-h-1001-electric-guitar\",\"image_url\":\"https:\\\\/\\\\/media.musiciansfriend.com\\\\/is\\\\/image\\\\/MMGS7\\\\/LTD-H-1001-Electric-Guitar-Transparent-Green\\\\/L01381000002000-00-220x220.jpg\",\"body_shape\":\"Double cutaway\",\"body_type\":\"Solid\",\"neck_joint\":\"Set-thru\",\"neck_finish\":\"Gloss\",\"fretboard_material\":\"Ebony\",\"number_of_frets\":\"24\",\"bridge_type\":\"Fixed\",\"tuners\":\"Locking\",\"active_or_passive\":\"Passive\",\"pickup_configuration\":\"HH\",\"piezo\":\"No\"},{\"manufacturer\":\"ESP\",\"price\":1049.0,\"country\":\"South Korea\",\"product\":\"LTD Stef Carpenter SC-20 Electric Guitar\",\"page_url\":\"https:\\\\/\\\\/www.musiciansfriend.com\\\\/guitars\\\\/esp-ltd-stef-carpenter-sc-20-electric-guitar\",\"image_url\":\"https:\\\\/\\\\/media.musiciansfriend.com\\\\/is\\\\/image\\\\/MMGS7\\\\/LTD-Stef-Carpenter-SC-20-Electric-Guitar-Transparent-Green\\\\/L00844000001000-00-220x220.jpg\",\"body_shape\":\"Double cutaway\",\"body_type\":\"Solid\",\"neck_joint\":\"Neck-thru\",\"neck_finish\":\"Gloss\",\"fretboard_material\":\"Ebony\",\"number_of_frets\":\"24\",\"bridge_type\":\"Fixed\",\"tuners\":\"Locking\",\"active_or_passive\":\"Passive\",\"pickup_configuration\":\"HSS\",\"piezo\":\"No\"},{\"manufacturer\":\"ESP\",\"price\":899.0,\"country\":\"South Korea\",\"product\":\"LTD MH-1000NT Electric Guitar\",\"page_url\":\"https:\\\\/\\\\/www.musiciansfriend.com\\\\/guitars\\\\/esp-ltd-mh-1000nt-electric-guitar\",\"image_url\":\"https:\\\\/\\\\/media.musiciansfriend.com\\\\/is\\\\/image\\\\/MMGS7\\\\/LTD-MH-1000NT-Electric-Guitar-See-Thru-Purple\\\\/L01362000001000-00-220x220.jpg\",\"body_shape\":\"Double cutaway\",\"body_type\":\"Solid\",\"neck_joint\":\"Set-thru\",\"neck_finish\":\"Gloss\",\"fretboard_material\":\"Other\",\"number_of_frets\":\"24\",\"bridge_type\":\"Fixed\",\"tuners\":\"Locking\",\"active_or_passive\":\"Passive\",\"pickup_configuration\":\"HH\",\"piezo\":\"No\"},{\"manufacturer\":\"ESP\",\"price\":1099.0,\"country\":\"South Korea\",\"product\":\"LTD EC-1000 Evertune Electric Guitar\",\"page_url\":\"https:\\\\/\\\\/www.musiciansfriend.com\\\\/guitars\\\\/esp-ltd-ec-1000-evertune-electric-guitar\",\"image_url\":\"https:\\\\/\\\\/media.musiciansfriend.com\\\\/is\\\\/image\\\\/MMGS7\\\\/LTD-EC-1000-Evertune-Electric-Guitar-Dark-Brown-Sunburst\\\\/L00843000001000-00-220x220.jpg\",\"body_shape\":\"Single cutaway\",\"body_type\":\"Solid\",\"neck_joint\":\"Set-thru\",\"neck_finish\":\"Satin\",\"fretboard_material\":\"Ebony\",\"number_of_frets\":\"24\",\"bridge_type\":\"Fixed\",\"tuners\":\"Non-locking\",\"active_or_passive\":\"Passive\",\"pickup_configuration\":\"HH\",\"piezo\":\"No\"},{\"manufacturer\":\"ESP\",\"price\":849.0,\"country\":\"Indonesia\",\"product\":\"LTD MH-400B Baritone Electric Guitar\",\"page_url\":\"https:\\\\/\\\\/www.musiciansfriend.com\\\\/guitars\\\\/esp-ltd-mh-400b-baritone-electric-guitar\",\"image_url\":\"https:\\\\/\\\\/media.musiciansfriend.com\\\\/is\\\\/image\\\\/MMGS7\\\\/LTD-MH-400B-Baritone-Electric-Guitar-Black-Satin\\\\/L01383000001000-00-220x220.jpg\",\"body_shape\":\"Double cutaway\",\"body_type\":\"Solid\",\"neck_joint\":\"Neck-thru\",\"neck_finish\":\"Satin\",\"fretboard_material\":\"Other\",\"number_of_frets\":\"24\",\"bridge_type\":\"Fixed\",\"tuners\":\"Non-locking\",\"active_or_passive\":\"Active\",\"pickup_configuration\":\"HH\",\"piezo\":\"No\"},{\"manufacturer\":\"ESP\",\"price\":899.0,\"country\":\"South Korea\",\"product\":\"LTD EC-1000FM Electric Guitar\",\"page_url\":\"https:\\\\/\\\\/www.musiciansfriend.com\\\\/guitars\\\\/esp-ltd-ec-1000fm-electric-guitar\",\"image_url\":\"https:\\\\/\\\\/media.musiciansfriend.com\\\\/is\\\\/image\\\\/MMGS7\\\\/LTD-EC-1000FM-Electric-Guitar-Transparent-Emerald-Green\\\\/L03936000002000-00-220x220.jpg\",\"body_shape\":\"Single cutaway\",\"body_type\":\"Solid\",\"neck_joint\":\"Set-thru\",\"neck_finish\":\"Gloss\",\"fretboard_material\":\"Ebony\",\"number_of_frets\":\"24\",\"bridge_type\":\"Fixed\",\"tuners\":\"Locking\",\"active_or_passive\":\"Passive\",\"pickup_configuration\":\"HH\",\"piezo\":\"No\"},{\"manufacturer\":\"ESP\",\"price\":799.0,\"country\":\"South Korea\",\"product\":\"LTD EC-Black Metal Electric Guitar\",\"page_url\":\"https:\\\\/\\\\/www.musiciansfriend.com\\\\/guitars\\\\/esp-ltd-ec-black-metal-electric-guitar\",\"image_url\":\"https:\\\\/\\\\/media.musiciansfriend.com\\\\/is\\\\/image\\\\/MMGS7\\\\/LTD-EC-Black-Metal-Electric-Guitar-Satin-Black\\\\/L04928000001000-00-220x220.jpg\",\"body_shape\":\"Single cutaway\",\"body_type\":\"Solid\",\"neck_joint\":\"Set-thru\",\"neck_finish\":\"Satin\",\"fretboard_material\":\"Ebony\",\"number_of_frets\":\"24\",\"bridge_type\":\"Fixed\",\"tuners\":\"Locking\",\"active_or_passive\":\"Passive\",\"pickup_configuration\":\"H\",\"piezo\":\"No\"},{\"manufacturer\":\"ESP\",\"price\":999.0,\"country\":\"Unknown\",\"product\":\"LTD EC-1000 Spalted Maple Electric Guitar\",\"page_url\":\"https:\\\\/\\\\/www.musiciansfriend.com\\\\/guitars\\\\/esp-ltd-ec-1000-spalted-maple-electric-guitar\",\"image_url\":\"https:\\\\/\\\\/media.musiciansfriend.com\\\\/is\\\\/image\\\\/MMGS7\\\\/LTD-EC-1000-Spalted-Maple-Electric-Guitar-Transparent-Red\\\\/K47880000001000-00-220x220.jpg\",\"body_shape\":\"Single cutaway\",\"body_type\":\"Solid\",\"neck_joint\":\"Set-thru\",\"neck_finish\":\"Satin\",\"fretboard_material\":\"Rosewood\",\"number_of_frets\":\"24\",\"bridge_type\":\"Fixed\",\"tuners\":\"Locking\",\"active_or_passive\":\"Active\",\"pickup_configuration\":\"HH\",\"piezo\":\"No\"},{\"manufacturer\":\"ESP\",\"price\":799.0,\"country\":\"South Korea\",\"product\":\"LTD M403HT Electric Guitar\",\"page_url\":\"https:\\\\/\\\\/www.musiciansfriend.com\\\\/guitars\\\\/esp-ltd-m403ht-electric-guitar\",\"image_url\":\"https:\\\\/\\\\/media.musiciansfriend.com\\\\/is\\\\/image\\\\/MMGS7\\\\/LTD-M403HT-Electric-Guitar-Natural-Satin\\\\/J57109000001000-00-220x220.jpg\",\"body_shape\":\"Double cutaway\",\"body_type\":\"Solid\",\"neck_joint\":\"Bolt-on\",\"neck_finish\":\"Gloss\",\"fretboard_material\":\"Rosewood\",\"number_of_frets\":\"24\",\"bridge_type\":\"Fixed\",\"tuners\":\"Non-locking\",\"active_or_passive\":\"Passive\",\"pickup_configuration\":\"HH\",\"piezo\":\"No\"},{\"manufacturer\":\"ESP\",\"price\":2799.2,\"country\":\"United States\",\"product\":\"USA M2FR DLX Electric Guitar\",\"page_url\":\"https:\\\\/\\\\/www.musiciansfriend.com\\\\/guitars\\\\/open-box-esp-usa-m2fr-dlx-electric-guitar\",\"image_url\":\"https:\\\\/\\\\/media.musiciansfriend.com\\\\/is\\\\/image\\\\/MMGS7\\\\/USA-M2FR-DLX-Electric-Guitar-Level-2-2-Color-Sunburst-190839540355\\\\/L18706000001000-00-220x220.jpg\",\"body_shape\":\"Double cutaway\",\"body_type\":\"Solid\",\"neck_joint\":\"Bolt-on\",\"neck_finish\":\"Gloss\",\"fretboard_material\":\"Ebony\",\"number_of_frets\":\"24\",\"bridge_type\":\"Tremolo\",\"tuners\":\"Locking\",\"active_or_passive\":\"Active\",\"pickup_configuration\":\"HH\",\"piezo\":\"No\"},{\"manufacturer\":\"Fender\",\"price\":3950.0,\"country\":\"United States\",\"product\":\"Custom Shop60s Telecaster Heavy Relic Flame Maple Electric Guitar\",\"page_url\":\"https:\\\\/\\\\/www.musiciansfriend.com\\\\/guitars\\\\/fender-custom-shop-60s-telecaster-heavy-relic-flame-maple-electric-guitar\",\"image_url\":\"https:\\\\/\\\\/media.musiciansfriend.com\\\\/is\\\\/image\\\\/MMGS7\\\\/60s-Telecaster-Heavy-Relic-Flame-Maple-Electric-Guitar-Aged-3-Color-Sunburst\\\\/J56176000004000-00-220x220.jpg\",\"body_shape\":\"Single cutaway\",\"body_type\":\"Solid\",\"neck_joint\":\"Bolt-on\",\"neck_finish\":\"Unknown\",\"fretboard_material\":\"Rosewood\",\"number_of_frets\":\"21\",\"bridge_type\":\"Fixed\",\"tuners\":\"Non-locking\",\"active_or_passive\":\"Passive\",\"pickup_configuration\":\"SS\",\"piezo\":\"No\"},{\"manufacturer\":\"Fender\",\"price\":1399.99,\"country\":\"Mexico\",\"product\":\"Jimmy Page Telecaster Electric Guitar\",\"page_url\":\"https:\\\\/\\\\/www.musiciansfriend.com\\\\/guitars\\\\/fender-jimmy-page-telecaster-electric-guitar\",\"image_url\":\"https:\\\\/\\\\/media.musiciansfriend.com\\\\/is\\\\/image\\\\/MMGS7\\\\/Jimmy-Page-Telecaster-Electric-Guitar-Natural\\\\/L48010000001000-00-220x220.jpg\",\"body_shape\":\"Single cutaway\",\"body_type\":\"Solid\",\"neck_joint\":\"Bolt-on\",\"neck_finish\":\"Satin\",\"fretboard_material\":\"Rosewood\",\"number_of_frets\":\"21\",\"bridge_type\":\"Fixed\",\"tuners\":\"Non-locking\",\"active_or_passive\":\"Passive\",\"pickup_configuration\":\"SS\",\"piezo\":\"No\"},{\"manufacturer\":\"Fender\",\"price\":1999.99,\"country\":\"United States\",\"product\":\"American Original 60s Jazzmaster Rosewood Fingerboard Electric Guitar\",\"page_url\":\"https:\\\\/\\\\/www.musiciansfriend.com\\\\/guitars\\\\/fender-american-original-60s-jazzmaster-rosewood-fingerboard-electric-guitar\",\"image_url\":\"https:\\\\/\\\\/media.musiciansfriend.com\\\\/is\\\\/image\\\\/MMGS7\\\\/American-Original-60s-Jazzmaster-Rosewood-Fingerboard-Electric-Guitar-Olympic-White\\\\/K48548000002000-00-220x220.jpg\",\"body_shape\":\"Double cutaway\",\"body_type\":\"Solid\",\"neck_joint\":\"Bolt-on\",\"neck_finish\":\"Gloss\",\"fretboard_material\":\"Rosewood\",\"number_of_frets\":\"21\",\"bridge_type\":\"Tremolo\",\"tuners\":\"Non-locking\",\"active_or_passive\":\"Passive\",\"pickup_configuration\":\"SS\",\"piezo\":\"No\"},{\"manufacturer\":\"Fender\",\"price\":1649.99,\"country\":\"United States\",\"product\":\"Limited Edition American Professional Telecaster with Rosewood Neck\",\"page_url\":\"https:\\\\/\\\\/www.musiciansfriend.com\\\\/guitars\\\\/fender-limited-edition-american-professional-telecaster-with-rosewood-neck\",\"image_url\":\"https:\\\\/\\\\/media.musiciansfriend.com\\\\/is\\\\/image\\\\/MMGS7\\\\/Limited-Edition-American-Professional-Telecaster-with-Rosewood-Neck-Surf-Green\\\\/J56814000001000-00-220x220.jpg\",\"body_shape\":\"Single cutaway\",\"body_type\":\"Solid\",\"neck_joint\":\"Bolt-on\",\"neck_finish\":\"Satin\",\"fretboard_material\":\"Rosewood\",\"number_of_frets\":\"22\",\"bridge_type\":\"Fixed\",\"tuners\":\"Non-locking\",\"active_or_passive\":\"Passive\",\"pickup_configuration\":\"SS\",\"piezo\":\"No\"},{\"manufacturer\":\"Fender\",\"price\":1999.99,\"country\":\"United States\",\"product\":\"American Original 60s Telecaster Rosewood Fingerboard Electric Guitar\",\"page_url\":\"https:\\\\/\\\\/www.musiciansfriend.com\\\\/guitars\\\\/fender-american-original-60s-telecaster-rosewood-fingerboard-electric-guitar\",\"image_url\":\"https:\\\\/\\\\/media.musiciansfriend.com\\\\/is\\\\/image\\\\/MMGS7\\\\/American-Original-60s-Telecaster-Rosewood-Fingerboard-Electric-Guitar-Lake-Placid-Blue\\\\/K48524000002000-00-220x220.jpg\",\"body_shape\":\"Single cutaway\",\"body_type\":\"Solid\",\"neck_joint\":\"Bolt-on\",\"neck_finish\":\"Gloss\",\"fretboard_material\":\"Rosewood\",\"number_of_frets\":\"21\",\"bridge_type\":\"Fixed\",\"tuners\":\"Non-locking\",\"active_or_passive\":\"Passive\",\"pickup_configuration\":\"SS\",\"piezo\":\"No\"},{\"manufacturer\":\"Fender\",\"price\":1849.99,\"country\":\"United States\",\"product\":\"American Original 50s Telecaster Maple Fingerboard Electric Guitar\",\"page_url\":\"https:\\\\/\\\\/www.musiciansfriend.com\\\\/guitars\\\\/fender-american-original-50s-telecaster-maple-fingerboard-electric-guitar\",\"image_url\":\"https:\\\\/\\\\/media.musiciansfriend.com\\\\/is\\\\/image\\\\/MMGS7\\\\/American-Original-50s-Telecaster-Maple-Fingerboard-Electric-Guitar-Butterscotch-Blonde\\\\/K48414000001000-00-220x220.jpg\",\"body_shape\":\"Single cutaway\",\"body_type\":\"Solid\",\"neck_joint\":\"Bolt-on\",\"neck_finish\":\"Gloss\",\"fretboard_material\":\"Maple\",\"number_of_frets\":\"21\",\"bridge_type\":\"Fixed\",\"tuners\":\"Non-locking\",\"active_or_passive\":\"Passive\",\"pickup_configuration\":\"SS\",\"piezo\":\"No\"},{\"manufacturer\":\"Fender\",\"price\":674.99,\"country\":\"Mexico\",\"product\":\"Player Stratocaster Pau Ferro Fingerboard Electric Guitar\",\"page_url\":\"https:\\\\/\\\\/www.musiciansfriend.com\\\\/guitars\\\\/fender-player-stratocaster-pau-ferro-fingerboard-electric-guitar\",\"image_url\":\"https:\\\\/\\\\/media.musiciansfriend.com\\\\/is\\\\/image\\\\/MMGS7\\\\/Player-Stratocaster-Pau-Ferro-Fingerboard-Electric-Guitar-Polar-White\\\\/L21588000003000-00-220x220.jpg\",\"body_shape\":\"Double cutaway\",\"body_type\":\"Solid\",\"neck_joint\":\"Bolt-on\",\"neck_finish\":\"Satin\",\"fretboard_material\":\"Other\",\"number_of_frets\":\"22\",\"bridge_type\":\"Tremolo\",\"tuners\":\"Non-locking\",\"active_or_passive\":\"Passive\",\"pickup_configuration\":\"SSS\",\"piezo\":\"No\"},{\"manufacturer\":\"Fender\",\"price\":1649.99,\"country\":\"United States\",\"product\":\"American Professional Telecaster Deluxe Rosewood Neck Limited Edition Electric Guitar\",\"page_url\":\"https:\\\\/\\\\/www.musiciansfriend.com\\\\/guitars\\\\/fender-american-professional-telecaster-deluxe-rosewood-neck-limited-edition-electric-guitar\",\"image_url\":\"https:\\\\/\\\\/media.musiciansfriend.com\\\\/is\\\\/image\\\\/MMGS7\\\\/American-Professional-Telecaster-Deluxe-Rosewood-Neck-Limited-Edition-Electric-Guitar-Champagne\\\\/L25139000001000-00-220x220.jpg\",\"body_shape\":\"Single cutaway\",\"body_type\":\"Solid\",\"neck_joint\":\"Bolt-on\",\"neck_finish\":\"Satin\",\"fretboard_material\":\"Rosewood\",\"number_of_frets\":\"22\",\"bridge_type\":\"Fixed\",\"tuners\":\"Non-locking\",\"active_or_passive\":\"Passive\",\"pickup_configuration\":\"HH\",\"piezo\":\"No\"},{\"manufacturer\":\"Fender\",\"price\":1749.99,\"country\":\"United States\",\"product\":\"American Professional Jazzmaster Rosewood Neck Limited Edition Electric Guitar\",\"page_url\":\"https:\\\\/\\\\/www.musiciansfriend.com\\\\/guitars\\\\/fender-american-professional-jazzmaster-rosewood-neck-limited-edition-electric-guitar\",\"image_url\":\"https:\\\\/\\\\/media.musiciansfriend.com\\\\/is\\\\/image\\\\/MMGS7\\\\/American-Professional-Jazzmaster-Rosewood-Neck-Limited-Edition-Electric-Guitar-Olympic-White\\\\/L29950000001000-00-220x220.jpg\",\"body_shape\":\"Double cutaway\",\"body_type\":\"Solid\",\"neck_joint\":\"Bolt-on\",\"neck_finish\":\"Satin\",\"fretboard_material\":\"Rosewood\",\"number_of_frets\":\"22\",\"bridge_type\":\"Tremolo\",\"tuners\":\"Non-locking\",\"active_or_passive\":\"Passive\",\"pickup_configuration\":\"SS\",\"piezo\":\"No\"},{\"manufacturer\":\"Fender\",\"price\":674.99,\"country\":\"Mexico\",\"product\":\"Player Telecaster Pau Ferro Fingerboard Electric Guitar\",\"page_url\":\"https:\\\\/\\\\/www.musiciansfriend.com\\\\/guitars\\\\/fender-player-telecaster-pau-ferro-fingerboard-electric-guitar\",\"image_url\":\"https:\\\\/\\\\/media.musiciansfriend.com\\\\/is\\\\/image\\\\/MMGS7\\\\/Player-Telecaster-Pau-Ferro-Fingerboard-Electric-Guitar-Polar-White\\\\/L21564000002000-00-220x220.jpg\",\"body_shape\":\"Single cutaway\",\"body_type\":\"Solid\",\"neck_joint\":\"Bolt-on\",\"neck_finish\":\"Satin\",\"fretboard_material\":\"Other\",\"number_of_frets\":\"22\",\"bridge_type\":\"Fixed\",\"tuners\":\"Non-locking\",\"active_or_passive\":\"Passive\",\"pickup_configuration\":\"SS\",\"piezo\":\"No\"},{\"manufacturer\":\"Fender\",\"price\":2099.99,\"country\":\"United States\",\"product\":\"American Original 60s Jaguar Rosewood Fingerboard Electric Guitar\",\"page_url\":\"https:\\\\/\\\\/www.musiciansfriend.com\\\\/guitars\\\\/fender-american-original-60s-jaguar-rosewood-fingerboard-electric-guitar\",\"image_url\":\"https:\\\\/\\\\/media.musiciansfriend.com\\\\/is\\\\/image\\\\/MMGS7\\\\/American-Original-60s-Jaguar-Rosewood-Fingerboard-Electric-Guitar-Candy-Apple-Red\\\\/K48546000002000-00-220x220.jpg\",\"body_shape\":\"Double cutaway\",\"body_type\":\"Solid\",\"neck_joint\":\"Bolt-on\",\"neck_finish\":\"Gloss\",\"fretboard_material\":\"Rosewood\",\"number_of_frets\":\"21\",\"bridge_type\":\"Tremolo\",\"tuners\":\"Non-locking\",\"active_or_passive\":\"Passive\",\"pickup_configuration\":\"SS\",\"piezo\":\"No\"},{\"manufacturer\":\"Fender\",\"price\":599.99,\"country\":\"Mexico\",\"product\":\"Special Edition Standard Telecaster HH Maple Fingerboard Electric Guitar\",\"page_url\":\"https:\\\\/\\\\/www.musiciansfriend.com\\\\/guitars\\\\/fender-special-edition-standard-telecaster-hh-maple-fingerboard-electric-guitar\",\"image_url\":\"https:\\\\/\\\\/media.musiciansfriend.com\\\\/is\\\\/image\\\\/MMGS7\\\\/Special-Edition-Standard-Telecaster-HH-Maple-Fingerboard-Electric-Guitar-Daphne-Blue\\\\/K45656000001000-00-220x220.jpg\",\"body_shape\":\"Single cutaway\",\"body_type\":\"Solid\",\"neck_joint\":\"Bolt-on\",\"neck_finish\":\"Satin\",\"fretboard_material\":\"Maple\",\"number_of_frets\":\"22\",\"bridge_type\":\"Fixed\",\"tuners\":\"Non-locking\",\"active_or_passive\":\"Passive\",\"pickup_configuration\":\"HH\",\"piezo\":\"No\"},{\"manufacturer\":\"Fender\",\"price\":824.99,\"country\":\"Mexico\",\"product\":\"Deluxe Stratocaster Maple Fingerboard\",\"page_url\":\"https:\\\\/\\\\/www.musiciansfriend.com\\\\/guitars\\\\/fender-deluxe-stratocaster-maple-fingerboard\",\"image_url\":\"https:\\\\/\\\\/media.musiciansfriend.com\\\\/is\\\\/image\\\\/MMGS7\\\\/Deluxe-Stratocaster-Maple-Fingerboard-Transparent-Sapphire-Blue\\\\/J42414000002000-00-220x220.jpg\",\"body_shape\":\"Double cutaway\",\"body_type\":\"Solid\",\"neck_joint\":\"Bolt-on\",\"neck_finish\":\"Satin\",\"fretboard_material\":\"Maple\",\"number_of_frets\":\"22\",\"bridge_type\":\"Tremolo\",\"tuners\":\"Locking\",\"active_or_passive\":\"Passive\",\"pickup_configuration\":\"SSS\",\"piezo\":\"No\"},{\"manufacturer\":\"Fender\",\"price\":1949.99,\"country\":\"United States\",\"product\":\"American Original 60s Stratocaster Rosewood Fingerboard Electric Guitar\",\"page_url\":\"https:\\\\/\\\\/www.musiciansfriend.com\\\\/guitars\\\\/fender-american-original-60s-stratocaster-rosewood-fingerboard-electric-guitar\",\"image_url\":\"https:\\\\/\\\\/media.musiciansfriend.com\\\\/is\\\\/image\\\\/MMGS7\\\\/American-Original-60s-Stratocaster-Rosewood-Fingerboard-Electric-Guitar-Olympic-White\\\\/K48545000002000-00-220x220.jpg\",\"body_shape\":\"Double cutaway\",\"body_type\":\"Solid\",\"neck_joint\":\"Bolt-on\",\"neck_finish\":\"Gloss\",\"fretboard_material\":\"Rosewood\",\"number_of_frets\":\"21\",\"bridge_type\":\"Tremolo\",\"tuners\":\"Non-locking\",\"active_or_passive\":\"Passive\",\"pickup_configuration\":\"SSS\",\"piezo\":\"No\"},{\"manufacturer\":\"Fender\",\"price\":624.99,\"country\":\"Mexico\",\"product\":\"Standard Jaguar HH Limited Edition Electric Guitar\",\"page_url\":\"https:\\\\/\\\\/www.musiciansfriend.com\\\\/guitars\\\\/fender-standard-jaguar-hh-limited-edition-electric-guitar\",\"image_url\":\"https:\\\\/\\\\/media.musiciansfriend.com\\\\/is\\\\/image\\\\/MMGS7\\\\/Standard-Jaguar-HH-Limited-Edition-Electric-Guitar-Shoreline-Gold\\\\/L21784000001000-00-220x220.jpg\",\"body_shape\":\"Double cutaway\",\"body_type\":\"Solid\",\"neck_joint\":\"Bolt-on\",\"neck_finish\":\"Satin\",\"fretboard_material\":\"Other\",\"number_of_frets\":\"22\",\"bridge_type\":\"Fixed\",\"tuners\":\"Non-locking\",\"active_or_passive\":\"Passive\",\"pickup_configuration\":\"HH\",\"piezo\":\"No\"},{\"manufacturer\":\"Fender\",\"price\":1949.99,\"country\":\"United States\",\"product\":\"American Original 50s Stratocaster Maple Fingerboard Electric Guitar\",\"page_url\":\"https:\\\\/\\\\/www.musiciansfriend.com\\\\/guitars\\\\/fender-american-original-50s-stratocaster-maple-fingerboard-electric-guitar\",\"image_url\":\"https:\\\\/\\\\/media.musiciansfriend.com\\\\/is\\\\/image\\\\/MMGS7\\\\/American-Original-50s-Stratocaster-Maple-Fingerboard-Electric-Guitar-2-Color-Sunburst\\\\/K48472000002000-00-220x220.jpg\",\"body_shape\":\"Double cutaway\",\"body_type\":\"Solid\",\"neck_joint\":\"Bolt-on\",\"neck_finish\":\"Gloss\",\"fretboard_material\":\"Maple\",\"number_of_frets\":\"21\",\"bridge_type\":\"Tremolo\",\"tuners\":\"Non-locking\",\"active_or_passive\":\"Passive\",\"pickup_configuration\":\"SSS\",\"piezo\":\"No\"},{\"manufacturer\":\"Fender\",\"price\":1049.99,\"country\":\"United States\",\"product\":\"American Special Stratocaster HSS Limited Edition Electric Guitar\",\"page_url\":\"https:\\\\/\\\\/www.musiciansfriend.com\\\\/guitars\\\\/fender-american-special-stratocaster-hss-limited-edition-electric-guitar\",\"image_url\":\"https:\\\\/\\\\/media.musiciansfriend.com\\\\/is\\\\/image\\\\/MMGS7\\\\/American-Special-Stratocaster-HSS-Limited-Edition-Electric-Guitar-Autumn-Blaze-Metallic\\\\/L21595000001000-00-220x220.jpg\",\"body_shape\":\"Double cutaway\",\"body_type\":\"Solid\",\"neck_joint\":\"Bolt-on\",\"neck_finish\":\"Satin\",\"fretboard_material\":\"Maple\",\"number_of_frets\":\"22\",\"bridge_type\":\"Tremolo\",\"tuners\":\"Non-locking\",\"active_or_passive\":\"Unknown\",\"pickup_configuration\":\"HSS\",\"piezo\":\"No\"},{\"manufacturer\":\"Fender\",\"price\":674.99,\"country\":\"Mexico\",\"product\":\"Player Telecaster Pau Ferro Fingerboard Left-Handed Electric Guitar\",\"page_url\":\"https:\\\\/\\\\/www.musiciansfriend.com\\\\/guitars\\\\/fender-player-telecaster-pau-ferro-fingerboard-left-handed-electric-guitar\",\"image_url\":\"https:\\\\/\\\\/media.musiciansfriend.com\\\\/is\\\\/image\\\\/MMGS7\\\\/Player-Telecaster-Pau-Ferro-Fingerboard-Left-Handed-Electric-Guitar-Polar-White\\\\/L21562000001000-00-220x220.jpg\",\"body_shape\":\"Single cutaway\",\"body_type\":\"Solid\",\"neck_joint\":\"Bolt-on\",\"neck_finish\":\"Satin\",\"fretboard_material\":\"Other\",\"number_of_frets\":\"22\",\"bridge_type\":\"Fixed\",\"tuners\":\"Non-locking\",\"active_or_passive\":\"Passive\",\"pickup_configuration\":\"HH\",\"piezo\":\"No\"},{\"manufacturer\":\"Fender\",\"price\":674.99,\"country\":\"Mexico\",\"product\":\"Player Stratocaster Pau Ferro Fingerboard Left-Handed Electric Guitar\",\"page_url\":\"https:\\\\/\\\\/www.musiciansfriend.com\\\\/guitars\\\\/fender-player-stratocaster-pau-ferro-fingerboard-left-handed-electric-guitar\",\"image_url\":\"https:\\\\/\\\\/media.musiciansfriend.com\\\\/is\\\\/image\\\\/MMGS7\\\\/Player-Stratocaster-Pau-Ferro-Fingerboard-Left-Handed-Electric-Guitar-Black\\\\/L21520000001000-00-220x220.jpg\",\"body_shape\":\"Double cutaway\",\"body_type\":\"Solid\",\"neck_joint\":\"Bolt-on\",\"neck_finish\":\"Satin\",\"fretboard_material\":\"Other\",\"number_of_frets\":\"22\",\"bridge_type\":\"Tremolo\",\"tuners\":\"Non-locking\",\"active_or_passive\":\"Passive\",\"pickup_configuration\":\"SSS\",\"piezo\":\"No\"},{\"manufacturer\":\"Fender\",\"price\":1999.99,\"country\":\"United States\",\"product\":\"American Original 50s Stratocaster Left-Handed Maple Fingerboard Electric Guitar\",\"page_url\":\"https:\\\\/\\\\/www.musiciansfriend.com\\\\/guitars\\\\/fender-american-original-50s-stratocaster-left-handed-maple-fingerboard-electric-guitar\",\"image_url\":\"https:\\\\/\\\\/media.musiciansfriend.com\\\\/is\\\\/image\\\\/MMGS7\\\\/American-Original-50s-Stratocaster-Left-Handed-Maple-Fingerboard-Electric-Guitar-White-Blonde\\\\/K48456000001000-00-220x220.jpg\",\"body_shape\":\"Double cutaway\",\"body_type\":\"Solid\",\"neck_joint\":\"Bolt-on\",\"neck_finish\":\"Gloss\",\"fretboard_material\":\"Maple\",\"number_of_frets\":\"21\",\"bridge_type\":\"Tremolo\",\"tuners\":\"Non-locking\",\"active_or_passive\":\"Passive\",\"pickup_configuration\":\"SSS\",\"piezo\":\"No\"},{\"manufacturer\":\"Fender\",\"price\":924.99,\"country\":\"Mexico\",\"product\":\"Classic 50s Telecaster Lacquer Electric Guitar\",\"page_url\":\"https:\\\\/\\\\/www.musiciansfriend.com\\\\/guitars\\\\/fender-classic-50s-telecaster-lacquer-electric-guitar\",\"image_url\":\"https:\\\\/\\\\/media.musiciansfriend.com\\\\/is\\\\/image\\\\/MMGS7\\\\/Classic-50s-Telecaster-Lacquer-Electric-Guitar-2-Color-Sunburst\\\\/H96902000002000-00-220x220.jpg\",\"body_shape\":\"Single cutaway\",\"body_type\":\"Solid\",\"neck_joint\":\"Bolt-on\",\"neck_finish\":\"Gloss\",\"fretboard_material\":\"Maple\",\"number_of_frets\":\"21\",\"bridge_type\":\"Fixed\",\"tuners\":\"Non-locking\",\"active_or_passive\":\"Unknown\",\"pickup_configuration\":\"SS\",\"piezo\":\"No\"},{\"manufacturer\":\"Fender\",\"price\":1949.99,\"country\":\"United States\",\"product\":\"American Original 60s Stratocaster Left-Handed Rosewood Fingerboard Electric Guitar\",\"page_url\":\"https:\\\\/\\\\/www.musiciansfriend.com\\\\/guitars\\\\/fender-american-original-60s-stratocaster-left-handed-rosewood-fingerboard-electric-guitar\",\"image_url\":\"https:\\\\/\\\\/media.musiciansfriend.com\\\\/is\\\\/image\\\\/MMGS7\\\\/American-Original-60s-Stratocaster-Left-Handed-Rosewood-Fingerboard-Electric-Guitar-Olympic-White\\\\/K48575000001000-00-220x220.jpg\",\"body_shape\":\"Double cutaway\",\"body_type\":\"Solid\",\"neck_joint\":\"Bolt-on\",\"neck_finish\":\"Gloss\",\"fretboard_material\":\"Rosewood\",\"number_of_frets\":\"21\",\"bridge_type\":\"Tremolo\",\"tuners\":\"Non-locking\",\"active_or_passive\":\"Passive\",\"pickup_configuration\":\"SSS\",\"piezo\":\"No\"},{\"manufacturer\":\"Gibson\",\"price\":7699.0,\"country\":\"United States\",\"product\":\"Custom57 Les Paul Custom VOS Electric Guitar\",\"page_url\":\"https:\\\\/\\\\/www.musiciansfriend.com\\\\/guitars\\\\/gibson-custom-57-les-paul-custom-vos-electric-guitar\",\"image_url\":\"https:\\\\/\\\\/media.musiciansfriend.com\\\\/is\\\\/image\\\\/MMGS7\\\\/57-Les-Paul-Custom-VOS-Electric-Guitar-Ebony\\\\/L46283000001000-00-220x220.jpg\",\"body_shape\":\"Single cutaway\",\"body_type\":\"Solid\",\"neck_joint\":\"Set-in\",\"neck_finish\":\"Unknown\",\"fretboard_material\":\"Ebony\",\"number_of_frets\":\"22\",\"bridge_type\":\"Fixed\",\"tuners\":\"Non-locking\",\"active_or_passive\":\"Passive\",\"pickup_configuration\":\"HH\",\"piezo\":\"No\"},{\"manufacturer\":\"Gibson\",\"price\":4499.0,\"country\":\"United States\",\"product\":\"CustomModern Double Cut Custom Electric Guitar\",\"page_url\":\"https:\\\\/\\\\/www.musiciansfriend.com\\\\/guitars\\\\/gibson-custom-modern-double-cut-custom-electric-guitar\",\"image_url\":\"https:\\\\/\\\\/media.musiciansfriend.com\\\\/is\\\\/image\\\\/MMGS7\\\\/Modern-Double-Cut-Custom-Electric-Guitar-Silver-Burst\\\\/K48603000002000-00-220x220.jpg\",\"body_shape\":\"Double cutaway\",\"body_type\":\"Solid\",\"neck_joint\":\"Set-in\",\"neck_finish\":\"Gloss\",\"fretboard_material\":\"Other\",\"number_of_frets\":\"24\",\"bridge_type\":\"Fixed\",\"tuners\":\"Non-locking\",\"active_or_passive\":\"Passive\",\"pickup_configuration\":\"HH\",\"piezo\":\"No\"},{\"manufacturer\":\"Gibson\",\"price\":3999.0,\"country\":\"United States\",\"product\":\"CustomLimited Run Modern Double Cut Standard Semi Hollow Electric Guitar\",\"page_url\":\"https:\\\\/\\\\/www.musiciansfriend.com\\\\/guitars\\\\/gibson-custom-limited-run-modern-double-cut-standard-semi-hollow-electric-guitar\",\"image_url\":\"https:\\\\/\\\\/media.musiciansfriend.com\\\\/is\\\\/image\\\\/MMGS7\\\\/Limited-Run-Modern-Double-Cut-Standard-Semi-Hollow-Electric-Guitar-Blue-Pearl\\\\/L00719000001000-00-220x220.jpg\",\"body_shape\":\"Double cutaway\",\"body_type\":\"Semi-hollow\",\"neck_joint\":\"Set-in\",\"neck_finish\":\"Satin\",\"fretboard_material\":\"Rosewood\",\"number_of_frets\":\"24\",\"bridge_type\":\"Fixed\",\"tuners\":\"Non-locking\",\"active_or_passive\":\"Passive\",\"pickup_configuration\":\"HH\",\"piezo\":\"No\"},{\"manufacturer\":\"Gibson\",\"price\":7699.0,\"country\":\"United States\",\"product\":\"Custom57 Les Paul Custom VOS Left-Handed Electric Guitar\",\"page_url\":\"https:\\\\/\\\\/www.musiciansfriend.com\\\\/guitars\\\\/gibson-custom-57-les-paul-custom-vos-left-handed-electric-guitar\",\"image_url\":\"https:\\\\/\\\\/media.musiciansfriend.com\\\\/is\\\\/image\\\\/MMGS7\\\\/57-Les-Paul-Custom-VOS-Left-Handed-Electric-Guitar-Ebony\\\\/L46279000001000-00-220x220.jpg\",\"body_shape\":\"Single cutaway\",\"body_type\":\"Solid\",\"neck_joint\":\"Set-in\",\"neck_finish\":\"Unknown\",\"fretboard_material\":\"Ebony\",\"number_of_frets\":\"22\",\"bridge_type\":\"Fixed\",\"tuners\":\"Non-locking\",\"active_or_passive\":\"Passive\",\"pickup_configuration\":\"HH\",\"piezo\":\"No\"},{\"manufacturer\":\"Gibson\",\"price\":4699.0,\"country\":\"United States\",\"product\":\"Custom1957 Les Paul Goldtop Electric Guitar\",\"page_url\":\"https:\\\\/\\\\/www.musiciansfriend.com\\\\/guitars\\\\/gibson-custom-1957-les-paul-goldtop-electric-guitar\",\"image_url\":\"https:\\\\/\\\\/media.musiciansfriend.com\\\\/is\\\\/image\\\\/MMGS7\\\\/1957-Les-Paul-Goldtop-Electric-Guitar-Antique-Gold\\\\/L46276000001000-00-220x220.jpg\",\"body_shape\":\"Single cutaway\",\"body_type\":\"Solid\",\"neck_joint\":\"Set-in\",\"neck_finish\":\"Gloss\",\"fretboard_material\":\"Rosewood\",\"number_of_frets\":\"22\",\"bridge_type\":\"Fixed\",\"tuners\":\"Non-locking\",\"active_or_passive\":\"Unknown\",\"pickup_configuration\":\"HH\",\"piezo\":\"No\"},{\"manufacturer\":\"Gibson\",\"price\":4999.0,\"country\":\"United States\",\"product\":\"Custom1958 Les Paul Standard Electric Guitar\",\"page_url\":\"https:\\\\/\\\\/www.musiciansfriend.com\\\\/guitars\\\\/gibson-custom-1958-les-paul-standard-electric-guitar\",\"image_url\":\"https:\\\\/\\\\/media.musiciansfriend.com\\\\/is\\\\/image\\\\/MMGS7\\\\/1958-Les-Paul-Standard-Electric-Guitar-Honey-Lemon-Fade\\\\/L19431000001000-00-220x220.jpg\",\"body_shape\":\"Single cutaway\",\"body_type\":\"Solid\",\"neck_joint\":\"Set-in\",\"neck_finish\":\"Gloss\",\"fretboard_material\":\"Rosewood\",\"number_of_frets\":\"22\",\"bridge_type\":\"Fixed\",\"tuners\":\"Non-locking\",\"active_or_passive\":\"Passive\",\"pickup_configuration\":\"HH\",\"piezo\":\"No\"},{\"manufacturer\":\"Gibson\",\"price\":4899.0,\"country\":\"United States\",\"product\":\"CustomLes Paul Custom Chambered Blackout Electric Guitar\",\"page_url\":\"https:\\\\/\\\\/www.musiciansfriend.com\\\\/guitars\\\\/gibson-custom-les-paul-custom-chambered-blackout-electric-guitar\",\"image_url\":\"https:\\\\/\\\\/media.musiciansfriend.com\\\\/is\\\\/image\\\\/MMGS7\\\\/Les-Paul-Custom-Chambered-Blackout-Electric-Guitar-F1-Orange\\\\/K86794000001000-00-220x220.jpg\",\"body_shape\":\"Single cutaway\",\"body_type\":\"Semi-hollow\",\"neck_joint\":\"Set-in\",\"neck_finish\":\"Unknown\",\"fretboard_material\":\"Other\",\"number_of_frets\":\"22\",\"bridge_type\":\"Fixed\",\"tuners\":\"Non-locking\",\"active_or_passive\":\"Active\",\"pickup_configuration\":\"HH\",\"piezo\":\"No\"},{\"manufacturer\":\"Gibson\",\"price\":1399.0,\"country\":\"United States\",\"product\":\"2018 Limited Run Les Paul Deluxe Player Plus Electric Guitar\",\"page_url\":\"https:\\\\/\\\\/www.musiciansfriend.com\\\\/guitars\\\\/gibson-2018-limited-run-les-paul-deluxe-player-plus-electric-guitar\",\"image_url\":\"https:\\\\/\\\\/media.musiciansfriend.com\\\\/is\\\\/image\\\\/MMGS7\\\\/2018-Limited-Run-Les-Paul-Deluxe-Player-Plus-Electric-Guitar-Ocean-Blue\\\\/L01410000001000-00-220x220.jpg\",\"body_shape\":\"Single cutaway\",\"body_type\":\"Solid\",\"neck_joint\":\"Set-in\",\"neck_finish\":\"Satin\",\"fretboard_material\":\"Other\",\"number_of_frets\":\"22\",\"bridge_type\":\"Fixed\",\"tuners\":\"Non-locking\",\"active_or_passive\":\"Passive\",\"pickup_configuration\":\"HH\",\"piezo\":\"No\"},{\"manufacturer\":\"Gibson\",\"price\":1399.0,\"country\":\"United States\",\"product\":\"2018 Limited Run Les Paul Signature Player Plus Electric Guitar\",\"page_url\":\"https:\\\\/\\\\/www.musiciansfriend.com\\\\/guitars\\\\/gibson-2018-limited-run-les-paul-signature-player-plus-electric-guitar\",\"image_url\":\"https:\\\\/\\\\/media.musiciansfriend.com\\\\/is\\\\/image\\\\/MMGS7\\\\/2018-Limited-Run-Les-Paul-Signature-Player-Plus-Electric-Guitar-Satin-Wine-Red\\\\/L00752000003000-00-220x220.jpg\",\"body_shape\":\"Single cutaway\",\"body_type\":\"Solid\",\"neck_joint\":\"Set-in\",\"neck_finish\":\"Satin\",\"fretboard_material\":\"Other\",\"number_of_frets\":\"22\",\"bridge_type\":\"Fixed\",\"tuners\":\"Non-locking\",\"active_or_passive\":\"Passive\",\"pickup_configuration\":\"HH\",\"piezo\":\"No\"},{\"manufacturer\":\"Gibson\",\"price\":1399.0,\"country\":\"United States\",\"product\":\"2018 Les Paul Classic Player Plus Electric Guitar\",\"page_url\":\"https:\\\\/\\\\/www.musiciansfriend.com\\\\/guitars\\\\/gibson-2018-les-paul-classic-player-plus-electric-guitar\",\"image_url\":\"https:\\\\/\\\\/media.musiciansfriend.com\\\\/is\\\\/image\\\\/MMGS7\\\\/2018-Les-Paul-Classic-Player-Plus-Electric-Guitar-Ocean-Blue\\\\/L00674000001000-00-220x220.jpg\",\"body_shape\":\"Single cutaway\",\"body_type\":\"Solid\",\"neck_joint\":\"Set-in\",\"neck_finish\":\"Satin\",\"fretboard_material\":\"Other\",\"number_of_frets\":\"22\",\"bridge_type\":\"Fixed\",\"tuners\":\"Non-locking\",\"active_or_passive\":\"Passive\",\"pickup_configuration\":\"SS\",\"piezo\":\"No\"},{\"manufacturer\":\"Gibson\",\"price\":649.0,\"country\":\"United States\",\"product\":\"2018 Les Paul BFG Humbuckers Electric Guitar\",\"page_url\":\"https:\\\\/\\\\/www.musiciansfriend.com\\\\/guitars\\\\/gibson-2018-les-paul-bfg-humbuckers-electric-guitar\",\"image_url\":\"https:\\\\/\\\\/media.musiciansfriend.com\\\\/is\\\\/image\\\\/MMGS7\\\\/2018-Les-Paul-BFG-Humbuckers-Electric-Guitar-Worn-Ebony\\\\/L13248000001000-00-220x220.jpg\",\"body_shape\":\"Single cutaway\",\"body_type\":\"Solid\",\"neck_joint\":\"Set-in\",\"neck_finish\":\"Gloss\",\"fretboard_material\":\"Other\",\"number_of_frets\":\"22\",\"bridge_type\":\"Fixed\",\"tuners\":\"Non-locking\",\"active_or_passive\":\"Passive\",\"pickup_configuration\":\"HH\",\"piezo\":\"No\"},{\"manufacturer\":\"Gibson\",\"price\":2959.0,\"country\":\"United States\",\"product\":\"2018 Les Paul Standard HP-II Electric Guitar\",\"page_url\":\"https:\\\\/\\\\/www.musiciansfriend.com\\\\/guitars\\\\/gibson-2018-les-paul-standard-hp-ii-electric-guitar\",\"image_url\":\"https:\\\\/\\\\/media.musiciansfriend.com\\\\/is\\\\/image\\\\/MMGS7\\\\/2018-Les-Paul-Standard-HP-II-Electric-Guitar-Hot-Pink-Fade\\\\/L18163000004000-00-220x220.jpg\",\"body_shape\":\"Single cutaway\",\"body_type\":\"Solid\",\"neck_joint\":\"Set-in\",\"neck_finish\":\"Unknown\",\"fretboard_material\":\"Other\",\"number_of_frets\":\"22\",\"bridge_type\":\"Fixed\",\"tuners\":\"Locking\",\"active_or_passive\":\"Passive\",\"pickup_configuration\":\"HH\",\"piezo\":\"No\"},{\"manufacturer\":\"Gibson\",\"price\":5499.0,\"country\":\"United States\",\"product\":\"B.B. King Lucille Electric Guitar\",\"page_url\":\"https:\\\\/\\\\/www.musiciansfriend.com\\\\/guitars\\\\/gibson-bb-king-lucille-electric-guitar\\\\/l46576\",\"image_url\":\"https:\\\\/\\\\/media.musiciansfriend.com\\\\/is\\\\/image\\\\/MMGS7\\\\/B.B.-King-Lucille-Electric-Guitar-Alpine-White\\\\/L46576000001000-00-220x220.jpg\",\"body_shape\":\"Double cutaway\",\"body_type\":\"Semi-hollow\",\"neck_joint\":\"Set-in\",\"neck_finish\":\"Gloss\",\"fretboard_material\":\"Rosewood\",\"number_of_frets\":\"22\",\"bridge_type\":\"Fixed\",\"tuners\":\"Non-locking\",\"active_or_passive\":\"Passive\",\"pickup_configuration\":\"HH\",\"piezo\":\"No\"},{\"manufacturer\":\"Gibson\",\"price\":2529.0,\"country\":\"United States\",\"product\":\"Les Paul Classic with Bigsby Limited Edition Electric Guitar\",\"page_url\":\"https:\\\\/\\\\/www.musiciansfriend.com\\\\/guitars\\\\/gibson-les-paul-classic-with-bigsby-limited-edition-electric-guitar\",\"image_url\":\"https:\\\\/\\\\/media.musiciansfriend.com\\\\/is\\\\/image\\\\/MMGS7\\\\/Les-Paul-Classic-with-Bigsby-Limited-Edition-Electric-Guitar-Gold-Top\\\\/K58367000001000-00-220x220.jpg\",\"body_shape\":\"Single cutaway\",\"body_type\":\"Solid\",\"neck_joint\":\"Set-in\",\"neck_finish\":\"Unknown\",\"fretboard_material\":\"Rosewood\",\"number_of_frets\":\"22\",\"bridge_type\":\"Tremolo\",\"tuners\":\"Non-locking\",\"active_or_passive\":\"Passive\",\"pickup_configuration\":\"SS\",\"piezo\":\"No\"},{\"manufacturer\":\"Gibson\",\"price\":1319.2,\"country\":\"United States\",\"product\":\"Limited Edition Les Paul Studio Deluxe Electric Guitar\",\"page_url\":\"https:\\\\/\\\\/www.musiciansfriend.com\\\\/guitars\\\\/open-box-gibson-limited-edition-les-paul-studio-deluxe-electric-guitar\",\"image_url\":\"https:\\\\/\\\\/media.musiciansfriend.com\\\\/is\\\\/image\\\\/MMGS7\\\\/Limited-Edition-Les-Paul-Studio-Deluxe-Electric-Guitar-Level-2-Silver-Burst-190839568670\\\\/K58464000001000-00-220x220.jpg\",\"body_shape\":\"Single cutaway\",\"body_type\":\"Solid\",\"neck_joint\":\"Set-in\",\"neck_finish\":\"Unknown\",\"fretboard_material\":\"Rosewood\",\"number_of_frets\":\"22\",\"bridge_type\":\"Fixed\",\"tuners\":\"Non-locking\",\"active_or_passive\":\"Passive\",\"pickup_configuration\":\"HH\",\"piezo\":\"No\"},{\"manufacturer\":\"G&L\",\"price\":499.0,\"country\":\"Indonesia\",\"product\":\"Tribute Legacy Electric Guitar\",\"page_url\":\"https:\\\\/\\\\/www.musiciansfriend.com\\\\/guitars\\\\/gl-tribute-legacy-electric-guitar\\\\/l10442\",\"image_url\":\"https:\\\\/\\\\/media.musiciansfriend.com\\\\/is\\\\/image\\\\/MMGS7\\\\/Tribute-Legacy-Electric-Guitar-Irish-Ale\\\\/L10442000001000-00-220x220.jpg\",\"body_shape\":\"Double cutaway\",\"body_type\":\"Solid\",\"neck_joint\":\"Bolt-on\",\"neck_finish\":\"Satin\",\"fretboard_material\":\"Other\",\"number_of_frets\":\"22\",\"bridge_type\":\"Tremolo\",\"tuners\":\"Non-locking\",\"active_or_passive\":\"Passive\",\"pickup_configuration\":\"SSS\",\"piezo\":\"No\"},{\"manufacturer\":\"Gretsch\",\"price\":449.99,\"country\":\"China\",\"product\":\"GuitarsG5220 Electromatic Jet Electric Guitar\",\"page_url\":\"https:\\\\/\\\\/www.musiciansfriend.com\\\\/guitars\\\\/gretsch-guitars-g5220-electromatic-jet-electric-guitar\",\"image_url\":\"https:\\\\/\\\\/media.musiciansfriend.com\\\\/is\\\\/image\\\\/MMGS7\\\\/G5220-Electromatic-Jet-Electric-Guitar-Black\\\\/K90809000003000-00-220x220.jpg\",\"body_shape\":\"Single cutaway\",\"body_type\":\"Semi-hollow\",\"neck_joint\":\"Set-in\",\"neck_finish\":\"Gloss\",\"fretboard_material\":\"Other\",\"number_of_frets\":\"22\",\"bridge_type\":\"Fixed\",\"tuners\":\"Non-locking\",\"active_or_passive\":\"Passive\",\"pickup_configuration\":\"HH\",\"piezo\":\"No\"},{\"manufacturer\":\"Gretsch\",\"price\":499.99,\"country\":\"China\",\"product\":\"GuitarsFSR G5135CVT Electromatic CVT Electric Guitar\",\"page_url\":\"https:\\\\/\\\\/www.musiciansfriend.com\\\\/guitars\\\\/gretsch-guitars-fsr-g5135cvt-electromatic-cvt-electric-guitar\",\"image_url\":\"https:\\\\/\\\\/media.musiciansfriend.com\\\\/is\\\\/image\\\\/MMGS7\\\\/FSR-G5135CVT-Electromatic-CVT-Electric-Guitar-Vintage-White-Tortoise-Pickguard\\\\/K90805000001001-00-220x220.jpg\",\"body_shape\":\"Single cutaway\",\"body_type\":\"Solid\",\"neck_joint\":\"Set-in\",\"neck_finish\":\"Gloss\",\"fretboard_material\":\"Other\",\"number_of_frets\":\"22\",\"bridge_type\":\"Fixed\",\"tuners\":\"Non-locking\",\"active_or_passive\":\"Passive\",\"pickup_configuration\":\"HH\",\"piezo\":\"No\"},{\"manufacturer\":\"Gretsch\",\"price\":899.99,\"country\":\"China\",\"product\":\"GuitarsG5655TG Electromatic Center Block Jr. Bigsby Electric Guitar\",\"page_url\":\"https:\\\\/\\\\/www.musiciansfriend.com\\\\/guitars\\\\/gretsch-guitars-g5655tg-electromatic-center-block-jr-bigsby-electric-guitar\",\"image_url\":\"https:\\\\/\\\\/media.musiciansfriend.com\\\\/is\\\\/image\\\\/MMGS7\\\\/G5655TG-Electromatic-Center-Block-Jr.-Bigsby-Electric-Guitar-Cadillac-Green\\\\/L47583000003000-00-220x220.jpg\",\"body_shape\":\"Single cutaway\",\"body_type\":\"Semi-hollow\",\"neck_joint\":\"Set-in\",\"neck_finish\":\"Gloss\",\"fretboard_material\":\"Other\",\"number_of_frets\":\"22\",\"bridge_type\":\"Tremolo\",\"tuners\":\"Non-locking\",\"active_or_passive\":\"Passive\",\"pickup_configuration\":\"HH\",\"piezo\":\"No\"},{\"manufacturer\":\"Gretsch\",\"price\":549.99,\"country\":\"Indonesia\",\"product\":\"GuitarsG2420T Streamliner Hollow Body with Bigsby  Electric Guitar\",\"page_url\":\"https:\\\\/\\\\/www.musiciansfriend.com\\\\/guitars\\\\/gretsch-guitars-g2420t-streamliner-hollow-body-with-bigsby-electric-guitar\",\"image_url\":\"https:\\\\/\\\\/media.musiciansfriend.com\\\\/is\\\\/image\\\\/MMGS7\\\\/G2420T-Streamliner-Hollow-Body-with-Bigsby-Electric-Guitar-Riviera-Blue\\\\/L47594000001000-00-220x220.jpg\",\"body_shape\":\"Single cutaway\",\"body_type\":\"Hollow\",\"neck_joint\":\"Set-in\",\"neck_finish\":\"Gloss\",\"fretboard_material\":\"Other\",\"number_of_frets\":\"22\",\"bridge_type\":\"Tremolo\",\"tuners\":\"Non-locking\",\"active_or_passive\":\"Passive\",\"pickup_configuration\":\"HH\",\"piezo\":\"No\"},{\"manufacturer\":\"Gretsch\",\"price\":549.99,\"country\":\"Indonesia\",\"product\":\"GuitarsG2622LH Streamliner Center Block with V-Stoptail, Left-Handed Electric Guitar\",\"page_url\":\"https:\\\\/\\\\/www.musiciansfriend.com\\\\/guitars\\\\/gretsch-guitars-g2622lh-streamliner-center-block-with-v-stoptail-left-handed-electric-guitar\",\"image_url\":\"https:\\\\/\\\\/media.musiciansfriend.com\\\\/is\\\\/image\\\\/MMGS7\\\\/G2622LH-Streamliner-Center-Block-with-V-Stoptail-Left-Handed-Electric-Guitar-Torino-Green\\\\/L47708000001000-00-220x220.jpg\",\"body_shape\":\"Double cutaway\",\"body_type\":\"Semi-hollow\",\"neck_joint\":\"Set-in\",\"neck_finish\":\"Gloss\",\"fretboard_material\":\"Other\",\"number_of_frets\":\"22\",\"bridge_type\":\"Fixed\",\"tuners\":\"Non-locking\",\"active_or_passive\":\"Passive\",\"pickup_configuration\":\"HH\",\"piezo\":\"No\"},{\"manufacturer\":\"Gretsch\",\"price\":549.99,\"country\":\"Indonesia\",\"product\":\"GuitarsG2622T Streamliner Center Block with Bigsby Electric Guitar\",\"page_url\":\"https:\\\\/\\\\/www.musiciansfriend.com\\\\/guitars\\\\/gretsch-guitars-g2622t-streamliner-center-block-with-bigsby-electric-guitar\",\"image_url\":\"https:\\\\/\\\\/media.musiciansfriend.com\\\\/is\\\\/image\\\\/MMGS7\\\\/G2622T-Streamliner-Center-Block-with-Bigsby-Electric-Guitar-Torino-Green\\\\/L47586000003000-00-220x220.jpg\",\"body_shape\":\"Double cutaway\",\"body_type\":\"Semi-hollow\",\"neck_joint\":\"Set-in\",\"neck_finish\":\"Gloss\",\"fretboard_material\":\"Other\",\"number_of_frets\":\"22\",\"bridge_type\":\"Tremolo\",\"tuners\":\"Non-locking\",\"active_or_passive\":\"Passive\",\"pickup_configuration\":\"HH\",\"piezo\":\"No\"},{\"manufacturer\":\"Gretsch\",\"price\":449.99,\"country\":\"Indonesia\",\"product\":\"GuitarsG2655 Streamliner Center Block Jr. with V-Stoptail Electric Guitar\",\"page_url\":\"https:\\\\/\\\\/www.musiciansfriend.com\\\\/guitars\\\\/gretsch-guitars-g2655-streamliner-center-block-jr-with-v-stoptail-electric-guitar\",\"image_url\":\"https:\\\\/\\\\/media.musiciansfriend.com\\\\/is\\\\/image\\\\/MMGS7\\\\/G2655-Streamliner-Center-Block-Jr.-with-V-Stoptail-Electric-Guitar-Single-Barrel-Stain\\\\/L47597000002000-00-220x220.jpg\",\"body_shape\":\"Double cutaway\",\"body_type\":\"Semi-hollow\",\"neck_joint\":\"Set-in\",\"neck_finish\":\"Gloss\",\"fretboard_material\":\"Other\",\"number_of_frets\":\"22\",\"bridge_type\":\"Fixed\",\"tuners\":\"Non-locking\",\"active_or_passive\":\"Passive\",\"pickup_configuration\":\"HH\",\"piezo\":\"No\"},{\"manufacturer\":\"Gretsch\",\"price\":2499.99,\"country\":\"United States\",\"product\":\"GuitarsG6228FM-PE Players Edition Duo Jet Electric Guitar\",\"page_url\":\"https:\\\\/\\\\/www.musiciansfriend.com\\\\/guitars\\\\/gretsch-guitars-g6228fm-pe-players-edition-duo-jet-electric-guitar\",\"image_url\":\"https:\\\\/\\\\/media.musiciansfriend.com\\\\/is\\\\/image\\\\/MMGS7\\\\/G6228FM-PE-Players-Edition-Duo-Jet-Electric-Guitar-Bourbon-Stain\\\\/K76890000002000-00-220x220.jpg\",\"body_shape\":\"Single cutaway\",\"body_type\":\"Semi-hollow\",\"neck_joint\":\"Set-in\",\"neck_finish\":\"Gloss\",\"fretboard_material\":\"Ebony\",\"number_of_frets\":\"22\",\"bridge_type\":\"Fixed\",\"tuners\":\"Locking\",\"active_or_passive\":\"Passive\",\"pickup_configuration\":\"HH\",\"piezo\":\"No\"},{\"manufacturer\":\"Gretsch\",\"price\":2799.99,\"country\":\"Japan\",\"product\":\"GuitarsG6659TFM Players Edition Broadkaster Jr. Center Block Bigsby Semi-Hollow Electric Guitar\",\"page_url\":\"https:\\\\/\\\\/www.musiciansfriend.com\\\\/guitars\\\\/gretsch-guitars-g6659tfm-players-edition-broadkaster-jr-center-block-bigsby-semi-hollow-electric-guitar\",\"image_url\":\"https:\\\\/\\\\/media.musiciansfriend.com\\\\/is\\\\/image\\\\/MMGS7\\\\/G6659TFM-Players-Edition-Broadkaster-Jr.-Center-Block-Bigsby-Semi-Hollow-Electric-Guitar-Dark-Cherry-Stain\\\\/J48628000001000-00-220x220.jpg\",\"body_shape\":\"Single cutaway\",\"body_type\":\"Semi-hollow\",\"neck_joint\":\"Set-in\",\"neck_finish\":\"Gloss\",\"fretboard_material\":\"Ebony\",\"number_of_frets\":\"22\",\"bridge_type\":\"Tremolo\",\"tuners\":\"Locking\",\"active_or_passive\":\"Passive\",\"pickup_configuration\":\"HH\",\"piezo\":\"No\"},{\"manufacturer\":\"Gretsch\",\"price\":449.99,\"country\":\"Indonesia\",\"product\":\"GuitarsG2622 Streamliner Center Block with V-Stoptail Electric Guitar\",\"page_url\":\"https:\\\\/\\\\/www.musiciansfriend.com\\\\/guitars\\\\/gretsch-guitars-g2622-streamliner-center-block-with-v-stoptail-electric-guitar\",\"image_url\":\"https:\\\\/\\\\/media.musiciansfriend.com\\\\/is\\\\/image\\\\/MMGS7\\\\/G2622-Streamliner-Center-Block-with-V-Stoptail-Electric-Guitar-Phantom-Metallic\\\\/L47707000002000-00-220x220.jpg\",\"body_shape\":\"Double cutaway\",\"body_type\":\"Semi-hollow\",\"neck_joint\":\"Set-in\",\"neck_finish\":\"Gloss\",\"fretboard_material\":\"Other\",\"number_of_frets\":\"22\",\"bridge_type\":\"Fixed\",\"tuners\":\"Non-locking\",\"active_or_passive\":\"Passive\",\"pickup_configuration\":\"HH\",\"piezo\":\"No\"},{\"manufacturer\":\"Gretsch\",\"price\":2599.99,\"country\":\"Japan\",\"product\":\"GuitarsG6131T-62 Vintage Select 62 Jet Firebird with Bigsby Hollow Body Electric Guitar\",\"page_url\":\"https:\\\\/\\\\/www.musiciansfriend.com\\\\/guitars\\\\/gretsch-guitars-g6131t-62-vintage-select-62-jet-firebird-with-bigsby-hollow-body-electric-guitar\",\"image_url\":\"https:\\\\/\\\\/media.musiciansfriend.com\\\\/is\\\\/image\\\\/MMGS7\\\\/G6131T-62-Vintage-Select-62-Jet-Firebird-with-Bigsby-Hollow-Body-Electric-Guitar-Firebird-Red\\\\/J48587000001000-00-220x220.jpg\",\"body_shape\":\"Single cutaway\",\"body_type\":\"Semi-hollow\",\"neck_joint\":\"Set-in\",\"neck_finish\":\"Gloss\",\"fretboard_material\":\"Ebony\",\"number_of_frets\":\"22\",\"bridge_type\":\"Tremolo\",\"tuners\":\"Non-locking\",\"active_or_passive\":\"Passive\",\"pickup_configuration\":\"HH\",\"piezo\":\"No\"},{\"manufacturer\":\"Gretsch\",\"price\":2499.99,\"country\":\"Japan\",\"product\":\"GuitarsG6620T Players Edition Nashville Center Block Double-Cut with String-Thru Bigsby Electric Guitar\",\"page_url\":\"https:\\\\/\\\\/www.musiciansfriend.com\\\\/guitars\\\\/gretsch-guitars-g6620t-players-edition-nashville-center-block-double-cut-with-string-thru-bigsby-electric-guitar\",\"image_url\":\"https:\\\\/\\\\/media.musiciansfriend.com\\\\/is\\\\/image\\\\/MMGS7\\\\/G6620T-Players-Edition-Nashville-Center-Block-Double-Cut-with-String-Thru-Bigsby-Electric-Guitar-Round-Up-Orange\\\\/L47709000001000-00-220x220.jpg\",\"body_shape\":\"Double cutaway\",\"body_type\":\"Semi-hollow\",\"neck_joint\":\"Set-in\",\"neck_finish\":\"Gloss\",\"fretboard_material\":\"Ebony\",\"number_of_frets\":\"22\",\"bridge_type\":\"Tremolo\",\"tuners\":\"Locking\",\"active_or_passive\":\"Passive\",\"pickup_configuration\":\"HH\",\"piezo\":\"No\"},{\"manufacturer\":\"Gretsch\",\"price\":549.99,\"country\":\"Indonesia\",\"product\":\"GuitarsG2655T Streamliner Center Block Jr. Bigsby Electric Guitar\",\"page_url\":\"https:\\\\/\\\\/www.musiciansfriend.com\\\\/guitars\\\\/gretsch-guitars-g2655t-streamliner-center-block-jr-bigsby-electric-guitar\",\"image_url\":\"https:\\\\/\\\\/media.musiciansfriend.com\\\\/is\\\\/image\\\\/MMGS7\\\\/G2655T-Streamliner-Center-Block-Jr.-Bigsby-Electric-Guitar-Fairlane-Blue\\\\/L47595000001000-00-220x220.jpg\",\"body_shape\":\"Double cutaway\",\"body_type\":\"Semi-hollow\",\"neck_joint\":\"Set-in\",\"neck_finish\":\"Gloss\",\"fretboard_material\":\"Other\",\"number_of_frets\":\"22\",\"bridge_type\":\"Tremolo\",\"tuners\":\"Non-locking\",\"active_or_passive\":\"Passive\",\"pickup_configuration\":\"HH\",\"piezo\":\"No\"},{\"manufacturer\":\"Gretsch\",\"price\":2799.99,\"country\":\"Japan\",\"product\":\"GuitarsG6128T-CLFG Cliff Gallup Signature Duo Jet Electric Guitar\",\"page_url\":\"https:\\\\/\\\\/www.musiciansfriend.com\\\\/guitars\\\\/gretsch-guitars-g6128t-clfg-cliff-gallup-signature-duo-jet-electric-guitar\",\"image_url\":\"https:\\\\/\\\\/media.musiciansfriend.com\\\\/is\\\\/image\\\\/MMGS7\\\\/G6128T-CLFG-Cliff-Gallup-Signature-Duo-Jet-Electric-Guitar-Black\\\\/J82720000001000-00-220x220.jpg\",\"body_shape\":\"Single cutaway\",\"body_type\":\"Semi-hollow\",\"neck_joint\":\"Set-in\",\"neck_finish\":\"Gloss\",\"fretboard_material\":\"Maple\",\"number_of_frets\":\"21\",\"bridge_type\":\"Tremolo\",\"tuners\":\"Non-locking\",\"active_or_passive\":\"Passive\",\"pickup_configuration\":\"HH\",\"piezo\":\"No\"},{\"manufacturer\":\"Gretsch\",\"price\":3499.99,\"country\":\"Japan\",\"product\":\"GuitarsG6636T Players Edition Falcon Center Block Bigsby Sem-Hollow Electric Guitar\",\"page_url\":\"https:\\\\/\\\\/www.musiciansfriend.com\\\\/guitars\\\\/gretsch-guitars-g6636t-players-edition-falcon-center-block-bigsby-sem-hollow-electric-guitar\",\"image_url\":\"https:\\\\/\\\\/media.musiciansfriend.com\\\\/is\\\\/image\\\\/MMGS7\\\\/G6636T-Players-Edition-Falcon-Center-Block-Bigsby-Sem-Hollow-Electric-Guitar-Black\\\\/J48539000002000-00-220x220.jpg\",\"body_shape\":\"Double cutaway\",\"body_type\":\"Semi-hollow\",\"neck_joint\":\"Set-in\",\"neck_finish\":\"Gloss\",\"fretboard_material\":\"Ebony\",\"number_of_frets\":\"22\",\"bridge_type\":\"Tremolo\",\"tuners\":\"Non-locking\",\"active_or_passive\":\"Passive\",\"pickup_configuration\":\"HH\",\"piezo\":\"No\"},{\"manufacturer\":\"Hamer\",\"price\":799.99,\"country\":\"Indonesia\",\"product\":\"Standard Flame Top Electric Guitar\",\"page_url\":\"https:\\\\/\\\\/www.musiciansfriend.com\\\\/guitars\\\\/hamer-standard-flame-top-electric-guitar\",\"image_url\":\"https:\\\\/\\\\/media.musiciansfriend.com\\\\/is\\\\/image\\\\/MMGS7\\\\/Standard-Flame-Top-Electric-Guitar-Cherry-Sunburst\\\\/J56952000001000-00-220x220.jpg\",\"body_shape\":\"Unknown\",\"body_type\":\"Solid\",\"neck_joint\":\"Set-in\",\"neck_finish\":\"Gloss\",\"fretboard_material\":\"Rosewood\",\"number_of_frets\":\"22\",\"bridge_type\":\"Fixed\",\"tuners\":\"Non-locking\",\"active_or_passive\":\"Passive\",\"pickup_configuration\":\"HH\",\"piezo\":\"No\"},{\"manufacturer\":\"Jackson\",\"price\":764.99,\"country\":\"Indonesia\",\"product\":\"Pro Series Signature Phil Demmel Demmelition King V Electric Guitar\",\"page_url\":\"https:\\\\/\\\\/www.musiciansfriend.com\\\\/guitars\\\\/jackson-pro-series-signature-phil-demmel-demmelition-king-v-electric-guitar\",\"image_url\":\"https:\\\\/\\\\/media.musiciansfriend.com\\\\/is\\\\/image\\\\/MMGS7\\\\/Pro-Series-Signature-Phil-Demmel-Demmelition-King-V-Electric-Guitar-White-with-Black-Bevels\\\\/L47655000004000-00-220x220.jpg\",\"body_shape\":\"Unknown\",\"body_type\":\"Solid\",\"neck_joint\":\"Neck-thru\",\"neck_finish\":\"Gloss\",\"fretboard_material\":\"Ebony\",\"number_of_frets\":\"24\",\"bridge_type\":\"Tremolo\",\"tuners\":\"Non-locking\",\"active_or_passive\":\"Passive\",\"pickup_configuration\":\"HH\",\"piezo\":\"No\"},{\"manufacturer\":\"Jackson\",\"price\":699.99,\"country\":\"China\",\"product\":\"Soloist SLX Crackle Electric Guitar\",\"page_url\":\"https:\\\\/\\\\/www.musiciansfriend.com\\\\/guitars\\\\/jackson-soloist-slx-crackle-electric-guitar\",\"image_url\":\"https:\\\\/\\\\/media.musiciansfriend.com\\\\/is\\\\/image\\\\/MMGS7\\\\/Soloist-SLX-Crackle-Electric-Guitar-Green-Crackle\\\\/L46175000002000-00-220x220.jpg\",\"body_shape\":\"Double cutaway\",\"body_type\":\"Solid\",\"neck_joint\":\"Neck-thru\",\"neck_finish\":\"Satin\",\"fretboard_material\":\"Other\",\"number_of_frets\":\"24\",\"bridge_type\":\"Fixed\",\"tuners\":\"Non-locking\",\"active_or_passive\":\"Passive\",\"pickup_configuration\":\"HH\",\"piezo\":\"No\"},{\"manufacturer\":\"Jackson\",\"price\":749.99,\"country\":\"Indonesia\",\"product\":\"Pro Series Signature Phil Demmel Demmelition Fury PDT Electric Guitar\",\"page_url\":\"https:\\\\/\\\\/www.musiciansfriend.com\\\\/guitars\\\\/jackson-pro-series-signature-phil-demmel-demmelition-fury-pdt-electric-guitar\",\"image_url\":\"https:\\\\/\\\\/media.musiciansfriend.com\\\\/is\\\\/image\\\\/MMGS7\\\\/Pro-Series-Signature-Phil-Demmel-Demmelition-Fury-PDT-Electric-Guitar-Snow-White\\\\/L47812000001000-00-220x220.jpg\",\"body_shape\":\"Unknown\",\"body_type\":\"Solid\",\"neck_joint\":\"Neck-thru\",\"neck_finish\":\"Gloss\",\"fretboard_material\":\"Other\",\"number_of_frets\":\"24\",\"bridge_type\":\"Fixed\",\"tuners\":\"Non-locking\",\"active_or_passive\":\"Passive\",\"pickup_configuration\":\"HH\",\"piezo\":\"No\"},{\"manufacturer\":\"Jackson\",\"price\":649.99,\"country\":\"Indonesia\",\"product\":\"X Series Kelly KEXQ Electric Guitar\",\"page_url\":\"https:\\\\/\\\\/www.musiciansfriend.com\\\\/guitars\\\\/jackson-x-series-kelly-kexq-electric-guitar\",\"image_url\":\"https:\\\\/\\\\/media.musiciansfriend.com\\\\/is\\\\/image\\\\/MMGS7\\\\/X-Series-Kelly-KEXQ-Electric-Guitar-Cherry-Burst\\\\/L47822000001000-00-220x220.jpg\",\"body_shape\":\"Unknown\",\"body_type\":\"Solid\",\"neck_joint\":\"Neck-thru\",\"neck_finish\":\"Gloss\",\"fretboard_material\":\"Other\",\"number_of_frets\":\"24\",\"bridge_type\":\"Tremolo\",\"tuners\":\"Non-locking\",\"active_or_passive\":\"Passive\",\"pickup_configuration\":\"HH\",\"piezo\":\"No\"},{\"manufacturer\":\"Jackson\",\"price\":729.99,\"country\":\"Indonesia\",\"product\":\"X Series Rhoads RRX24 Electric Guitar\",\"page_url\":\"https:\\\\/\\\\/www.musiciansfriend.com\\\\/guitars\\\\/jackson-x-series-rhoads-rrx24-electric-guitar\",\"image_url\":\"https:\\\\/\\\\/media.musiciansfriend.com\\\\/is\\\\/image\\\\/MMGS7\\\\/X-Series-Rhoads-RRX24-Electric-Guitar-Red-with-Black-Bevels\\\\/L47716000001000-00-220x220.jpg\",\"body_shape\":\"Unknown\",\"body_type\":\"Solid\",\"neck_joint\":\"Neck-thru\",\"neck_finish\":\"Gloss\",\"fretboard_material\":\"Other\",\"number_of_frets\":\"24\",\"bridge_type\":\"Tremolo\",\"tuners\":\"Non-locking\",\"active_or_passive\":\"Passive\",\"pickup_configuration\":\"HH\",\"piezo\":\"No\"},{\"manufacturer\":\"Jackson\",\"price\":599.99,\"country\":\"Indonesia\",\"product\":\"X Series Soloist SLX Tamo Ash Electric Guitar\",\"page_url\":\"https:\\\\/\\\\/www.musiciansfriend.com\\\\/guitars\\\\/jackson-x-series-soloist-slx-tamo-ash-electric-guitar\",\"image_url\":\"https:\\\\/\\\\/media.musiciansfriend.com\\\\/is\\\\/image\\\\/MMGS7\\\\/X-Series-Soloist-SLX-Tamo-Ash-Electric-Guitar-Natural\\\\/L47823000001000-00-220x220.jpg\",\"body_shape\":\"Double cutaway\",\"body_type\":\"Solid\",\"neck_joint\":\"Neck-thru\",\"neck_finish\":\"Satin\",\"fretboard_material\":\"Other\",\"number_of_frets\":\"24\",\"bridge_type\":\"Tremolo\",\"tuners\":\"Non-locking\",\"active_or_passive\":\"Passive\",\"pickup_configuration\":\"HH\",\"piezo\":\"No\"},{\"manufacturer\":\"Jackson\",\"price\":999.99,\"country\":\"Indonesia\",\"product\":\"Pro Series Soloist SL3 Electric Guitar\",\"page_url\":\"https:\\\\/\\\\/www.musiciansfriend.com\\\\/guitars\\\\/jackson-pro-series-soloist-sl3-electric-guitar\",\"image_url\":\"https:\\\\/\\\\/media.musiciansfriend.com\\\\/is\\\\/image\\\\/MMGS7\\\\/Pro-Series-Soloist-SL3-Electric-Guitar-Satin-Orange-Blaze\\\\/L47810000001000-00-220x220.jpg\",\"body_shape\":\"Double cutaway\",\"body_type\":\"Solid\",\"neck_joint\":\"Neck-thru\",\"neck_finish\":\"Oiled\",\"fretboard_material\":\"Ebony\",\"number_of_frets\":\"24\",\"bridge_type\":\"Fixed\",\"tuners\":\"Non-locking\",\"active_or_passive\":\"Passive\",\"pickup_configuration\":\"HSS\",\"piezo\":\"No\"},{\"manufacturer\":\"Jackson\",\"price\":699.99,\"country\":\"Indonesia\",\"product\":\"X Series Soloist SL3X Zebrawood Electric Guitar\",\"page_url\":\"https:\\\\/\\\\/www.musiciansfriend.com\\\\/guitars\\\\/jackson-x-series-soloist-sl3x-zebrawood-electric-guitar\",\"image_url\":\"https:\\\\/\\\\/media.musiciansfriend.com\\\\/is\\\\/image\\\\/MMGS7\\\\/X-Series-Soloist-SL3X-Zebrawood-Electric-Guitar-Natural\\\\/L47824000001000-00-220x220.jpg\",\"body_shape\":\"Double cutaway\",\"body_type\":\"Solid\",\"neck_joint\":\"Neck-thru\",\"neck_finish\":\"Satin\",\"fretboard_material\":\"Other\",\"number_of_frets\":\"24\",\"bridge_type\":\"Tremolo\",\"tuners\":\"Non-locking\",\"active_or_passive\":\"Passive\",\"pickup_configuration\":\"HSS\",\"piezo\":\"No\"},{\"manufacturer\":\"Jackson\",\"price\":699.99,\"country\":\"Indonesia\",\"product\":\"X Series Soloist SL5X FSR Electric Guitar\",\"page_url\":\"https:\\\\/\\\\/www.musiciansfriend.com\\\\/guitars\\\\/jackson-x-series-soloist-sl5x-fsr-electric-guitar\",\"image_url\":\"https:\\\\/\\\\/media.musiciansfriend.com\\\\/is\\\\/image\\\\/MMGS7\\\\/X-Series-Soloist-SL5X-FSR-Electric-Guitar-Blue-Burst\\\\/L47827000001000-00-220x220.jpg\",\"body_shape\":\"Double cutaway\",\"body_type\":\"Solid\",\"neck_joint\":\"Neck-thru\",\"neck_finish\":\"Gloss\",\"fretboard_material\":\"Other\",\"number_of_frets\":\"24\",\"bridge_type\":\"Tremolo\",\"tuners\":\"Non-locking\",\"active_or_passive\":\"Passive\",\"pickup_configuration\":\"HSH\",\"piezo\":\"No\"},{\"manufacturer\":\"Jackson\",\"price\":269.99,\"country\":\"China\",\"product\":\"Rhoads JS32T FSR Electric Guitar\",\"page_url\":\"https:\\\\/\\\\/www.musiciansfriend.com\\\\/guitars\\\\/jackson-rhoads-js32t-fsr-electric-guitar\",\"image_url\":\"https:\\\\/\\\\/media.musiciansfriend.com\\\\/is\\\\/image\\\\/MMGS7\\\\/Rhoads-JS32T-FSR-Electric-Guitar-Natural-Oil\\\\/L47825000001000-00-220x220.jpg\",\"body_shape\":\"Unknown\",\"body_type\":\"Solid\",\"neck_joint\":\"Bolt-on\",\"neck_finish\":\"Satin\",\"fretboard_material\":\"Other\",\"number_of_frets\":\"24\",\"bridge_type\":\"Fixed\",\"tuners\":\"Non-locking\",\"active_or_passive\":\"Passive\",\"pickup_configuration\":\"HH\",\"piezo\":\"No\"},{\"manufacturer\":\"Jackson\",\"price\":599.99,\"country\":\"Indonesia\",\"product\":\"X Series Kelly KEX Electric Guitar\",\"page_url\":\"https:\\\\/\\\\/www.musiciansfriend.com\\\\/guitars\\\\/jackson-x-series-kelly-kex-electric-guitar\\\\/l47821\",\"image_url\":\"https:\\\\/\\\\/media.musiciansfriend.com\\\\/is\\\\/image\\\\/MMGS7\\\\/X-Series-Kelly-KEX-Electric-Guitar-Gloss-Black\\\\/L47821000001000-00-220x220.jpg\",\"body_shape\":\"Unknown\",\"body_type\":\"Solid\",\"neck_joint\":\"Neck-thru\",\"neck_finish\":\"Gloss\",\"fretboard_material\":\"Other\",\"number_of_frets\":\"24\",\"bridge_type\":\"Tremolo\",\"tuners\":\"Non-locking\",\"active_or_passive\":\"Passive\",\"pickup_configuration\":\"HH\",\"piezo\":\"No\"},{\"manufacturer\":\"Jackson\",\"price\":899.99,\"country\":\"Mexico\",\"product\":\"Pro Series Dinky DK2Q Electric Guitar\",\"page_url\":\"https:\\\\/\\\\/www.musiciansfriend.com\\\\/guitars\\\\/jackson-pro-series-dinky-dk2q-electric-guitar\",\"image_url\":\"https:\\\\/\\\\/media.musiciansfriend.com\\\\/is\\\\/image\\\\/MMGS7\\\\/Pro-Series-Dinky-DK2Q-Electric-Guitar-Transparent-Green-Burst\\\\/L47747000001000-00-220x220.jpg\",\"body_shape\":\"Double cutaway\",\"body_type\":\"Solid\",\"neck_joint\":\"Bolt-on\",\"neck_finish\":\"Satin\",\"fretboard_material\":\"Ebony\",\"number_of_frets\":\"24\",\"bridge_type\":\"Tremolo\",\"tuners\":\"Non-locking\",\"active_or_passive\":\"Passive\",\"pickup_configuration\":\"HH\",\"piezo\":\"No\"},{\"manufacturer\":\"Jackson\",\"price\":599.99,\"country\":\"Indonesia\",\"product\":\"X Series CDX22 Electric Guitar\",\"page_url\":\"https:\\\\/\\\\/www.musiciansfriend.com\\\\/guitars\\\\/jackson-x-series-cdx22-electric-guitar\",\"image_url\":\"https:\\\\/\\\\/media.musiciansfriend.com\\\\/is\\\\/image\\\\/MMGS7\\\\/X-Series-CDX22-Electric-Guitar-Gloss-Black\\\\/L47749000001000-00-220x220.jpg\",\"body_shape\":\"Unknown\",\"body_type\":\"Solid\",\"neck_joint\":\"Neck-thru\",\"neck_finish\":\"Gloss\",\"fretboard_material\":\"Other\",\"number_of_frets\":\"24\",\"bridge_type\":\"Tremolo\",\"tuners\":\"Non-locking\",\"active_or_passive\":\"Passive\",\"pickup_configuration\":\"HH\",\"piezo\":\"No\"},{\"manufacturer\":\"Jackson\",\"price\":849.99,\"country\":\"Mexico\",\"product\":\"Pro Series Dinky DK2 HT ASH Electric Guitar\",\"page_url\":\"https:\\\\/\\\\/www.musiciansfriend.com\\\\/guitars\\\\/jackson-pro-series-dinky-dk2-ht-ash-electric-guitar\",\"image_url\":\"https:\\\\/\\\\/media.musiciansfriend.com\\\\/is\\\\/image\\\\/MMGS7\\\\/Pro-Series-Dinky-DK2-HT-ASH-Electric-Guitar-Charcoal-Gray\\\\/L47744000001000-00-220x220.jpg\",\"body_shape\":\"Double cutaway\",\"body_type\":\"Solid\",\"neck_joint\":\"Bolt-on\",\"neck_finish\":\"Satin\",\"fretboard_material\":\"Ebony\",\"number_of_frets\":\"24\",\"bridge_type\":\"Fixed\",\"tuners\":\"Locking\",\"active_or_passive\":\"Passive\",\"pickup_configuration\":\"HH\",\"piezo\":\"No\"},{\"manufacturer\":\"Jackson\",\"price\":1099.99,\"country\":\"Indonesia\",\"product\":\"Pro Series Soloist SL3Q MAH Electric Guitar\",\"page_url\":\"https:\\\\/\\\\/www.musiciansfriend.com\\\\/guitars\\\\/jackson-pro-series-soloist-sl3q-mah-electric-guitar\",\"image_url\":\"https:\\\\/\\\\/media.musiciansfriend.com\\\\/is\\\\/image\\\\/MMGS7\\\\/Pro-Series-Soloist-SL3Q-MAH-Electric-Guitar-Dark-Amber\\\\/L47713000002000-00-220x220.jpg\",\"body_shape\":\"Double cutaway\",\"body_type\":\"Solid\",\"neck_joint\":\"Neck-thru\",\"neck_finish\":\"Oiled\",\"fretboard_material\":\"Ebony\",\"number_of_frets\":\"24\",\"bridge_type\":\"Fixed\",\"tuners\":\"Non-locking\",\"active_or_passive\":\"Passive\",\"pickup_configuration\":\"HSS\",\"piezo\":\"No\"},{\"manufacturer\":\"Jackson\",\"price\":599.99,\"country\":\"Indonesia\",\"product\":\"X Series Soloist SL4X Electric Guitar\",\"page_url\":\"https:\\\\/\\\\/www.musiciansfriend.com\\\\/guitars\\\\/jackson-x-series-soloist-sl4x-electric-guitar\\\\/l47714\",\"image_url\":\"https:\\\\/\\\\/media.musiciansfriend.com\\\\/is\\\\/image\\\\/MMGS7\\\\/X-Series-Soloist-SL4X-Electric-Guitar-Snow-White\\\\/L47714000001000-00-220x220.jpg\",\"body_shape\":\"Double cutaway\",\"body_type\":\"Solid\",\"neck_joint\":\"Neck-thru\",\"neck_finish\":\"Gloss\",\"fretboard_material\":\"Other\",\"number_of_frets\":\"24\",\"bridge_type\":\"Tremolo\",\"tuners\":\"Non-locking\",\"active_or_passive\":\"Passive\",\"pickup_configuration\":\"SSS\",\"piezo\":\"No\"},{\"manufacturer\":\"Jackson\",\"price\":699.99,\"country\":\"Indonesia\",\"product\":\"X Series Signature Scott Ian King V KVXT Electric Guitar\",\"page_url\":\"https:\\\\/\\\\/www.musiciansfriend.com\\\\/guitars\\\\/jackson-x-series-signature-scott-ian-king-v-kvxt-electric-guitar\",\"image_url\":\"https:\\\\/\\\\/media.musiciansfriend.com\\\\/is\\\\/image\\\\/MMGS7\\\\/X-Series-Signature-Scott-Ian-King-V-KVXT-Electric-Guitar-Candy-Apple-Red\\\\/L47712000001000-00-220x220.jpg\",\"body_shape\":\"Unknown\",\"body_type\":\"Solid\",\"neck_joint\":\"Neck-thru\",\"neck_finish\":\"Gloss\",\"fretboard_material\":\"Other\",\"number_of_frets\":\"22\",\"bridge_type\":\"Fixed\",\"tuners\":\"Non-locking\",\"active_or_passive\":\"Passive\",\"pickup_configuration\":\"HH\",\"piezo\":\"No\"},{\"manufacturer\":\"Jackson\",\"price\":199.99,\"country\":\"China\",\"product\":\"Dinky Arch Top JS22 DKAM Electric Guitar\",\"page_url\":\"https:\\\\/\\\\/www.musiciansfriend.com\\\\/guitars\\\\/jackson-dinky-arch-top-js22-dkam-electric-guitar\",\"image_url\":\"https:\\\\/\\\\/media.musiciansfriend.com\\\\/is\\\\/image\\\\/MMGS7\\\\/Dinky-Arch-Top-JS22-DKAM-Electric-Guitar-Red-Stain\\\\/L46176000002000-00-220x220.jpg\",\"body_shape\":\"Double cutaway\",\"body_type\":\"Solid\",\"neck_joint\":\"Bolt-on\",\"neck_finish\":\"Satin\",\"fretboard_material\":\"Maple\",\"number_of_frets\":\"24\",\"bridge_type\":\"Tremolo\",\"tuners\":\"Non-locking\",\"active_or_passive\":\"Passive\",\"pickup_configuration\":\"HH\",\"piezo\":\"No\"},{\"manufacturer\":\"Jackson\",\"price\":999.99,\"country\":\"Indonesia\",\"product\":\"Pro Series Soloist SL2A Electric Guitar\",\"page_url\":\"https:\\\\/\\\\/www.musiciansfriend.com\\\\/guitars\\\\/jackson-pro-series-soloist-sl2a-electric-guitar\",\"image_url\":\"https:\\\\/\\\\/media.musiciansfriend.com\\\\/is\\\\/image\\\\/MMGS7\\\\/Pro-Series-Soloist-SL2A-Electric-Guitar-Charcoal-Gray\\\\/L46047000001000-00-220x220.jpg\",\"body_shape\":\"Double cutaway\",\"body_type\":\"Solid\",\"neck_joint\":\"Neck-thru\",\"neck_finish\":\"Oiled\",\"fretboard_material\":\"Ebony\",\"number_of_frets\":\"24\",\"bridge_type\":\"Tremolo\",\"tuners\":\"Non-locking\",\"active_or_passive\":\"Passive\",\"pickup_configuration\":\"HH\",\"piezo\":\"No\"},{\"manufacturer\":\"Jackson\",\"price\":899.99,\"country\":\"Indonesia\",\"product\":\"Pro Series Soloist SL2Q HT MAH Electric Guitar\",\"page_url\":\"https:\\\\/\\\\/www.musiciansfriend.com\\\\/guitars\\\\/jackson-pro-series-soloist-sl2q-ht-mah-electric-guitar\",\"image_url\":\"https:\\\\/\\\\/media.musiciansfriend.com\\\\/is\\\\/image\\\\/MMGS7\\\\/Pro-Series-Soloist-SL2Q-HT-MAH-Electric-Guitar-Desert-Sunset-Sky\\\\/L45589000001000-00-220x220.jpg\",\"body_shape\":\"Double cutaway\",\"body_type\":\"Solid\",\"neck_joint\":\"Neck-thru\",\"neck_finish\":\"Oiled\",\"fretboard_material\":\"Ebony\",\"number_of_frets\":\"24\",\"bridge_type\":\"Fixed\",\"tuners\":\"Non-locking\",\"active_or_passive\":\"Passive\",\"pickup_configuration\":\"HH\",\"piezo\":\"No\"},{\"manufacturer\":\"Jackson\",\"price\":899.99,\"country\":\"United States\",\"product\":\"Pro Series Signature Mick Thomson Soloist SL2 Electric Guitar\",\"page_url\":\"https:\\\\/\\\\/www.musiciansfriend.com\\\\/guitars\\\\/jackson-pro-series-signature-mick-thomson-soloist-sl2-electric-guitar\",\"image_url\":\"https:\\\\/\\\\/media.musiciansfriend.com\\\\/is\\\\/image\\\\/MMGS7\\\\/Pro-Series-Signature-Mick-Thomson-Soloist-SL2-Electric-Guitar-Arctic-White\\\\/K64621000002000-00-220x220.jpg\",\"body_shape\":\"Double cutaway\",\"body_type\":\"Solid\",\"neck_joint\":\"Neck-thru\",\"neck_finish\":\"Gloss\",\"fretboard_material\":\"Ebony\",\"number_of_frets\":\"24\",\"bridge_type\":\"Fixed\",\"tuners\":\"Non-locking\",\"active_or_passive\":\"Passive\",\"pickup_configuration\":\"HH\",\"piezo\":\"Yes\"},{\"manufacturer\":\"Jackson\",\"price\":899.99,\"country\":\"Indonesia\",\"product\":\"Pro Series Soloist SL2M Electric Guitar\",\"page_url\":\"https:\\\\/\\\\/www.musiciansfriend.com\\\\/guitars\\\\/jackson-pro-series-soloist-sl2m-electric-guitar\",\"image_url\":\"https:\\\\/\\\\/media.musiciansfriend.com\\\\/is\\\\/image\\\\/MMGS7\\\\/Pro-Series-Soloist-SL2M-Electric-Guitar-Metallic-Red\\\\/L46046000001000-00-220x220.jpg\",\"body_shape\":\"Double cutaway\",\"body_type\":\"Solid\",\"neck_joint\":\"Neck-thru\",\"neck_finish\":\"Oiled\",\"fretboard_material\":\"Maple\",\"number_of_frets\":\"24\",\"bridge_type\":\"Tremolo\",\"tuners\":\"Non-locking\",\"active_or_passive\":\"Passive\",\"pickup_configuration\":\"HH\",\"piezo\":\"No\"},{\"manufacturer\":\"PRS\",\"price\":2299.0,\"country\":\"United States\",\"product\":\"John Mayer Silver Sky Electric Guitar\",\"page_url\":\"https:\\\\/\\\\/www.musiciansfriend.com\\\\/guitars\\\\/prs-john-mayer-silver-sky-electric-guitar\",\"image_url\":\"https:\\\\/\\\\/media.musiciansfriend.com\\\\/is\\\\/image\\\\/MMGS7\\\\/John-Mayer-Silver-Sky-Electric-Guitar-Onyx\\\\/L18249000001000-00-220x220.jpg\",\"body_shape\":\"Double cutaway\",\"body_type\":\"Solid\",\"neck_joint\":\"Bolt-on\",\"neck_finish\":\"Gloss\",\"fretboard_material\":\"Rosewood\",\"number_of_frets\":\"22\",\"bridge_type\":\"Tremolo\",\"tuners\":\"Locking\",\"active_or_passive\":\"Passive\",\"pickup_configuration\":\"SSS\",\"piezo\":\"No\"},{\"manufacturer\":\"PRS\",\"price\":849.0,\"country\":\"South Korea\",\"product\":\"SE Santana Singlecut Trem Electric Guitar\",\"page_url\":\"https:\\\\/\\\\/www.musiciansfriend.com\\\\/guitars\\\\/prs-se-santana-singlecut-trem-electric-guitar\",\"image_url\":\"https:\\\\/\\\\/media.musiciansfriend.com\\\\/is\\\\/image\\\\/MMGS7\\\\/SE-Santana-Singlecut-Trem-Electric-Guitar-Egyptian-Gold\\\\/L48419000001000-00-220x220.jpg\",\"body_shape\":\"Single cutaway\",\"body_type\":\"Solid\",\"neck_joint\":\"Set-in\",\"neck_finish\":\"Gloss\",\"fretboard_material\":\"Rosewood\",\"number_of_frets\":\"24\",\"bridge_type\":\"Tremolo\",\"tuners\":\"Non-locking\",\"active_or_passive\":\"Passive\",\"pickup_configuration\":\"HH\",\"piezo\":\"No\"},{\"manufacturer\":\"PRS\",\"price\":499.0,\"country\":\"Indonesia\",\"product\":\"SE Standard 24 Electric Guitar\",\"page_url\":\"https:\\\\/\\\\/www.musiciansfriend.com\\\\/guitars\\\\/prs-se-standard-24-electric-guitar\",\"image_url\":\"https:\\\\/\\\\/media.musiciansfriend.com\\\\/is\\\\/image\\\\/MMGS7\\\\/SE-Standard-24-Electric-Guitar-Translucent-Blue\\\\/K54052000003000-00-220x220.jpg\",\"body_shape\":\"Double cutaway\",\"body_type\":\"Solid\",\"neck_joint\":\"Set-in\",\"neck_finish\":\"Gloss\",\"fretboard_material\":\"Rosewood\",\"number_of_frets\":\"24\",\"bridge_type\":\"Tremolo\",\"tuners\":\"Non-locking\",\"active_or_passive\":\"Passive\",\"pickup_configuration\":\"HH\",\"piezo\":\"No\"},{\"manufacturer\":\"PRS\",\"price\":829.0,\"country\":\"Indonesia\",\"product\":\"SE Custom 24 Zebrawood Electric Guitar\",\"page_url\":\"https:\\\\/\\\\/www.musiciansfriend.com\\\\/guitars\\\\/prs-se-custom-24-zebrawood-electric-guitar\",\"image_url\":\"https:\\\\/\\\\/media.musiciansfriend.com\\\\/is\\\\/image\\\\/MMGS7\\\\/SE-Custom-24-Zebrawood-Electric-Guitar-Vintage-Sunburst\\\\/K54049000001000-00-220x220.jpg\",\"body_shape\":\"Double cutaway\",\"body_type\":\"Solid\",\"neck_joint\":\"Set-in\",\"neck_finish\":\"Gloss\",\"fretboard_material\":\"Rosewood\",\"number_of_frets\":\"24\",\"bridge_type\":\"Tremolo\",\"tuners\":\"Non-locking\",\"active_or_passive\":\"Passive\",\"pickup_configuration\":\"HH\",\"piezo\":\"No\"},{\"manufacturer\":\"PRS\",\"price\":589.0,\"country\":\"Indonesia\",\"product\":\"SE 245 Standard Electric Guitar\",\"page_url\":\"https:\\\\/\\\\/www.musiciansfriend.com\\\\/guitars\\\\/prs-se-245-standard-electric-guitar\",\"image_url\":\"https:\\\\/\\\\/media.musiciansfriend.com\\\\/is\\\\/image\\\\/MMGS7\\\\/SE-245-Standard-Electric-Guitar-Tobacco-Sunburst\\\\/K54053000001000-00-220x220.jpg\",\"body_shape\":\"Single cutaway\",\"body_type\":\"Solid\",\"neck_joint\":\"Set-in\",\"neck_finish\":\"Gloss\",\"fretboard_material\":\"Rosewood\",\"number_of_frets\":\"22\",\"bridge_type\":\"Fixed\",\"tuners\":\"Non-locking\",\"active_or_passive\":\"Passive\",\"pickup_configuration\":\"HH\",\"piezo\":\"No\"},{\"manufacturer\":\"PRS\",\"price\":1899.0,\"country\":\"United States\",\"product\":\"CE 24 Limited Edition Electric Guitar\",\"page_url\":\"https:\\\\/\\\\/www.musiciansfriend.com\\\\/guitars\\\\/prs-ce-24-limited-edition-electric-guitar\",\"image_url\":\"https:\\\\/\\\\/media.musiciansfriend.com\\\\/is\\\\/image\\\\/MMGS7\\\\/CE-24-Limited-Edition-Electric-Guitar-Angry-Larry\\\\/K45488000001000-00-220x220.jpg\",\"body_shape\":\"Double cutaway\",\"body_type\":\"Solid\",\"neck_joint\":\"Set-in\",\"neck_finish\":\"Satin\",\"fretboard_material\":\"Rosewood\",\"number_of_frets\":\"24\",\"bridge_type\":\"Tremolo\",\"tuners\":\"Locking\",\"active_or_passive\":\"Passive\",\"pickup_configuration\":\"HH\",\"piezo\":\"No\"},{\"manufacturer\":\"PRS\",\"price\":829.0,\"country\":\"Indonesia\",\"product\":\"SE Custom 24 Lefty Electric Guitar\",\"page_url\":\"https:\\\\/\\\\/www.musiciansfriend.com\\\\/guitars\\\\/prs-se-custom-24-lefty-electric-guitar\",\"image_url\":\"https:\\\\/\\\\/media.musiciansfriend.com\\\\/is\\\\/image\\\\/MMGS7\\\\/SE-Custom-24-Lefty-Electric-Guitar-Fire-Red-Burst\\\\/K48559000001000-00-220x220.jpg\",\"body_shape\":\"Double cutaway\",\"body_type\":\"Solid\",\"neck_joint\":\"Set-in\",\"neck_finish\":\"Gloss\",\"fretboard_material\":\"Rosewood\",\"number_of_frets\":\"24\",\"bridge_type\":\"Tremolo\",\"tuners\":\"Non-locking\",\"active_or_passive\":\"Passive\",\"pickup_configuration\":\"HH\",\"piezo\":\"No\"},{\"manufacturer\":\"Reverend\",\"price\":999.0,\"country\":\"South Korea\",\"product\":\"Jetstream 390 Maple Fingerboard Electric Guitar\",\"page_url\":\"https:\\\\/\\\\/www.musiciansfriend.com\\\\/guitars\\\\/reverend-jetstream-390-maple-fingerboard-electric-guitar\",\"image_url\":\"https:\\\\/\\\\/media.musiciansfriend.com\\\\/is\\\\/image\\\\/MMGS7\\\\/Jetstream-390-Maple-Fingerboard-Electric-Guitar-Midnight-Black\\\\/L19835000002000-00-220x220.jpg\",\"body_shape\":\"Double cutaway\",\"body_type\":\"Solid\",\"neck_joint\":\"Bolt-on\",\"neck_finish\":\"Gloss\",\"fretboard_material\":\"Maple\",\"number_of_frets\":\"22\",\"bridge_type\":\"Tremolo\",\"tuners\":\"Non-locking\",\"active_or_passive\":\"Passive\",\"pickup_configuration\":\"SSS\",\"piezo\":\"No\"},{\"manufacturer\":\"Reverend\",\"price\":999.0,\"country\":\"South Korea\",\"product\":\"Warhawk 390 Electric Guitar\",\"page_url\":\"https:\\\\/\\\\/www.musiciansfriend.com\\\\/guitars\\\\/reverend-warhawk-390-electric-guitar\",\"image_url\":\"https:\\\\/\\\\/media.musiciansfriend.com\\\\/is\\\\/image\\\\/MMGS7\\\\/Warhawk-390-Electric-Guitar-Gun-Metal\\\\/L19798000001000-00-220x220.jpg\",\"body_shape\":\"Double cutaway\",\"body_type\":\"Solid\",\"neck_joint\":\"Set-in\",\"neck_finish\":\"Unknown\",\"fretboard_material\":\"Other\",\"number_of_frets\":\"22\",\"bridge_type\":\"Tremolo\",\"tuners\":\"Non-locking\",\"active_or_passive\":\"Passive\",\"pickup_configuration\":\"SSS\",\"piezo\":\"No\"},{\"manufacturer\":\"Reverend\",\"price\":999.0,\"country\":\"South Korea\",\"product\":\"Sensei RA FM Electric Guitar\",\"page_url\":\"https:\\\\/\\\\/www.musiciansfriend.com\\\\/guitars\\\\/reverend-sensei-ra-fm-electric-guitar\",\"image_url\":\"https:\\\\/\\\\/media.musiciansfriend.com\\\\/is\\\\/image\\\\/MMGS7\\\\/Sensei-RA-FM-Electric-Guitar-Wine-Red\\\\/L19801000002000-00-220x220.jpg\",\"body_shape\":\"Double cutaway\",\"body_type\":\"Solid\",\"neck_joint\":\"Set-in\",\"neck_finish\":\"Gloss\",\"fretboard_material\":\"Ebony\",\"number_of_frets\":\"22\",\"bridge_type\":\"Fixed\",\"tuners\":\"Non-locking\",\"active_or_passive\":\"Passive\",\"pickup_configuration\":\"HH\",\"piezo\":\"No\"},{\"manufacturer\":\"Reverend\",\"price\":899.0,\"country\":\"South Korea\",\"product\":\"Charger 290 Maple Fingerboard Electric Guitar\",\"page_url\":\"https:\\\\/\\\\/www.musiciansfriend.com\\\\/guitars\\\\/reverend-charger-290-maple-fingerboard-electric-guitar\",\"image_url\":\"https:\\\\/\\\\/media.musiciansfriend.com\\\\/is\\\\/image\\\\/MMGS7\\\\/Charger-290-Maple-Fingerboard-Electric-Guitar-Oceanside-Green\\\\/L19809000001000-00-220x220.jpg\",\"body_shape\":\"Single cutaway\",\"body_type\":\"Solid\",\"neck_joint\":\"Bolt-on\",\"neck_finish\":\"Gloss\",\"fretboard_material\":\"Maple\",\"number_of_frets\":\"22\",\"bridge_type\":\"Fixed\",\"tuners\":\"Non-locking\",\"active_or_passive\":\"Passive\",\"pickup_configuration\":\"SS\",\"piezo\":\"No\"},{\"manufacturer\":\"Reverend\",\"price\":899.0,\"country\":\"South Korea\",\"product\":\"Double Agent OG Maple Fingerboard Electric Guitar\",\"page_url\":\"https:\\\\/\\\\/www.musiciansfriend.com\\\\/guitars\\\\/reverend-double-agent-og-maple-fingerboard-electric-guitar\",\"image_url\":\"https:\\\\/\\\\/media.musiciansfriend.com\\\\/is\\\\/image\\\\/MMGS7\\\\/Double-Agent-OG-Maple-Fingerboard-Electric-Guitar-Midnight-Black\\\\/L19819000001000-00-220x220.jpg\",\"body_shape\":\"Single cutaway\",\"body_type\":\"Solid\",\"neck_joint\":\"Bolt-on\",\"neck_finish\":\"Gloss\",\"fretboard_material\":\"Maple\",\"number_of_frets\":\"22\",\"bridge_type\":\"Fixed\",\"tuners\":\"Non-locking\",\"active_or_passive\":\"Passive\",\"pickup_configuration\":\"HS\",\"piezo\":\"No\"},{\"manufacturer\":\"Reverend\",\"price\":1199.0,\"country\":\"South Korea\",\"product\":\"Airsonic HC Maple Fingerboard Electric Guitar\",\"page_url\":\"https:\\\\/\\\\/www.musiciansfriend.com\\\\/guitars\\\\/reverend-airsonic-hc-maple-fingerboard-electric-guitar\",\"image_url\":\"https:\\\\/\\\\/media.musiciansfriend.com\\\\/is\\\\/image\\\\/MMGS7\\\\/Airsonic-HC-Maple-Fingerboard-Electric-Guitar-Metallic-Alpine\\\\/L19813000001000-00-220x220.jpg\",\"body_shape\":\"Double cutaway\",\"body_type\":\"Solid\",\"neck_joint\":\"Bolt-on\",\"neck_finish\":\"Gloss\",\"fretboard_material\":\"Maple\",\"number_of_frets\":\"22\",\"bridge_type\":\"Tremolo\",\"tuners\":\"Non-locking\",\"active_or_passive\":\"Passive\",\"pickup_configuration\":\"HH\",\"piezo\":\"No\"},{\"manufacturer\":\"Reverend\",\"price\":999.0,\"country\":\"South Korea\",\"product\":\"Warhawk RT Electric Guitar\",\"page_url\":\"https:\\\\/\\\\/www.musiciansfriend.com\\\\/guitars\\\\/reverend-warhawk-rt-electric-guitar\",\"image_url\":\"https:\\\\/\\\\/media.musiciansfriend.com\\\\/is\\\\/image\\\\/MMGS7\\\\/Warhawk-RT-Electric-Guitar-Superior-Blue\\\\/L19797000001000-00-220x220.jpg\",\"body_shape\":\"Double cutaway\",\"body_type\":\"Solid\",\"neck_joint\":\"Set-in\",\"neck_finish\":\"Unknown\",\"fretboard_material\":\"Other\",\"number_of_frets\":\"22\",\"bridge_type\":\"Tremolo\",\"tuners\":\"Non-locking\",\"active_or_passive\":\"Passive\",\"pickup_configuration\":\"HH\",\"piezo\":\"No\"},{\"manufacturer\":\"Reverend\",\"price\":1199.0,\"country\":\"South Korea\",\"product\":\"Kingbolt RA Electric Guitar\",\"page_url\":\"https:\\\\/\\\\/www.musiciansfriend.com\\\\/guitars\\\\/reverend-kingbolt-ra-electric-guitar\",\"image_url\":\"https:\\\\/\\\\/media.musiciansfriend.com\\\\/is\\\\/image\\\\/MMGS7\\\\/Kingbolt-RA-Electric-Guitar-Turquoise\\\\/L19830000001000-00-220x220.jpg\",\"body_shape\":\"Double cutaway\",\"body_type\":\"Solid\",\"neck_joint\":\"Bolt-on\",\"neck_finish\":\"Satin\",\"fretboard_material\":\"Other\",\"number_of_frets\":\"22\",\"bridge_type\":\"Tremolo\",\"tuners\":\"Non-locking\",\"active_or_passive\":\"Passive\",\"pickup_configuration\":\"HH\",\"piezo\":\"No\"},{\"manufacturer\":\"Reverend\",\"price\":999.0,\"country\":\"South Korea\",\"product\":\"Jetstream 390 Electric Guitar\",\"page_url\":\"https:\\\\/\\\\/www.musiciansfriend.com\\\\/guitars\\\\/reverend-jetstream-390-electric-guitar\",\"image_url\":\"https:\\\\/\\\\/media.musiciansfriend.com\\\\/is\\\\/image\\\\/MMGS7\\\\/Jetstream-390-Electric-Guitar-Rock-Orange\\\\/L19834000002000-00-220x220.jpg\",\"body_shape\":\"Double cutaway\",\"body_type\":\"Solid\",\"neck_joint\":\"Bolt-on\",\"neck_finish\":\"Gloss\",\"fretboard_material\":\"Other\",\"number_of_frets\":\"22\",\"bridge_type\":\"Tremolo\",\"tuners\":\"Non-locking\",\"active_or_passive\":\"Passive\",\"pickup_configuration\":\"SSS\",\"piezo\":\"No\"},{\"manufacturer\":\"Reverend\",\"price\":899.0,\"country\":\"South Korea\",\"product\":\"Double Agent OG Electric Guitar\",\"page_url\":\"https:\\\\/\\\\/www.musiciansfriend.com\\\\/guitars\\\\/reverend-double-agent-og-electric-guitar\",\"image_url\":\"https:\\\\/\\\\/media.musiciansfriend.com\\\\/is\\\\/image\\\\/MMGS7\\\\/Double-Agent-OG-Electric-Guitar-Korina-Burst\\\\/L19833000001000-00-220x220.jpg\",\"body_shape\":\"Single cutaway\",\"body_type\":\"Solid\",\"neck_joint\":\"Bolt-on\",\"neck_finish\":\"Gloss\",\"fretboard_material\":\"Other\",\"number_of_frets\":\"22\",\"bridge_type\":\"Fixed\",\"tuners\":\"Non-locking\",\"active_or_passive\":\"Passive\",\"pickup_configuration\":\"HS\",\"piezo\":\"No\"},{\"manufacturer\":\"Reverend\",\"price\":999.0,\"country\":\"South Korea\",\"product\":\"Double Agent W FM Electric Guitar\",\"page_url\":\"https:\\\\/\\\\/www.musiciansfriend.com\\\\/guitars\\\\/reverend-double-agent-w-fm-electric-guitar\",\"image_url\":\"https:\\\\/\\\\/media.musiciansfriend.com\\\\/is\\\\/image\\\\/MMGS7\\\\/Double-Agent-W-FM-Electric-Guitar-Natural\\\\/L19829000001000-00-220x220.jpg\",\"body_shape\":\"Double cutaway\",\"body_type\":\"Solid\",\"neck_joint\":\"Bolt-on\",\"neck_finish\":\"Gloss\",\"fretboard_material\":\"Other\",\"number_of_frets\":\"22\",\"bridge_type\":\"Tremolo\",\"tuners\":\"Non-locking\",\"active_or_passive\":\"Passive\",\"pickup_configuration\":\"HS\",\"piezo\":\"No\"},{\"manufacturer\":\"Reverend\",\"price\":899.0,\"country\":\"South Korea\",\"product\":\"Flatroc Maple Fingerboard Electric Guitar\",\"page_url\":\"https:\\\\/\\\\/www.musiciansfriend.com\\\\/guitars\\\\/reverend-flatroc-maple-fingerboard-electric-guitar\",\"image_url\":\"https:\\\\/\\\\/media.musiciansfriend.com\\\\/is\\\\/image\\\\/MMGS7\\\\/Flatroc-Maple-Fingerboard-Electric-Guitar-Emerald-Green\\\\/L19810000002000-00-220x220.jpg\",\"body_shape\":\"Single cutaway\",\"body_type\":\"Solid\",\"neck_joint\":\"Bolt-on\",\"neck_finish\":\"Satin\",\"fretboard_material\":\"Maple\",\"number_of_frets\":\"22\",\"bridge_type\":\"Fixed\",\"tuners\":\"Non-locking\",\"active_or_passive\":\"Passive\",\"pickup_configuration\":\"HH\",\"piezo\":\"No\"},{\"manufacturer\":\"Reverend\",\"price\":1199.0,\"country\":\"South Korea\",\"product\":\"Airsonic HB Maple Fingerboard Electric Guitar\",\"page_url\":\"https:\\\\/\\\\/www.musiciansfriend.com\\\\/guitars\\\\/reverend-airsonic-hb-maple-fingerboard-electric-guitar\",\"image_url\":\"https:\\\\/\\\\/media.musiciansfriend.com\\\\/is\\\\/image\\\\/MMGS7\\\\/Airsonic-HB-Maple-Fingerboard-Electric-Guitar-Coffee-Burst\\\\/L19811000001000-00-220x220.jpg\",\"body_shape\":\"Double cutaway\",\"body_type\":\"Solid\",\"neck_joint\":\"Bolt-on\",\"neck_finish\":\"Gloss\",\"fretboard_material\":\"Maple\",\"number_of_frets\":\"22\",\"bridge_type\":\"Fixed\",\"tuners\":\"Non-locking\",\"active_or_passive\":\"Passive\",\"pickup_configuration\":\"HH\",\"piezo\":\"No\"},{\"manufacturer\":\"Reverend\",\"price\":899.0,\"country\":\"South Korea\",\"product\":\"Charger HB Maple Fingerboard Electric Guitar\",\"page_url\":\"https:\\\\/\\\\/www.musiciansfriend.com\\\\/guitars\\\\/reverend-charger-hb-maple-fingerboard-electric-guitar\",\"image_url\":\"https:\\\\/\\\\/media.musiciansfriend.com\\\\/is\\\\/image\\\\/MMGS7\\\\/Charger-HB-Maple-Fingerboard-Electric-Guitar-Gun-Metal\\\\/L19790000002000-00-220x220.jpg\",\"body_shape\":\"Single cutaway\",\"body_type\":\"Solid\",\"neck_joint\":\"Bolt-on\",\"neck_finish\":\"Gloss\",\"fretboard_material\":\"Maple\",\"number_of_frets\":\"22\",\"bridge_type\":\"Fixed\",\"tuners\":\"Non-locking\",\"active_or_passive\":\"Passive\",\"pickup_configuration\":\"HH\",\"piezo\":\"No\"},{\"manufacturer\":\"Reverend\",\"price\":1199.0,\"country\":\"South Korea\",\"product\":\"Airsonic HC Electric Guitar\",\"page_url\":\"https:\\\\/\\\\/www.musiciansfriend.com\\\\/guitars\\\\/reverend-airsonic-hc-electric-guitar\",\"image_url\":\"https:\\\\/\\\\/media.musiciansfriend.com\\\\/is\\\\/image\\\\/MMGS7\\\\/Airsonic-HC-Electric-Guitar-Metallic-Red-Burst\\\\/L19789000001000-00-220x220.jpg\",\"body_shape\":\"Double cutaway\",\"body_type\":\"Solid\",\"neck_joint\":\"Bolt-on\",\"neck_finish\":\"Gloss\",\"fretboard_material\":\"Other\",\"number_of_frets\":\"22\",\"bridge_type\":\"Tremolo\",\"tuners\":\"Non-locking\",\"active_or_passive\":\"Passive\",\"pickup_configuration\":\"HH\",\"piezo\":\"No\"},{\"manufacturer\":\"Reverend\",\"price\":999.0,\"country\":\"South Korea\",\"product\":\"Double Agent W Electric Guitar\",\"page_url\":\"https:\\\\/\\\\/www.musiciansfriend.com\\\\/guitars\\\\/reverend-double-agent-w-electric-guitar\",\"image_url\":\"https:\\\\/\\\\/media.musiciansfriend.com\\\\/is\\\\/image\\\\/MMGS7\\\\/Double-Agent-W-Electric-Guitar-Chronic-Blue\\\\/L19820000001000-00-220x220.jpg\",\"body_shape\":\"Double cutaway\",\"body_type\":\"Solid\",\"neck_joint\":\"Bolt-on\",\"neck_finish\":\"Gloss\",\"fretboard_material\":\"Other\",\"number_of_frets\":\"22\",\"bridge_type\":\"Tremolo\",\"tuners\":\"Non-locking\",\"active_or_passive\":\"Passive\",\"pickup_configuration\":\"HS\",\"piezo\":\"No\"},{\"manufacturer\":\"Reverend\",\"price\":899.0,\"country\":\"South Korea\",\"product\":\"Charger HB Electric Guitar\",\"page_url\":\"https:\\\\/\\\\/www.musiciansfriend.com\\\\/guitars\\\\/reverend-charger-hb-electric-guitar\",\"image_url\":\"https:\\\\/\\\\/media.musiciansfriend.com\\\\/is\\\\/image\\\\/MMGS7\\\\/Charger-HB-Electric-Guitar-Violin-Brown\\\\/L19786000001000-00-220x220.jpg\",\"body_shape\":\"Single cutaway\",\"body_type\":\"Solid\",\"neck_joint\":\"Bolt-on\",\"neck_finish\":\"Gloss\",\"fretboard_material\":\"Other\",\"number_of_frets\":\"22\",\"bridge_type\":\"Fixed\",\"tuners\":\"Non-locking\",\"active_or_passive\":\"Passive\",\"pickup_configuration\":\"HH\",\"piezo\":\"No\"},{\"manufacturer\":\"Reverend\",\"price\":1099.0,\"country\":\"South Korea\",\"product\":\"Descent RA Baritone Electric Guitar\",\"page_url\":\"https:\\\\/\\\\/www.musiciansfriend.com\\\\/guitars\\\\/reverend-descent-ra-baritone-electric-guitar\",\"image_url\":\"https:\\\\/\\\\/media.musiciansfriend.com\\\\/is\\\\/image\\\\/MMGS7\\\\/Descent-RA-Baritone-Electric-Guitar-Korina-Burst\\\\/L19842000001000-00-220x220.jpg\",\"body_shape\":\"Double cutaway\",\"body_type\":\"Solid\",\"neck_joint\":\"Bolt-on\",\"neck_finish\":\"Gloss\",\"fretboard_material\":\"Other\",\"number_of_frets\":\"22\",\"bridge_type\":\"Fixed\",\"tuners\":\"Non-locking\",\"active_or_passive\":\"Passive\",\"pickup_configuration\":\"SSS\",\"piezo\":\"No\"},{\"manufacturer\":\"Reverend\",\"price\":1099.0,\"country\":\"South Korea\",\"product\":\"Descent RA Maple Fingerboard Baritone Electric Guitar\",\"page_url\":\"https:\\\\/\\\\/www.musiciansfriend.com\\\\/guitars\\\\/reverend-descent-ra-maple-fingerboard-baritone-electric-guitar\",\"image_url\":\"https:\\\\/\\\\/media.musiciansfriend.com\\\\/is\\\\/image\\\\/MMGS7\\\\/Descent-RA-Maple-Fingerboard-Baritone-Electric-Guitar-Midnight-Black\\\\/L19843000001000-00-220x220.jpg\",\"body_shape\":\"Double cutaway\",\"body_type\":\"Solid\",\"neck_joint\":\"Bolt-on\",\"neck_finish\":\"Gloss\",\"fretboard_material\":\"Maple\",\"number_of_frets\":\"22\",\"bridge_type\":\"Fixed\",\"tuners\":\"Non-locking\",\"active_or_passive\":\"Passive\",\"pickup_configuration\":\"HH\",\"piezo\":\"No\"},{\"manufacturer\":\"Reverend\",\"price\":1099.0,\"country\":\"South Korea\",\"product\":\"Descent HC90 Maple Fingerboard Baritone Electric Guitar\",\"page_url\":\"https:\\\\/\\\\/www.musiciansfriend.com\\\\/guitars\\\\/reverend-descent-hc90-maple-fingerboard-baritone-electric-guitar\",\"image_url\":\"https:\\\\/\\\\/media.musiciansfriend.com\\\\/is\\\\/image\\\\/MMGS7\\\\/Descent-HC90-Maple-Fingerboard-Baritone-Electric-Guitar-Oceanside-Green\\\\/L19841000001000-00-220x220.jpg\",\"body_shape\":\"Double cutaway\",\"body_type\":\"Solid\",\"neck_joint\":\"Bolt-on\",\"neck_finish\":\"Gloss\",\"fretboard_material\":\"Maple\",\"number_of_frets\":\"22\",\"bridge_type\":\"Tremolo\",\"tuners\":\"Non-locking\",\"active_or_passive\":\"Passive\",\"pickup_configuration\":\"HH\",\"piezo\":\"No\"},{\"manufacturer\":\"Reverend\",\"price\":999.0,\"country\":\"South Korea\",\"product\":\"Double Agent W Maple Fingerboard Electric Guitar\",\"page_url\":\"https:\\\\/\\\\/www.musiciansfriend.com\\\\/guitars\\\\/reverend-double-agent-w-maple-fingerboard-electric-guitar\",\"image_url\":\"https:\\\\/\\\\/media.musiciansfriend.com\\\\/is\\\\/image\\\\/MMGS7\\\\/Double-Agent-W-Maple-Fingerboard-Electric-Guitar-Midnight-Black\\\\/L19831000001000-00-220x220.jpg\",\"body_shape\":\"Double cutaway\",\"body_type\":\"Solid\",\"neck_joint\":\"Bolt-on\",\"neck_finish\":\"Gloss\",\"fretboard_material\":\"Maple\",\"number_of_frets\":\"22\",\"bridge_type\":\"Tremolo\",\"tuners\":\"Non-locking\",\"active_or_passive\":\"Passive\",\"pickup_configuration\":\"HS\",\"piezo\":\"No\"},{\"manufacturer\":\"Reverend\",\"price\":899.0,\"country\":\"South Korea\",\"product\":\"Charger 290 Electric Guitar\",\"page_url\":\"https:\\\\/\\\\/www.musiciansfriend.com\\\\/guitars\\\\/reverend-charger-290-electric-guitar\",\"image_url\":\"https:\\\\/\\\\/media.musiciansfriend.com\\\\/is\\\\/image\\\\/MMGS7\\\\/Charger-290-Electric-Guitar-3-Tone-Burst\\\\/L19788000001000-00-220x220.jpg\",\"body_shape\":\"Single cutaway\",\"body_type\":\"Solid\",\"neck_joint\":\"Bolt-on\",\"neck_finish\":\"Gloss\",\"fretboard_material\":\"Other\",\"number_of_frets\":\"22\",\"bridge_type\":\"Fixed\",\"tuners\":\"Non-locking\",\"active_or_passive\":\"Passive\",\"pickup_configuration\":\"SS\",\"piezo\":\"No\"},{\"manufacturer\":\"Reverend\",\"price\":1199.0,\"country\":\"South Korea\",\"product\":\"Airsonic HB Electric Guitar\",\"page_url\":\"https:\\\\/\\\\/www.musiciansfriend.com\\\\/guitars\\\\/reverend-airsonic-hb-electric-guitar\",\"image_url\":\"https:\\\\/\\\\/media.musiciansfriend.com\\\\/is\\\\/image\\\\/MMGS7\\\\/Airsonic-HB-Electric-Guitar-Metallic-Silver-Freeze\\\\/L19787000001000-00-220x220.jpg\",\"body_shape\":\"Double cutaway\",\"body_type\":\"Solid\",\"neck_joint\":\"Bolt-on\",\"neck_finish\":\"Gloss\",\"fretboard_material\":\"Other\",\"number_of_frets\":\"22\",\"bridge_type\":\"Fixed\",\"tuners\":\"Non-locking\",\"active_or_passive\":\"Passive\",\"pickup_configuration\":\"HH\",\"piezo\":\"No\"},{\"manufacturer\":\"Schecter\",\"price\":699.0,\"country\":\"United States\",\"product\":\"Guitar ResearchLimited Edition CR-6 Electric Guitar\",\"page_url\":\"https:\\\\/\\\\/www.musiciansfriend.com\\\\/guitars\\\\/schecter-guitar-research-limited-edition-cr-6-electric-guitar\",\"image_url\":\"https:\\\\/\\\\/media.musiciansfriend.com\\\\/is\\\\/image\\\\/MMGS7\\\\/Limited-Edition-CR-6-Electric-Guitar-Aurora-Burst\\\\/L18018000001000-00-220x220.jpg\",\"body_shape\":\"Double cutaway\",\"body_type\":\"Solid\",\"neck_joint\":\"Bolt-on\",\"neck_finish\":\"Satin\",\"fretboard_material\":\"Other\",\"number_of_frets\":\"24\",\"bridge_type\":\"Fixed\",\"tuners\":\"Non-locking\",\"active_or_passive\":\"Passive\",\"pickup_configuration\":\"HH\",\"piezo\":\"No\"},{\"manufacturer\":\"Schecter\",\"price\":299.99,\"country\":\"Indonesia\",\"product\":\"Guitar ResearchC-6 Elite Electric Guitar\",\"page_url\":\"https:\\\\/\\\\/www.musiciansfriend.com\\\\/guitars\\\\/schecter-guitar-research-c-6-elite-electric-guitar\",\"image_url\":\"https:\\\\/\\\\/media.musiciansfriend.com\\\\/is\\\\/image\\\\/MMGS7\\\\/C-6-Elite-Electric-Guitar-Silver-Burst\\\\/J82821000002000-00-220x220.jpg\",\"body_shape\":\"Double cutaway\",\"body_type\":\"Solid\",\"neck_joint\":\"Bolt-on\",\"neck_finish\":\"Satin\",\"fretboard_material\":\"Rosewood\",\"number_of_frets\":\"24\",\"bridge_type\":\"Fixed\",\"tuners\":\"Non-locking\",\"active_or_passive\":\"Passive\",\"pickup_configuration\":\"HH\",\"piezo\":\"No\"},{\"manufacturer\":\"Schecter\",\"price\":1149.0,\"country\":\"South Korea\",\"product\":\"Guitar ResearchE-1 Koa Electric Guitar\",\"page_url\":\"https:\\\\/\\\\/www.musiciansfriend.com\\\\/guitars\\\\/schecter-guitar-research-e-1-koa-electric-guitar\",\"image_url\":\"https:\\\\/\\\\/media.musiciansfriend.com\\\\/is\\\\/image\\\\/MMGS7\\\\/E-1-Koa-Electric-Guitar-Natural-Satin\\\\/K40646000001000-00-220x220.jpg\",\"body_shape\":\"Z\",\"body_type\":\"Solid\",\"neck_joint\":\"Set-in\",\"neck_finish\":\"Satin\",\"fretboard_material\":\"Ebony\",\"number_of_frets\":\"22\",\"bridge_type\":\"Fixed\",\"tuners\":\"Locking\",\"active_or_passive\":\"Passive\",\"pickup_configuration\":\"HH\",\"piezo\":\"No\"},{\"manufacturer\":\"Schecter\",\"price\":1399.0,\"country\":\"South Korea\",\"product\":\"Guitar ResearchKM-6 MK-II Keith Merrow Electric Guitar\",\"page_url\":\"https:\\\\/\\\\/www.musiciansfriend.com\\\\/guitars\\\\/schecter-guitar-research-km-6-mk-ii-keith-merrow-electric-guitar\",\"image_url\":\"https:\\\\/\\\\/media.musiciansfriend.com\\\\/is\\\\/image\\\\/MMGS7\\\\/KM-6-MK-II-Keith-Merrow-Electric-Guitar-Natural-Pearl\\\\/L19806000001000-00-220x220.jpg\",\"body_shape\":\"Double cutaway\",\"body_type\":\"Solid\",\"neck_joint\":\"Neck-thru\",\"neck_finish\":\"Unknown\",\"fretboard_material\":\"Ebony\",\"number_of_frets\":\"24\",\"bridge_type\":\"Fixed\",\"tuners\":\"Locking\",\"active_or_passive\":\"Passive\",\"pickup_configuration\":\"HH\",\"piezo\":\"No\"},{\"manufacturer\":\"Schecter\",\"price\":1259.0,\"country\":\"South Korea\",\"product\":\"Guitar ResearchC-1 FR SLS Elite Electric Guitar\",\"page_url\":\"https:\\\\/\\\\/www.musiciansfriend.com\\\\/guitars\\\\/schecter-guitar-research-c-1-fr-sls-elite-electric-guitar\",\"image_url\":\"https:\\\\/\\\\/media.musiciansfriend.com\\\\/is\\\\/image\\\\/MMGS7\\\\/C-1-FR-SLS-Elite-Electric-Guitar-Antique-Fade-Burst\\\\/K90838000001000-00-220x220.jpg\",\"body_shape\":\"Double cutaway\",\"body_type\":\"Solid\",\"neck_joint\":\"Neck-thru\",\"neck_finish\":\"Unknown\",\"fretboard_material\":\"Ebony\",\"number_of_frets\":\"24\",\"bridge_type\":\"Tremolo\",\"tuners\":\"Non-locking\",\"active_or_passive\":\"Active\",\"pickup_configuration\":\"HH\",\"piezo\":\"No\"},{\"manufacturer\":\"Schecter\",\"price\":749.0,\"country\":\"Indonesia\",\"product\":\"Guitar ResearchNick Johnston Traditional Electric Guitar\",\"page_url\":\"https:\\\\/\\\\/www.musiciansfriend.com\\\\/guitars\\\\/schecter-guitar-research-nick-johnston-traditional-electric-guitar\",\"image_url\":\"https:\\\\/\\\\/media.musiciansfriend.com\\\\/is\\\\/image\\\\/MMGS7\\\\/Nick-Johnston-Traditional-Electric-Guitar-Atomic-Green-Mint-Green-Pickguard\\\\/L45014000001001-00-220x220.jpg\",\"body_shape\":\"Double cutaway\",\"body_type\":\"Solid\",\"neck_joint\":\"Bolt-on\",\"neck_finish\":\"Satin\",\"fretboard_material\":\"Ebony\",\"number_of_frets\":\"22\",\"bridge_type\":\"Tremolo\",\"tuners\":\"Locking\",\"active_or_passive\":\"Passive\",\"pickup_configuration\":\"SSS\",\"piezo\":\"No\"},{\"manufacturer\":\"Schecter\",\"price\":599.0,\"country\":\"South Korea\",\"product\":\"Guitar ResearchPT Fastback IIB Electric Guitar\",\"page_url\":\"https:\\\\/\\\\/www.musiciansfriend.com\\\\/guitars\\\\/schecter-guitar-research-pt-fastback-iib-electric-guitar\",\"image_url\":\"https:\\\\/\\\\/media.musiciansfriend.com\\\\/is\\\\/image\\\\/MMGS7\\\\/PT-Fastback-IIB-Electric-Guitar-Metallic-Red-Black-Pickguard\\\\/L18019000002001-00-220x220.jpg\",\"body_shape\":\"Single cutaway\",\"body_type\":\"Solid\",\"neck_joint\":\"Bolt-on\",\"neck_finish\":\"Gloss\",\"fretboard_material\":\"Rosewood\",\"number_of_frets\":\"22\",\"bridge_type\":\"Tremolo\",\"tuners\":\"Non-locking\",\"active_or_passive\":\"Passive\",\"pickup_configuration\":\"HH\",\"piezo\":\"No\"},{\"manufacturer\":\"Schecter\",\"price\":1079.2,\"country\":\"South Korea\",\"product\":\"Guitar ResearchKeith Merrow KM-6 Signature Electric Guitar\",\"page_url\":\"https:\\\\/\\\\/www.musiciansfriend.com\\\\/guitars\\\\/open-box-schecter-guitar-research-keith-merrow-km-6-signature-electric-guitar\",\"image_url\":\"https:\\\\/\\\\/media.musiciansfriend.com\\\\/is\\\\/image\\\\/MMGS7\\\\/Keith-Merrow-KM-6-Signature-Electric-Guitar-Level-1-Satin-Transparent-White\\\\/L18437000002000-00-220x220.jpg\",\"body_shape\":\"Double cutaway\",\"body_type\":\"Solid\",\"neck_joint\":\"Set-in\",\"neck_finish\":\"Unknown\",\"fretboard_material\":\"Ebony\",\"number_of_frets\":\"24\",\"bridge_type\":\"Fixed\",\"tuners\":\"Locking\",\"active_or_passive\":\"Passive\",\"pickup_configuration\":\"HH\",\"piezo\":\"No\"},{\"manufacturer\":\"Squier\",\"price\":349.99,\"country\":\"Unknown\",\"product\":\"Contemporary Stratocaster HSS Rosewood Fingerboard Electric Guitar\",\"page_url\":\"https:\\\\/\\\\/www.musiciansfriend.com\\\\/guitars\\\\/squier-contemporary-stratocaster-hss-rosewood-fingerboard-electric-guitar\",\"image_url\":\"https:\\\\/\\\\/media.musiciansfriend.com\\\\/is\\\\/image\\\\/MMGS7\\\\/Contemporary-Stratocaster-HSS-Rosewood-Fingerboard-Electric-Guitar-Pearl-White\\\\/K47910000001000-00-220x220.jpg\",\"body_shape\":\"Double cutaway\",\"body_type\":\"Solid\",\"neck_joint\":\"Bolt-on\",\"neck_finish\":\"Satin\",\"fretboard_material\":\"Rosewood\",\"number_of_frets\":\"22\",\"bridge_type\":\"Tremolo\",\"tuners\":\"Non-locking\",\"active_or_passive\":\"Passive\",\"pickup_configuration\":\"HSS\",\"piezo\":\"No\"},{\"manufacturer\":\"Squier\",\"price\":399.99,\"country\":\"Unknown\",\"product\":\"Contemporary Active Stratocaster HH Rosewood Fingerboard Electric Guitar\",\"page_url\":\"https:\\\\/\\\\/www.musiciansfriend.com\\\\/guitars\\\\/squier-contemporary-active-stratocaster-hh-rosewood-fingerboard-electric-guitar\",\"image_url\":\"https:\\\\/\\\\/media.musiciansfriend.com\\\\/is\\\\/image\\\\/MMGS7\\\\/Contemporary-Active-Stratocaster-HH-Rosewood-Fingerboard-Electric-Guitar-Olympic-White\\\\/K47912000001000-00-220x220.jpg\",\"body_shape\":\"Double cutaway\",\"body_type\":\"Solid\",\"neck_joint\":\"Bolt-on\",\"neck_finish\":\"Satin\",\"fretboard_material\":\"Rosewood\",\"number_of_frets\":\"22\",\"bridge_type\":\"Tremolo\",\"tuners\":\"Non-locking\",\"active_or_passive\":\"Active\",\"pickup_configuration\":\"HH\",\"piezo\":\"No\"},{\"manufacturer\":\"Squier\",\"price\":149.99,\"country\":\"Indonesia\",\"product\":\"Bullet Stratocaster Tremolo HSS Limited Edition Electric Guitar\",\"page_url\":\"https:\\\\/\\\\/www.musiciansfriend.com\\\\/guitars\\\\/squier-bullet-stratocaster-tremolo-hss-limited-edition-electric-guitar\",\"image_url\":\"https:\\\\/\\\\/media.musiciansfriend.com\\\\/is\\\\/image\\\\/MMGS7\\\\/Bullet-Stratocaster-Tremolo-HSS-Limited-Edition-Electric-Guitar-Sea-Foam-Green\\\\/L21630000001000-00-220x220.jpg\",\"body_shape\":\"Double cutaway\",\"body_type\":\"Solid\",\"neck_joint\":\"Bolt-on\",\"neck_finish\":\"Satin\",\"fretboard_material\":\"Other\",\"number_of_frets\":\"21\",\"bridge_type\":\"Tremolo\",\"tuners\":\"Non-locking\",\"active_or_passive\":\"Passive\",\"pickup_configuration\":\"HSS\",\"piezo\":\"No\"},{\"manufacturer\":\"Squier\",\"price\":349.99,\"country\":\"Unknown\",\"product\":\"Contemporary Stratocaster HH Maple Fingerboard Electric Guitar\",\"page_url\":\"https:\\\\/\\\\/www.musiciansfriend.com\\\\/guitars\\\\/squier-contemporary-stratocaster-hh-maple-fingerboard-electric-guitar\",\"image_url\":\"https:\\\\/\\\\/media.musiciansfriend.com\\\\/is\\\\/image\\\\/MMGS7\\\\/Contemporary-Stratocaster-HH-Maple-Fingerboard-Electric-Guitar-Pearl-White\\\\/K47881000001000-00-220x220.jpg\",\"body_shape\":\"Double cutaway\",\"body_type\":\"Solid\",\"neck_joint\":\"Bolt-on\",\"neck_finish\":\"Satin\",\"fretboard_material\":\"Maple\",\"number_of_frets\":\"22\",\"bridge_type\":\"Tremolo\",\"tuners\":\"Non-locking\",\"active_or_passive\":\"Passive\",\"pickup_configuration\":\"HH\",\"piezo\":\"No\"},{\"manufacturer\":\"Squier\",\"price\":199.99,\"country\":\"China\",\"product\":\"Affinity Stratocaster Electric Guitar\",\"page_url\":\"https:\\\\/\\\\/www.musiciansfriend.com\\\\/guitars\\\\/squier-affinity-stratocaster-electric-guitar\",\"image_url\":\"https:\\\\/\\\\/media.musiciansfriend.com\\\\/is\\\\/image\\\\/MMGS7\\\\/Affinity-Stratocaster-Electric-Guitar-Race-Red\\\\/L34912000004000-00-220x220.jpg\",\"body_shape\":\"Double cutaway\",\"body_type\":\"Solid\",\"neck_joint\":\"Bolt-on\",\"neck_finish\":\"Gloss\",\"fretboard_material\":\"Other\",\"number_of_frets\":\"21\",\"bridge_type\":\"Tremolo\",\"tuners\":\"Non-locking\",\"active_or_passive\":\"Passive\",\"pickup_configuration\":\"SSS\",\"piezo\":\"No\"},{\"manufacturer\":\"Squier\",\"price\":149.99,\"country\":\"Indonesia\",\"product\":\"Bullet Stratocaster HSS HT Electric Guitar\",\"page_url\":\"https:\\\\/\\\\/www.musiciansfriend.com\\\\/guitars\\\\/squier-bullet-stratocaster-hss-ht-electric-guitar\",\"image_url\":\"https:\\\\/\\\\/media.musiciansfriend.com\\\\/is\\\\/image\\\\/MMGS7\\\\/Bullet-Stratocaster-HSS-HT-Electric-Guitar-Brown-Sunburst\\\\/L20451000002000-00-220x220.jpg\",\"body_shape\":\"Double cutaway\",\"body_type\":\"Solid\",\"neck_joint\":\"Bolt-on\",\"neck_finish\":\"Satin\",\"fretboard_material\":\"Other\",\"number_of_frets\":\"21\",\"bridge_type\":\"Fixed\",\"tuners\":\"Non-locking\",\"active_or_passive\":\"Passive\",\"pickup_configuration\":\"HSS\",\"piezo\":\"No\"},{\"manufacturer\":\"Squier\",\"price\":399.99,\"country\":\"Indonesia\",\"product\":\"Classic Vibe 60s Jazzmaster Left-Handed Electric Guitar\",\"page_url\":\"https:\\\\/\\\\/www.musiciansfriend.com\\\\/guitars\\\\/squier-classic-vibe-60s-jazzmaster-left-handed-electric-guitar\",\"image_url\":\"https:\\\\/\\\\/media.musiciansfriend.com\\\\/is\\\\/image\\\\/MMGS7\\\\/Classic-Vibe-60s-Jazzmaster-Left-Handed-Electric-Guitar-Olympic-White\\\\/L48195000001000-00-220x220.jpg\",\"body_shape\":\"Double cutaway\",\"body_type\":\"Solid\",\"neck_joint\":\"Bolt-on\",\"neck_finish\":\"Unknown\",\"fretboard_material\":\"Other\",\"number_of_frets\":\"21\",\"bridge_type\":\"Tremolo\",\"tuners\":\"Non-locking\",\"active_or_passive\":\"Passive\",\"pickup_configuration\":\"SS\",\"piezo\":\"No\"},{\"manufacturer\":\"Squier\",\"price\":399.99,\"country\":\"Indonesia\",\"product\":\"Classic Vibe 70s Jaguar Electric Guitar\",\"page_url\":\"https:\\\\/\\\\/www.musiciansfriend.com\\\\/guitars\\\\/squier-classic-vibe-70s-jaguar-electric-guitar\",\"image_url\":\"https:\\\\/\\\\/media.musiciansfriend.com\\\\/is\\\\/image\\\\/MMGS7\\\\/Classic-Vibe-70s-Jaguar-Electric-Guitar-3-Color-Sunburst\\\\/L48181000001000-00-220x220.jpg\",\"body_shape\":\"Unknown\",\"body_type\":\"Solid\",\"neck_joint\":\"Bolt-on\",\"neck_finish\":\"Unknown\",\"fretboard_material\":\"Other\",\"number_of_frets\":\"22\",\"bridge_type\":\"Tremolo\",\"tuners\":\"Non-locking\",\"active_or_passive\":\"Passive\",\"pickup_configuration\":\"SS\",\"piezo\":\"No\"},{\"manufacturer\":\"Squier\",\"price\":349.99,\"country\":\"Indonesia\",\"product\":\"Classic Vibe 70s Stratocaster HSS Electric Guitar\",\"page_url\":\"https:\\\\/\\\\/www.musiciansfriend.com\\\\/guitars\\\\/squier-classic-vibe-70s-stratocaster-hss-electric-guitar\",\"image_url\":\"https:\\\\/\\\\/media.musiciansfriend.com\\\\/is\\\\/image\\\\/MMGS7\\\\/Classic-Vibe-70s-Stratocaster-HSS-Electric-Guitar-Walnut\\\\/L47908000001000-00-220x220.jpg\",\"body_shape\":\"Double cutaway\",\"body_type\":\"Solid\",\"neck_joint\":\"Bolt-on\",\"neck_finish\":\"Unknown\",\"fretboard_material\":\"Other\",\"number_of_frets\":\"21\",\"bridge_type\":\"Tremolo\",\"tuners\":\"Non-locking\",\"active_or_passive\":\"Passive\",\"pickup_configuration\":\"HSS\",\"piezo\":\"No\"},{\"manufacturer\":\"Squier\",\"price\":349.99,\"country\":\"Unknown\",\"product\":\"Contemporary Stratocaster HH Maple Fingerboard Left-Handed Electric Guitar\",\"page_url\":\"https:\\\\/\\\\/www.musiciansfriend.com\\\\/guitars\\\\/squier-contemporary-stratocaster-hh-maple-fingerboard-left-handed-electric-guitar\",\"image_url\":\"https:\\\\/\\\\/media.musiciansfriend.com\\\\/is\\\\/image\\\\/MMGS7\\\\/Contemporary-Stratocaster-HH-Maple-Fingerboard-Left-Handed-Electric-Guitar-Black-Metallic\\\\/L48822000001000-00-220x220.jpg\",\"body_shape\":\"Double cutaway\",\"body_type\":\"Solid\",\"neck_joint\":\"Bolt-on\",\"neck_finish\":\"Satin\",\"fretboard_material\":\"Maple\",\"number_of_frets\":\"22\",\"bridge_type\":\"Tremolo\",\"tuners\":\"Non-locking\",\"active_or_passive\":\"Passive\",\"pickup_configuration\":\"HH\",\"piezo\":\"No\"},{\"manufacturer\":\"Squier\",\"price\":349.99,\"country\":\"Indonesia\",\"product\":\"Classic Vibe 60s Mustang Electric Guitar\",\"page_url\":\"https:\\\\/\\\\/www.musiciansfriend.com\\\\/guitars\\\\/squier-classic-vibe-60s-mustang-electric-guitar\",\"image_url\":\"https:\\\\/\\\\/media.musiciansfriend.com\\\\/is\\\\/image\\\\/MMGS7\\\\/Classic-Vibe-60s-Mustang-Electric-Guitar-Sonic-Blue\\\\/L48204000001000-00-220x220.jpg\",\"body_shape\":\"Double cutaway\",\"body_type\":\"Solid\",\"neck_joint\":\"Bolt-on\",\"neck_finish\":\"Unknown\",\"fretboard_material\":\"Other\",\"number_of_frets\":\"22\",\"bridge_type\":\"Tremolo\",\"tuners\":\"Non-locking\",\"active_or_passive\":\"Passive\",\"pickup_configuration\":\"SS\",\"piezo\":\"No\"},{\"manufacturer\":\"Squier\",\"price\":349.99,\"country\":\"Indonesia\",\"product\":\"Classic Vibe 70s Stratocaster HSS Maple Fingerboard Left-Handed Electric Guitar\",\"page_url\":\"https:\\\\/\\\\/www.musiciansfriend.com\\\\/guitars\\\\/squier-classic-vibe-70s-stratocaster-hss-maple-fingerboard-left-handed-electric-guitar\",\"image_url\":\"https:\\\\/\\\\/media.musiciansfriend.com\\\\/is\\\\/image\\\\/MMGS7\\\\/Classic-Vibe-70s-Stratocaster-HSS-Maple-Fingerboard-Left-Handed-Electric-Guitar-Black\\\\/L48193000001000-00-220x220.jpg\",\"body_shape\":\"Double cutaway\",\"body_type\":\"Solid\",\"neck_joint\":\"Bolt-on\",\"neck_finish\":\"Unknown\",\"fretboard_material\":\"Other\",\"number_of_frets\":\"21\",\"bridge_type\":\"Tremolo\",\"tuners\":\"Non-locking\",\"active_or_passive\":\"Passive\",\"pickup_configuration\":\"HSS\",\"piezo\":\"No\"},{\"manufacturer\":\"Squier\",\"price\":399.99,\"country\":\"Indonesia\",\"product\":\"Classic Vibe 60s Jazzmaster Electric Guitar\",\"page_url\":\"https:\\\\/\\\\/www.musiciansfriend.com\\\\/guitars\\\\/squier-classic-vibe-60s-jazzmaster-electric-guitar\",\"image_url\":\"https:\\\\/\\\\/media.musiciansfriend.com\\\\/is\\\\/image\\\\/MMGS7\\\\/Classic-Vibe-60s-Jazzmaster-Electric-Guitar-3-Color-Sunburst\\\\/L48185000001000-00-220x220.jpg\",\"body_shape\":\"Double cutaway\",\"body_type\":\"Solid\",\"neck_joint\":\"Bolt-on\",\"neck_finish\":\"Unknown\",\"fretboard_material\":\"Other\",\"number_of_frets\":\"21\",\"bridge_type\":\"Tremolo\",\"tuners\":\"Non-locking\",\"active_or_passive\":\"Passive\",\"pickup_configuration\":\"SS\",\"piezo\":\"No\"},{\"manufacturer\":\"Squier\",\"price\":399.99,\"country\":\"Indonesia\",\"product\":\"Classic Vibe 70s Telecaster Thinline Maple Fingerboard Electric Guitar\",\"page_url\":\"https:\\\\/\\\\/www.musiciansfriend.com\\\\/guitars\\\\/squier-classic-vibe-70s-telecaster-thinline-maple-fingerboard-electric-guitar\",\"image_url\":\"https:\\\\/\\\\/media.musiciansfriend.com\\\\/is\\\\/image\\\\/MMGS7\\\\/Classic-Vibe-70s-Telecaster-Thinline-Maple-Fingerboard-Electric-Guitar-3-Color-Sunburst\\\\/L47968000001000-00-220x220.jpg\",\"body_shape\":\"Single cutaway\",\"body_type\":\"Semi-hollow\",\"neck_joint\":\"Bolt-on\",\"neck_finish\":\"Unknown\",\"fretboard_material\":\"Maple\",\"number_of_frets\":\"21\",\"bridge_type\":\"Fixed\",\"tuners\":\"Non-locking\",\"active_or_passive\":\"Passive\",\"pickup_configuration\":\"HH\",\"piezo\":\"No\"},{\"manufacturer\":\"Squier\",\"price\":399.99,\"country\":\"Indonesia\",\"product\":\"Classic Vibe 70s Telecaster Custom Maple Fingerboard Electric Guitar\",\"page_url\":\"https:\\\\/\\\\/www.musiciansfriend.com\\\\/guitars\\\\/squier-classic-vibe-70s-telecaster-custom-maple-fingerboard-electric-guitar\",\"image_url\":\"https:\\\\/\\\\/media.musiciansfriend.com\\\\/is\\\\/image\\\\/MMGS7\\\\/Classic-Vibe-70s-Telecaster-Custom-Maple-Fingerboard-Electric-Guitar-Black\\\\/L47965000002000-00-220x220.jpg\",\"body_shape\":\"Single cutaway\",\"body_type\":\"Solid\",\"neck_joint\":\"Bolt-on\",\"neck_finish\":\"Unknown\",\"fretboard_material\":\"Maple\",\"number_of_frets\":\"21\",\"bridge_type\":\"Fixed\",\"tuners\":\"Non-locking\",\"active_or_passive\":\"Passive\",\"pickup_configuration\":\"Unknown\",\"piezo\":\"No\"},{\"manufacturer\":\"Squier\",\"price\":349.99,\"country\":\"Indonesia\",\"product\":\"Classic Vibe 70s Stratocaster HSS Maple Fingerboard Electric Guitar\",\"page_url\":\"https:\\\\/\\\\/www.musiciansfriend.com\\\\/guitars\\\\/squier-classic-vibe-70s-stratocaster-hss-maple-fingerboard-electric-guitar\",\"image_url\":\"https:\\\\/\\\\/media.musiciansfriend.com\\\\/is\\\\/image\\\\/MMGS7\\\\/Classic-Vibe-70s-Stratocaster-HSS-Maple-Fingerboard-Electric-Guitar-Black\\\\/L47907000001000-00-220x220.jpg\",\"body_shape\":\"Double cutaway\",\"body_type\":\"Solid\",\"neck_joint\":\"Bolt-on\",\"neck_finish\":\"Unknown\",\"fretboard_material\":\"Maple\",\"number_of_frets\":\"21\",\"bridge_type\":\"Tremolo\",\"tuners\":\"Non-locking\",\"active_or_passive\":\"Passive\",\"pickup_configuration\":\"HSS\",\"piezo\":\"No\"},{\"manufacturer\":\"Squier\",\"price\":149.99,\"country\":\"Indonesia\",\"product\":\"Bullet Stratocaster Limited Edition Electric Guitar\",\"page_url\":\"https:\\\\/\\\\/www.musiciansfriend.com\\\\/guitars\\\\/squier-bullet-stratocaster-limited-edition-electric-guitar\",\"image_url\":\"https:\\\\/\\\\/media.musiciansfriend.com\\\\/is\\\\/image\\\\/MMGS7\\\\/Bullet-Stratocaster-Limited-Edition-Electric-Guitar-Red-Sparkle\\\\/L18910000001000-00-220x220.jpg\",\"body_shape\":\"Double cutaway\",\"body_type\":\"Solid\",\"neck_joint\":\"Unknown\",\"neck_finish\":\"Gloss\",\"fretboard_material\":\"Other\",\"number_of_frets\":\"21\",\"bridge_type\":\"Tremolo\",\"tuners\":\"Non-locking\",\"active_or_passive\":\"Passive\",\"pickup_configuration\":\"HH\",\"piezo\":\"No\"},{\"manufacturer\":\"Squier\",\"price\":349.99,\"country\":\"Unknown\",\"product\":\"Contemporary Stratocaster HH Left-Handed Maple Fingerboard Electric Guitar\",\"page_url\":\"https:\\\\/\\\\/www.musiciansfriend.com\\\\/guitars\\\\/squier-contemporary-stratocaster-hh-left-handed-maple-fingerboard-electric-guitar\",\"image_url\":\"https:\\\\/\\\\/media.musiciansfriend.com\\\\/is\\\\/image\\\\/MMGS7\\\\/Contemporary-Stratocaster-HH-Left-Handed-Maple-Fingerboard-Electric-Guitar-Black-Metallic\\\\/K47909000001000-00-220x220.jpg\",\"body_shape\":\"Double cutaway\",\"body_type\":\"Solid\",\"neck_joint\":\"Bolt-on\",\"neck_finish\":\"Satin\",\"fretboard_material\":\"Maple\",\"number_of_frets\":\"22\",\"bridge_type\":\"Tremolo\",\"tuners\":\"Non-locking\",\"active_or_passive\":\"Passive\",\"pickup_configuration\":\"HH\",\"piezo\":\"No\"},{\"manufacturer\":\"Sterling\",\"price\":699.99,\"country\":\"Indonesia\",\"product\":\"by Music ManLuke Flame Maple Top Electric Guitar\",\"page_url\":\"https:\\\\/\\\\/www.musiciansfriend.com\\\\/guitars\\\\/sterling-by-music-man-luke-flame-maple-top-electric-guitar\",\"image_url\":\"https:\\\\/\\\\/media.musiciansfriend.com\\\\/is\\\\/image\\\\/MMGS7\\\\/Luke-Flame-Maple-Top-Electric-Guitar-Blueberry-Burst\\\\/L48239000001000-00-220x220.jpg\",\"body_shape\":\"Double cutaway\",\"body_type\":\"Solid\",\"neck_joint\":\"Bolt-on\",\"neck_finish\":\"Satin\",\"fretboard_material\":\"Rosewood\",\"number_of_frets\":\"22\",\"bridge_type\":\"Tremolo\",\"tuners\":\"Locking\",\"active_or_passive\":\"Passive\",\"pickup_configuration\":\"HH\",\"piezo\":\"No\"}]'"
      ]
     },
     "execution_count": 939,
     "metadata": {},
     "output_type": "execute_result"
    }
   ],
   "source": [
    "df2= df[['manufacturer', \n",
    "         'price',\n",
    "         'country',\n",
    "         'product',\n",
    "         'page_url',\n",
    "         'image_url',\n",
    "         'body_shape',\n",
    "         'body_type',\n",
    "         'neck_joint',\n",
    "         'neck_finish',\n",
    "         'fretboard_material',\n",
    "         'number_of_frets',\n",
    "         'bridge_type',\n",
    "         'tuners',\n",
    "         'active_or_passive',\n",
    "         'pickup_configuration',\n",
    "         'piezo']]\n",
    "\n",
    "#print(df2.to_json(orient='records', force_ascii=True))\n",
    "\n",
    "df2.to_json(orient='records')\n",
    "\n"
   ]
  },
  {
   "cell_type": "code",
   "execution_count": 603,
   "metadata": {
    "collapsed": true
   },
   "outputs": [],
   "source": [
    "with open('guitar_data.json', 'w') as f:\n",
    "    "
   ]
  },
  {
   "cell_type": "code",
   "execution_count": null,
   "metadata": {
    "collapsed": true
   },
   "outputs": [],
   "source": []
  }
 ],
 "metadata": {
  "kernelspec": {
   "display_name": "Python 3",
   "language": "python",
   "name": "python3"
  }
 },
 "nbformat": 4,
 "nbformat_minor": 2
}
